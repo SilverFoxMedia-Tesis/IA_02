{
  "nbformat": 4,
  "nbformat_minor": 0,
  "metadata": {
    "colab": {
      "provenance": [],
      "authorship_tag": "ABX9TyOp17XRSK8lsfsaT7+vs03F",
      "include_colab_link": true
    },
    "kernelspec": {
      "name": "python3",
      "display_name": "Python 3"
    },
    "language_info": {
      "name": "python"
    }
  },
  "cells": [
    {
      "cell_type": "markdown",
      "metadata": {
        "id": "view-in-github",
        "colab_type": "text"
      },
      "source": [
        "<a href=\"https://colab.research.google.com/github/SilverFoxMedia-Tesis/IA_02/blob/main/Random_Forest_Model_Flby.ipynb\" target=\"_parent\"><img src=\"https://colab.research.google.com/assets/colab-badge.svg\" alt=\"Open In Colab\"/></a>"
      ]
    },
    {
      "cell_type": "code",
      "execution_count": 1,
      "metadata": {
        "colab": {
          "base_uri": "https://localhost:8080/"
        },
        "id": "gGNEXdBlWmwL",
        "outputId": "6980d62d-11d4-4d99-f663-b55948851683"
      },
      "outputs": [
        {
          "output_type": "stream",
          "name": "stdout",
          "text": [
            "   Gender  Age  Diabetes  Weight  Height  AbdominalCircumference  \\\n",
            "0       1   39       2.0    75.0   171.0                    95.6   \n",
            "1       2   22       2.0    65.9   158.1                    89.5   \n",
            "2       2   20       2.0    58.3   161.5                    82.9   \n",
            "3       1   33       2.0    73.8   170.7                    93.7   \n",
            "4       2   38       2.0    53.9   151.5                    74.9   \n",
            "\n",
            "   PhysicalActivity      TMB  ClassificationIMC  Deficit  ...  \\\n",
            "0                 1  1749.00                  3  1399.20  ...   \n",
            "1                 2  2027.48                  3  1621.98  ...   \n",
            "2                 2  1949.09                  2  1559.27  ...   \n",
            "3                 1  1735.08                  3  1388.06  ...   \n",
            "4                 1  1297.93                  2  1038.34  ...   \n",
            "\n",
            "              almuerzo_1            almuerzo_2          almuerzo_3  \\\n",
            "0                Ham as   Navy baked with pork          Cornflakes   \n",
            "1                Herring        Raw 2 by 2 1/2         Rice flakes   \n",
            "2              Swordfish         Winter mashed         Puffed rice   \n",
            "3            Corned beef              Kohlrabi  Pancakes 4\"\" diam.   \n",
            "4  Corned beef hash Stew             Raw green             Noodles   \n",
            "\n",
            "         cena_1          cena_2       ejercicio_5  \\\n",
            "0  chicken soup  Raw 2 diameter  patadas de burro   \n",
            "1   Cream soups    Blackberries       abdominales   \n",
            "2        Noodle      Tangerines            Tablón   \n",
            "3   Tomato soup          Grapes         AVE perro   \n",
            "4   Tomato soup      Watermelon  Curl de martillo   \n",
            "\n",
            "                                      ejercicio_1  \\\n",
            "0                                     giros rusos   \n",
            "1            Elevaciones frontales con mancuernas   \n",
            "2                              Moscas en el pecho   \n",
            "3             Elevaciones de pantorrillas sentado   \n",
            "4  Extensiones de tríceps por encima de la cabeza   \n",
            "\n",
            "                           ejercicio_2               ejercicio_3  \\\n",
            "0                     hiperextensiones    Rizos de concentración   \n",
            "1                sentadillas con barra    Inmersiones de tríceps   \n",
            "2                sentadillas con barra     Elevaciones laterales   \n",
            "3                  Remo con mancuernas          patadas de burro   \n",
            "4  Elevaciones de pantorrillas sentado  Filas de cables sentados   \n",
            "\n",
            "                            ejercicio_4  \n",
            "0   Elevaciones de pantorrillas sentado  \n",
            "1  Curl con mancuernas con agarre gordo  \n",
            "2                Rizos de concentración  \n",
            "3                Inmersiones de tríceps  \n",
            "4                        Rizos de barra  \n",
            "\n",
            "[5 rows x 36 columns]\n"
          ]
        }
      ],
      "source": [
        "import pandas as pd\n",
        "import numpy as np\n",
        "\n",
        "# Make numpy values easier to read.\n",
        "# np.set_printoptions(precision=3, suppress=True)\n",
        "\n",
        "import tensorflow as tf\n",
        "from tensorflow.keras import layers\n",
        "\n",
        "datos = pd.read_csv(\"/dataset_final_v4.csv\")\n",
        "print(datos.head())\n",
        "\n",
        "from sklearn.ensemble import RandomForestClassifier\n",
        "from sklearn.model_selection import train_test_split\n",
        "from sklearn.metrics import classification_report\n",
        "\n",
        "input_columns = [\n",
        "    \"Deficit\",\n",
        "    \"desayuno_carbs\",\n",
        "    \"desayuno_proten\",\n",
        "    \"desayuno_grasas\",\n",
        "    \"almuerzo_carbs\",\n",
        "    \"almuerzo_proten\",\n",
        "    \"almuerzo_grasas\",\n",
        "    \"cena_carbs\",\n",
        "    \"cena_proten\",\n",
        "    \"cena_grasas\"\n",
        "]\n",
        "output_columns = [\n",
        "    \"desayuno_1\",\n",
        "    \"desayuno_2\",\n",
        "    \"desayuno_3\",\n",
        "    \"almuerzo_1\",\n",
        "    \"almuerzo_2\",\n",
        "    \"almuerzo_3\",\n",
        "    \"cena_1\",\n",
        "    \"cena_2\"\n",
        "]\n",
        "\n",
        "filtered_df = datos[input_columns + output_columns].dropna()\n",
        "output_mappings = {}\n",
        "for col in output_columns:\n",
        "    filtered_df[col], output_mappings[col] = filtered_df[col].factorize()\n",
        "X = filtered_df[input_columns].values\n",
        "y = filtered_df[output_columns].values\n",
        "X_train, X_test, y_train, y_test = train_test_split(X, y, test_size=0.2, random_state=42)\n",
        "models = {col: RandomForestClassifier(n_estimators=100, random_state=42) for col in output_columns}\n",
        "\n",
        "for idx, col in enumerate(output_columns):\n",
        "    models[col].fit(X_train, y_train[:, idx])\n",
        "\n",
        "predictions = np.zeros(y_test.shape)\n",
        "for idx, col in enumerate(output_columns):\n",
        "    predictions[:, idx] = models[col].predict(X_test)\n",
        "\n"
      ]
    },
    {
      "cell_type": "code",
      "source": [
        "# Selecciona un único dato de prueba (por ejemplo, el primer dato del conjunto de prueba)\n",
        "single_test = X_test[0].reshape(1, -1)\n",
        "true_labels = y_test[0]\n",
        "\n",
        "# Predice para el único dato\n",
        "single_predictions = []\n",
        "for idx, col in enumerate(output_columns):\n",
        "    single_predictions.append(models[col].predict(single_test)[0])\n",
        "\n",
        "# Comparar predicciones con etiquetas reales\n",
        "print(\"Predicciones:\", single_predictions)\n",
        "print(\"Etiquetas reales:\", true_labels)\n",
        "\n",
        "# Puedes decodificar las etiquetas usando los mapeos inversos para obtener los nombres de comida\n",
        "decoded_predictions = [list(output_mappings[col])[pred] for col, pred in zip(output_columns, single_predictions)]\n",
        "decoded_true_labels = [list(output_mappings[col])[true_label] for col, true_label in zip(output_columns, true_labels)]\n",
        "\n",
        "print(\"Predicciones decodificadas:\", decoded_predictions)\n",
        "print(\"Etiquetas reales decodificadas:\", decoded_true_labels)\n"
      ],
      "metadata": {
        "colab": {
          "base_uri": "https://localhost:8080/"
        },
        "id": "O30qrfqYW4Bj",
        "outputId": "bc5f7634-c5e9-4fdc-9472-057cb9c90aac"
      },
      "execution_count": 2,
      "outputs": [
        {
          "output_type": "stream",
          "name": "stdout",
          "text": [
            "Predicciones: [2, 2, 9, 14, 11, 16, 8, 7]\n",
            "Etiquetas reales: [ 3  1 12 26  2 19  3 17]\n",
            "Predicciones decodificadas: ['Processed cheese', 'Swiss', 'Raw red', 'Bacon', 'heated peas', 'Puffed wheat presweetened', 'Bouillon', 'Raw red']\n",
            "Etiquetas reales decodificadas: ['Cream cheese', 'Eggs raw', 'Fresh raw figs', 'Salmon', 'Winter mashed', 'Wheat germ', 'Tomato soup', 'Raspberries']\n"
          ]
        }
      ]
    },
    {
      "cell_type": "code",
      "source": [
        "import joblib\n",
        "\n",
        "# Guardar los modelos en archivos individuales\n",
        "for col, model in models.items():\n",
        "    joblib.dump(model, f'{col}_model.pkl')\n",
        "\n",
        "# Guarda también los mapeos para las etiquetas\n",
        "joblib.dump(output_mappings, 'output_mappings.pkl')\n"
      ],
      "metadata": {
        "colab": {
          "base_uri": "https://localhost:8080/"
        },
        "id": "FB8pLQm_W5SP",
        "outputId": "fd2bea36-34a7-4193-99d9-63aeb1e7edde"
      },
      "execution_count": 3,
      "outputs": [
        {
          "output_type": "execute_result",
          "data": {
            "text/plain": [
              "['output_mappings.pkl']"
            ]
          },
          "metadata": {},
          "execution_count": 3
        }
      ]
    },
    {
      "cell_type": "code",
      "source": [
        "from google.colab import files\n",
        "\n",
        "# Descargar cada archivo individualmente\n",
        "files.download('desayuno_1_model.pkl')\n",
        "files.download('desayuno_2_model.pkl')\n",
        "files.download('output_mappings.pkl')\n"
      ],
      "metadata": {
        "colab": {
          "base_uri": "https://localhost:8080/",
          "height": 17
        },
        "id": "Cxqy1bz4Y89A",
        "outputId": "32c5b2e3-0e2e-4045-b300-6d10650940b1"
      },
      "execution_count": 4,
      "outputs": [
        {
          "output_type": "display_data",
          "data": {
            "text/plain": [
              "<IPython.core.display.Javascript object>"
            ],
            "application/javascript": [
              "\n",
              "    async function download(id, filename, size) {\n",
              "      if (!google.colab.kernel.accessAllowed) {\n",
              "        return;\n",
              "      }\n",
              "      const div = document.createElement('div');\n",
              "      const label = document.createElement('label');\n",
              "      label.textContent = `Downloading \"${filename}\": `;\n",
              "      div.appendChild(label);\n",
              "      const progress = document.createElement('progress');\n",
              "      progress.max = size;\n",
              "      div.appendChild(progress);\n",
              "      document.body.appendChild(div);\n",
              "\n",
              "      const buffers = [];\n",
              "      let downloaded = 0;\n",
              "\n",
              "      const channel = await google.colab.kernel.comms.open(id);\n",
              "      // Send a message to notify the kernel that we're ready.\n",
              "      channel.send({})\n",
              "\n",
              "      for await (const message of channel.messages) {\n",
              "        // Send a message to notify the kernel that we're ready.\n",
              "        channel.send({})\n",
              "        if (message.buffers) {\n",
              "          for (const buffer of message.buffers) {\n",
              "            buffers.push(buffer);\n",
              "            downloaded += buffer.byteLength;\n",
              "            progress.value = downloaded;\n",
              "          }\n",
              "        }\n",
              "      }\n",
              "      const blob = new Blob(buffers, {type: 'application/binary'});\n",
              "      const a = document.createElement('a');\n",
              "      a.href = window.URL.createObjectURL(blob);\n",
              "      a.download = filename;\n",
              "      div.appendChild(a);\n",
              "      a.click();\n",
              "      div.remove();\n",
              "    }\n",
              "  "
            ]
          },
          "metadata": {}
        },
        {
          "output_type": "display_data",
          "data": {
            "text/plain": [
              "<IPython.core.display.Javascript object>"
            ],
            "application/javascript": [
              "download(\"download_ad8ab138-9c9a-49c0-a5ba-d7a60a3ceca3\", \"desayuno_1_model.pkl\", 385229641)"
            ]
          },
          "metadata": {}
        },
        {
          "output_type": "display_data",
          "data": {
            "text/plain": [
              "<IPython.core.display.Javascript object>"
            ],
            "application/javascript": [
              "\n",
              "    async function download(id, filename, size) {\n",
              "      if (!google.colab.kernel.accessAllowed) {\n",
              "        return;\n",
              "      }\n",
              "      const div = document.createElement('div');\n",
              "      const label = document.createElement('label');\n",
              "      label.textContent = `Downloading \"${filename}\": `;\n",
              "      div.appendChild(label);\n",
              "      const progress = document.createElement('progress');\n",
              "      progress.max = size;\n",
              "      div.appendChild(progress);\n",
              "      document.body.appendChild(div);\n",
              "\n",
              "      const buffers = [];\n",
              "      let downloaded = 0;\n",
              "\n",
              "      const channel = await google.colab.kernel.comms.open(id);\n",
              "      // Send a message to notify the kernel that we're ready.\n",
              "      channel.send({})\n",
              "\n",
              "      for await (const message of channel.messages) {\n",
              "        // Send a message to notify the kernel that we're ready.\n",
              "        channel.send({})\n",
              "        if (message.buffers) {\n",
              "          for (const buffer of message.buffers) {\n",
              "            buffers.push(buffer);\n",
              "            downloaded += buffer.byteLength;\n",
              "            progress.value = downloaded;\n",
              "          }\n",
              "        }\n",
              "      }\n",
              "      const blob = new Blob(buffers, {type: 'application/binary'});\n",
              "      const a = document.createElement('a');\n",
              "      a.href = window.URL.createObjectURL(blob);\n",
              "      a.download = filename;\n",
              "      div.appendChild(a);\n",
              "      a.click();\n",
              "      div.remove();\n",
              "    }\n",
              "  "
            ]
          },
          "metadata": {}
        },
        {
          "output_type": "display_data",
          "data": {
            "text/plain": [
              "<IPython.core.display.Javascript object>"
            ],
            "application/javascript": [
              "download(\"download_c4d55563-281d-4107-b407-ba49ec5a47b0\", \"desayuno_2_model.pkl\", 160098417)"
            ]
          },
          "metadata": {}
        },
        {
          "output_type": "display_data",
          "data": {
            "text/plain": [
              "<IPython.core.display.Javascript object>"
            ],
            "application/javascript": [
              "\n",
              "    async function download(id, filename, size) {\n",
              "      if (!google.colab.kernel.accessAllowed) {\n",
              "        return;\n",
              "      }\n",
              "      const div = document.createElement('div');\n",
              "      const label = document.createElement('label');\n",
              "      label.textContent = `Downloading \"${filename}\": `;\n",
              "      div.appendChild(label);\n",
              "      const progress = document.createElement('progress');\n",
              "      progress.max = size;\n",
              "      div.appendChild(progress);\n",
              "      document.body.appendChild(div);\n",
              "\n",
              "      const buffers = [];\n",
              "      let downloaded = 0;\n",
              "\n",
              "      const channel = await google.colab.kernel.comms.open(id);\n",
              "      // Send a message to notify the kernel that we're ready.\n",
              "      channel.send({})\n",
              "\n",
              "      for await (const message of channel.messages) {\n",
              "        // Send a message to notify the kernel that we're ready.\n",
              "        channel.send({})\n",
              "        if (message.buffers) {\n",
              "          for (const buffer of message.buffers) {\n",
              "            buffers.push(buffer);\n",
              "            downloaded += buffer.byteLength;\n",
              "            progress.value = downloaded;\n",
              "          }\n",
              "        }\n",
              "      }\n",
              "      const blob = new Blob(buffers, {type: 'application/binary'});\n",
              "      const a = document.createElement('a');\n",
              "      a.href = window.URL.createObjectURL(blob);\n",
              "      a.download = filename;\n",
              "      div.appendChild(a);\n",
              "      a.click();\n",
              "      div.remove();\n",
              "    }\n",
              "  "
            ]
          },
          "metadata": {}
        },
        {
          "output_type": "display_data",
          "data": {
            "text/plain": [
              "<IPython.core.display.Javascript object>"
            ],
            "application/javascript": [
              "download(\"download_acadee6e-0863-4eda-a361-97a221cd8a85\", \"output_mappings.pkl\", 7508)"
            ]
          },
          "metadata": {}
        }
      ]
    },
    {
      "cell_type": "code",
      "source": [
        "import sklearn\n",
        "print(sklearn.__version__)\n"
      ],
      "metadata": {
        "colab": {
          "base_uri": "https://localhost:8080/"
        },
        "id": "-4OYk9tmcaAi",
        "outputId": "ef7ce296-8e6a-45a7-d898-544ace1551c2"
      },
      "execution_count": 6,
      "outputs": [
        {
          "output_type": "stream",
          "name": "stdout",
          "text": [
            "1.2.2\n"
          ]
        }
      ]
    }
  ]
}