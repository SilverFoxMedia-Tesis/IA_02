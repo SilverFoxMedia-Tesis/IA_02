{
  "nbformat": 4,
  "nbformat_minor": 0,
  "metadata": {
    "colab": {
      "provenance": [],
      "authorship_tag": "ABX9TyPZdKJZkwb1kY6s5bUoxCg4",
      "include_colab_link": true
    },
    "kernelspec": {
      "name": "python3",
      "display_name": "Python 3"
    },
    "language_info": {
      "name": "python"
    }
  },
  "cells": [
    {
      "cell_type": "markdown",
      "metadata": {
        "id": "view-in-github",
        "colab_type": "text"
      },
      "source": [
        "<a href=\"https://colab.research.google.com/github/SilverFoxMedia-Tesis/IA_02/blob/main/RED_NEURONAL_IA.ipynb\" target=\"_parent\"><img src=\"https://colab.research.google.com/assets/colab-badge.svg\" alt=\"Open In Colab\"/></a>"
      ]
    },
    {
      "cell_type": "code",
      "execution_count": null,
      "metadata": {
        "id": "43odr2fO4HF1"
      },
      "outputs": [],
      "source": [
        "import pandas as pd\n",
        "\n",
        "# Cargar el dataset para revisar las primeras filas y obtener una descripción general de los datos\n",
        "file_path = '/train_last_modified_v3.csv'\n",
        "data = pd.read_csv(file_path)\n",
        "\n",
        "# Mostrar las primeras filas y la información del dataset\n",
        "print(data.head())\n",
        "print(data.info())\n",
        "print(data.describe())\n",
        "\n"
      ]
    },
    {
      "cell_type": "code",
      "source": [
        "from tensorflow.keras.preprocessing.text import Tokenizer\n",
        "from tensorflow.keras.preprocessing.sequence import pad_sequences\n",
        "from sklearn.preprocessing import StandardScaler\n",
        "from sklearn.model_selection import train_test_split\n",
        "\n",
        "# Preprocesamiento de las características\n",
        "scaler = StandardScaler()\n",
        "X = scaler.fit_transform(data[['TMB', 'desayuno_carbs', 'desayuno_grasas', 'almuerzo_carbs', 'almuerzo_grasas', 'cena_carbs', 'cena_grasas']])\n",
        "\n",
        "# Preparar etiquetas\n",
        "tokenizer = Tokenizer()\n",
        "# Asumiendo que cada columna de comidas es una lista convertida a cadena. Ajustar según los datos.\n",
        "data['Desayuno'] = data['Desayuno'].apply(eval)  # Convierte de string de lista a lista real, si es necesario\n",
        "tokenizer.fit_on_texts(data['Desayuno'].explode().astype(str))\n",
        "vocab_size = len(tokenizer.word_index) + 1\n",
        "\n",
        "Y_desayuno = tokenizer.texts_to_sequences(data['Desayuno'].astype(str))\n",
        "Y_desayuno_padded = pad_sequences(Y_desayuno, padding='post', maxlen=10)  # Ajusta 'maxlen' según la longitud necesaria\n",
        "\n",
        "# Dividir los datos en entrenamiento y prueba\n",
        "X_train, X_test, Y_train, Y_test = train_test_split(X, Y_desayuno_padded, test_size=0.2, random_state=42)\n",
        "\n",
        "# Imprimir tamaños para verificar\n",
        "print(\"X_train shape:\", X_train.shape)\n",
        "print(\"Y_train shape:\", Y_train.shape)\n",
        "print(\"X_test shape:\", X_test.shape)\n",
        "print(\"Y_test shape:\", Y_test.shape)\n"
      ],
      "metadata": {
        "colab": {
          "base_uri": "https://localhost:8080/"
        },
        "id": "n43K1Lho7ZZ3",
        "outputId": "44f649ea-5dd2-4f67-8b4f-198efe97a121"
      },
      "execution_count": 5,
      "outputs": [
        {
          "output_type": "stream",
          "name": "stdout",
          "text": [
            "X_train shape: (23517, 7)\n",
            "Y_train shape: (23517, 10)\n",
            "X_test shape: (5880, 7)\n",
            "Y_test shape: (5880, 10)\n"
          ]
        }
      ]
    },
    {
      "cell_type": "code",
      "source": [
        "from tensorflow.keras.models import Sequential\n",
        "from tensorflow.keras.layers import LSTM, Dropout, TimeDistributed, Dense\n",
        "\n",
        "# Tamaño del vocabulario y longitud de secuencia\n",
        "vocab_size = 16  # Asegúrate de que esto es correcto según tus IDs\n",
        "sequence_length = 7  # Cambiar según la estructura de tus datos\n",
        "\n",
        "# Reconstruir el modelo con la configuración correcta\n",
        "model = Sequential([\n",
        "    LSTM(100, input_shape=(sequence_length, 1), return_sequences=True),\n",
        "    Dropout(0.5),\n",
        "    TimeDistributed(Dense(vocab_size, activation='softmax'))\n",
        "])\n",
        "\n",
        "model.compile(optimizer='adam', loss='categorical_crossentropy', metrics=['accuracy'])\n",
        "model.summary()\n",
        "\n",
        "# Preparar X_train y X_test para tener la forma correcta\n",
        "X_train_lstm = X_train.reshape((X_train.shape[0], sequence_length, 1))\n",
        "X_test_lstm = X_test.reshape((X_test.shape[0], sequence_length, 1))\n",
        "\n",
        "# Asegurarse de que las formas de las etiquetas sean (None, 7, 16) ajustando si es necesario\n",
        "Y_train_cat = Y_train_cat[:, :sequence_length, :]\n",
        "Y_test_cat = Y_test_cat[:, :sequence_length, :]\n",
        "\n",
        "# Verificar las formas finales\n",
        "print(\"X_train_lstm shape:\", X_train_lstm.shape)\n",
        "print(\"Y_train_cat shape:\", Y_train_cat.shape)\n",
        "print(\"X_test_lstm shape:\", X_test_lstm.shape)\n",
        "print(\"Y_test_cat shape:\", Y_test_cat.shape)\n",
        "\n",
        "# Intentar entrenar el modelo nuevamente\n",
        "history = model.fit(X_train_lstm, Y_train_cat, epochs=10, batch_size=32, validation_data=(X_test_lstm, Y_test_cat))\n"
      ],
      "metadata": {
        "colab": {
          "base_uri": "https://localhost:8080/"
        },
        "id": "BIRjoqgs71P5",
        "outputId": "1efb6d24-6dfa-4e0d-e693-ba2440891be8"
      },
      "execution_count": 11,
      "outputs": [
        {
          "output_type": "stream",
          "name": "stdout",
          "text": [
            "Model: \"sequential_4\"\n",
            "_________________________________________________________________\n",
            " Layer (type)                Output Shape              Param #   \n",
            "=================================================================\n",
            " lstm_4 (LSTM)               (None, 7, 100)            40800     \n",
            "                                                                 \n",
            " dropout_4 (Dropout)         (None, 7, 100)            0         \n",
            "                                                                 \n",
            " time_distributed_4 (TimeDi  (None, 7, 16)             1616      \n",
            " stributed)                                                      \n",
            "                                                                 \n",
            "=================================================================\n",
            "Total params: 42416 (165.69 KB)\n",
            "Trainable params: 42416 (165.69 KB)\n",
            "Non-trainable params: 0 (0.00 Byte)\n",
            "_________________________________________________________________\n",
            "X_train_lstm shape: (23517, 7, 1)\n",
            "Y_train_cat shape: (23517, 7, 16)\n",
            "X_test_lstm shape: (5880, 7, 1)\n",
            "Y_test_cat shape: (5880, 7, 16)\n",
            "Epoch 1/10\n",
            "735/735 [==============================] - 11s 11ms/step - loss: 0.6773 - accuracy: 0.8075 - val_loss: 0.1580 - val_accuracy: 0.9613\n",
            "Epoch 2/10\n",
            "735/735 [==============================] - 8s 11ms/step - loss: 0.1309 - accuracy: 0.9601 - val_loss: 0.0910 - val_accuracy: 0.9733\n",
            "Epoch 3/10\n",
            "735/735 [==============================] - 8s 10ms/step - loss: 0.0890 - accuracy: 0.9715 - val_loss: 0.0631 - val_accuracy: 0.9793\n",
            "Epoch 4/10\n",
            "735/735 [==============================] - 6s 9ms/step - loss: 0.0638 - accuracy: 0.9785 - val_loss: 0.0444 - val_accuracy: 0.9868\n",
            "Epoch 5/10\n",
            "735/735 [==============================] - 7s 10ms/step - loss: 0.0483 - accuracy: 0.9835 - val_loss: 0.0345 - val_accuracy: 0.9881\n",
            "Epoch 6/10\n",
            "735/735 [==============================] - 7s 10ms/step - loss: 0.0397 - accuracy: 0.9859 - val_loss: 0.0302 - val_accuracy: 0.9896\n",
            "Epoch 7/10\n",
            "735/735 [==============================] - 8s 10ms/step - loss: 0.0348 - accuracy: 0.9876 - val_loss: 0.0226 - val_accuracy: 0.9931\n",
            "Epoch 8/10\n",
            "735/735 [==============================] - 6s 9ms/step - loss: 0.0299 - accuracy: 0.9892 - val_loss: 0.0197 - val_accuracy: 0.9944\n",
            "Epoch 9/10\n",
            "735/735 [==============================] - 7s 10ms/step - loss: 0.0278 - accuracy: 0.9898 - val_loss: 0.0173 - val_accuracy: 0.9952\n",
            "Epoch 10/10\n",
            "735/735 [==============================] - 7s 9ms/step - loss: 0.0250 - accuracy: 0.9908 - val_loss: 0.0189 - val_accuracy: 0.9929\n"
          ]
        }
      ]
    },
    {
      "cell_type": "code",
      "source": [
        "model.save('fitLifeBuddy.keras')"
      ],
      "metadata": {
        "id": "DsSddlPF_u8R"
      },
      "execution_count": 14,
      "outputs": []
    },
    {
      "cell_type": "code",
      "source": [
        "from google.colab import files\n",
        "\n",
        "# Asegúrate de haber guardado el modelo en formato .keras\n",
        "model.save('fitLifeBuddy_IA.keras')\n",
        "\n",
        "# Descargar el archivo al sistema local\n",
        "files.download('fitLifeBuddy_IA.keras')\n"
      ],
      "metadata": {
        "colab": {
          "base_uri": "https://localhost:8080/",
          "height": 17
        },
        "id": "R7H0z5x8A922",
        "outputId": "549772ac-525a-481d-dd22-06afd6616081"
      },
      "execution_count": 15,
      "outputs": [
        {
          "output_type": "display_data",
          "data": {
            "text/plain": [
              "<IPython.core.display.Javascript object>"
            ],
            "application/javascript": [
              "\n",
              "    async function download(id, filename, size) {\n",
              "      if (!google.colab.kernel.accessAllowed) {\n",
              "        return;\n",
              "      }\n",
              "      const div = document.createElement('div');\n",
              "      const label = document.createElement('label');\n",
              "      label.textContent = `Downloading \"${filename}\": `;\n",
              "      div.appendChild(label);\n",
              "      const progress = document.createElement('progress');\n",
              "      progress.max = size;\n",
              "      div.appendChild(progress);\n",
              "      document.body.appendChild(div);\n",
              "\n",
              "      const buffers = [];\n",
              "      let downloaded = 0;\n",
              "\n",
              "      const channel = await google.colab.kernel.comms.open(id);\n",
              "      // Send a message to notify the kernel that we're ready.\n",
              "      channel.send({})\n",
              "\n",
              "      for await (const message of channel.messages) {\n",
              "        // Send a message to notify the kernel that we're ready.\n",
              "        channel.send({})\n",
              "        if (message.buffers) {\n",
              "          for (const buffer of message.buffers) {\n",
              "            buffers.push(buffer);\n",
              "            downloaded += buffer.byteLength;\n",
              "            progress.value = downloaded;\n",
              "          }\n",
              "        }\n",
              "      }\n",
              "      const blob = new Blob(buffers, {type: 'application/binary'});\n",
              "      const a = document.createElement('a');\n",
              "      a.href = window.URL.createObjectURL(blob);\n",
              "      a.download = filename;\n",
              "      div.appendChild(a);\n",
              "      a.click();\n",
              "      div.remove();\n",
              "    }\n",
              "  "
            ]
          },
          "metadata": {}
        },
        {
          "output_type": "display_data",
          "data": {
            "text/plain": [
              "<IPython.core.display.Javascript object>"
            ],
            "application/javascript": [
              "download(\"download_3da68e24-3898-466e-8341-b6e130016050\", \"fitLifeBuddy_IA.keras\", 537602)"
            ]
          },
          "metadata": {}
        }
      ]
    }
  ]
}