{
  "nbformat": 4,
  "nbformat_minor": 0,
  "metadata": {
    "colab": {
      "provenance": [],
      "include_colab_link": true
    },
    "kernelspec": {
      "name": "python3",
      "display_name": "Python 3"
    },
    "language_info": {
      "name": "python"
    }
  },
  "cells": [
    {
      "cell_type": "markdown",
      "metadata": {
        "id": "view-in-github",
        "colab_type": "text"
      },
      "source": [
        "<a href=\"https://colab.research.google.com/github/SilverFoxMedia-Tesis/IA_02/blob/main/RED_NEURONAL_IA.ipynb\" target=\"_parent\"><img src=\"https://colab.research.google.com/assets/colab-badge.svg\" alt=\"Open In Colab\"/></a>"
      ]
    },
    {
      "cell_type": "code",
      "execution_count": null,
      "metadata": {
        "id": "43odr2fO4HF1"
      },
      "outputs": [],
      "source": [
        "import pandas as pd\n",
        "import tensorflow as tf\n",
        "import keras\n",
        "\n",
        "# Cargar el dataset para revisar las primeras filas y obtener una descripción general de los datos\n",
        "file_path = '/train_last_modified_v3.csv'\n",
        "data = pd.read_csv(file_path)\n",
        "\n",
        "# Mostrar las primeras filas y la información del dataset\n",
        "print(data.head())\n",
        "print(data.info())\n",
        "print(data.describe())\n",
        "\n"
      ]
    },
    {
      "cell_type": "code",
      "source": [
        "from tensorflow.keras.preprocessing.text import Tokenizer\n",
        "from tensorflow.keras.preprocessing.sequence import pad_sequences\n",
        "from sklearn.preprocessing import StandardScaler\n",
        "from sklearn.model_selection import train_test_split\n",
        "\n",
        "# Preprocesamiento de las características\n",
        "scaler = StandardScaler()\n",
        "X = scaler.fit_transform(data[['TMB', 'desayuno_carbs', 'desayuno_grasas', 'almuerzo_carbs', 'almuerzo_grasas', 'cena_carbs', 'cena_grasas']])\n",
        "\n",
        "# Preparar etiquetas\n",
        "tokenizer = Tokenizer()\n",
        "# Asumiendo que cada columna de comidas es una lista convertida a cadena. Ajustar según los datos.\n",
        "data['Desayuno'] = data['Desayuno'].apply(eval)  # Convierte de string de lista a lista real, si es necesario\n",
        "tokenizer.fit_on_texts(data['Desayuno'].explode().astype(str))\n",
        "vocab_size = len(tokenizer.word_index) + 1\n",
        "\n",
        "Y_desayuno = tokenizer.texts_to_sequences(data['Desayuno'].astype(str))\n",
        "Y_desayuno_padded = pad_sequences(Y_desayuno, padding='post', maxlen=10)  # Ajusta 'maxlen' según la longitud necesaria\n",
        "\n",
        "# Dividir los datos en entrenamiento y prueba\n",
        "X_train, X_test, Y_train, Y_test = train_test_split(X, Y_desayuno_padded, test_size=0.2, random_state=42)\n",
        "\n",
        "# Imprimir tamaños para verificar\n",
        "print(\"X_train shape:\", X_train.shape)\n",
        "print(\"Y_train shape:\", Y_train.shape)\n",
        "print(\"X_test shape:\", X_test.shape)\n",
        "print(\"Y_test shape:\", Y_test.shape)\n"
      ],
      "metadata": {
        "colab": {
          "base_uri": "https://localhost:8080/"
        },
        "id": "n43K1Lho7ZZ3",
        "outputId": "560d58f2-d757-4188-dfda-1a38950324b9"
      },
      "execution_count": null,
      "outputs": [
        {
          "output_type": "stream",
          "name": "stdout",
          "text": [
            "X_train shape: (23517, 7)\n",
            "Y_train shape: (23517, 10)\n",
            "X_test shape: (5880, 7)\n",
            "Y_test shape: (5880, 10)\n"
          ]
        }
      ]
    },
    {
      "cell_type": "code",
      "source": [
        "print(\"TensorFlow version:\", tf.__version__)\n",
        "print(\"Keras version:\", keras.__version__)"
      ],
      "metadata": {
        "colab": {
          "base_uri": "https://localhost:8080/"
        },
        "id": "JIzTpcBVWt2y",
        "outputId": "de7fc825-c831-4739-eef2-e83c8b85e845"
      },
      "execution_count": null,
      "outputs": [
        {
          "output_type": "stream",
          "name": "stdout",
          "text": [
            "TensorFlow version: 2.16.1\n",
            "Keras version: 3.2.1\n"
          ]
        }
      ]
    },
    {
      "cell_type": "code",
      "source": [
        "pip install tensorflow==2.16.1"
      ],
      "metadata": {
        "id": "qTi_-Kd9XfY9"
      },
      "execution_count": null,
      "outputs": []
    },
    {
      "cell_type": "code",
      "source": [
        "import pandas as pd\n",
        "import numpy as np\n",
        "from sklearn.preprocessing import StandardScaler\n",
        "from sklearn.model_selection import train_test_split\n",
        "from tensorflow.keras.models import Sequential\n",
        "from tensorflow.keras.layers import Dense, Input, Reshape, LSTM, Dropout\n",
        "from tensorflow.keras.preprocessing.text import Tokenizer\n",
        "from tensorflow.keras.preprocessing.sequence import pad_sequences\n",
        "from tensorflow.keras.utils import to_categorical\n",
        "\n",
        "# Cargar el dataset\n",
        "file_path = '/train_last_modified_v3.csv'\n",
        "data = pd.read_csv(file_path)\n",
        "\n",
        "# Preprocesamiento de las características de entrada\n",
        "scaler = StandardScaler()\n",
        "X = scaler.fit_transform(data[['Carbohidratos_G', 'Proteinas_G', 'Grasas_G', 'TMB']])\n",
        "\n",
        "# Preparar las etiquetas para desayuno, almuerzo, cena y rutina\n",
        "tokenizer = Tokenizer()\n",
        "data['Desayuno'] = data['Desayuno'].apply(eval)\n",
        "data['Almuerzo'] = data['Almuerzo'].apply(eval)\n",
        "data['Cena'] = data['Cena'].apply(eval)\n",
        "data['Rutina'] = data['Rutina'].apply(eval)\n",
        "\n",
        "# Tokenizar y secuenciar las columnas de comida\n",
        "columns = ['Desayuno', 'Almuerzo', 'Cena', 'Rutina']\n",
        "for column in columns:\n",
        "    tokenizer.fit_on_texts(data[column].explode().astype(str))\n",
        "\n",
        "vocab_size = len(tokenizer.word_index) + 1\n",
        "\n",
        "# Concatenar las secuencias tokenizadas de desayuno, almuerzo, cena y rutina\n",
        "Y = np.zeros((len(data), 4, 10))  # Cambiar 10 por la longitud de secuencia deseada\n",
        "for i, column in enumerate(columns):\n",
        "    sequences = tokenizer.texts_to_sequences(data[column].astype(str))\n",
        "    padded_sequences = pad_sequences(sequences, padding='post', maxlen=10)\n",
        "    Y[:, i, :] = padded_sequences"
      ],
      "metadata": {
        "id": "zEN7SF7XxKAQ"
      },
      "execution_count": null,
      "outputs": []
    },
    {
      "cell_type": "code",
      "source": [
        "# Asumiendo que 'Y' tiene la forma (num_samples, 4, 10), donde cada entrada es un índice de clase\n",
        "Y_cat = np.zeros((Y.shape[0], 4, 10, vocab_size))  # Convertir a formato categórico\n",
        "\n",
        "for i in range(Y.shape[0]):\n",
        "    for j in range(4):  # Por cada uno de los 4 segmentos (Desayuno, Almuerzo, Cena, Rutina)\n",
        "        for k in range(10):  # Por cada posición en la secuencia de 10\n",
        "            Y_cat[i, j, k, :] = to_categorical(Y[i, j, k], num_classes=vocab_size)\n",
        "\n",
        "# Ahora aplana correctamente la última dimensión\n",
        "Y_train = np.sum(Y_cat, axis=2)  # Suma a lo largo de la secuencia para colapsar en una única distribución de probabilidad\n",
        "\n",
        "# Dividir los datos en entrenamiento y prueba\n",
        "X_train, X_test, Y_train, Y_test = train_test_split(X, Y_train, test_size=0.2, random_state=42)\n",
        "\n",
        "# Construir el modelo\n",
        "model = Sequential([\n",
        "    Input(shape=(4,)),  # 4 características de entrada\n",
        "    Dense(64, activation='relu'),\n",
        "    Dense(4 * vocab_size, activation='relu'),  # Ajustar tamaño según vocab_size total\n",
        "    Reshape((4, vocab_size)),  # Asegurarse de que esta forma sea correcta\n",
        "    LSTM(100, return_sequences=True),\n",
        "    Dropout(0.5),\n",
        "    Dense(vocab_size, activation='sigmoid')  # Cambio clave aquí\n",
        "])\n",
        "\n",
        "model.compile(optimizer='adam', loss='binary_crossentropy', metrics=['accuracy'])\n",
        "model.summary()\n",
        "\n",
        "# Entrenar el modelo\n",
        "history = model.fit(X_train, Y_train, epochs=10, batch_size=32, validation_data=(X_test, Y_test))\n",
        "\n",
        "# Guardar y manejar la descarga del modelo\n",
        "model.save('fitLifeBuddy_IA_v4.keras')\n"
      ],
      "metadata": {
        "colab": {
          "base_uri": "https://localhost:8080/",
          "height": 693
        },
        "id": "QywZrb8etJ-i",
        "outputId": "4e663cc0-2ad6-4bea-ede0-5a9de5d256c4"
      },
      "execution_count": null,
      "outputs": [
        {
          "output_type": "display_data",
          "data": {
            "text/plain": [
              "\u001b[1mModel: \"sequential_16\"\u001b[0m\n"
            ],
            "text/html": [
              "<pre style=\"white-space:pre;overflow-x:auto;line-height:normal;font-family:Menlo,'DejaVu Sans Mono',consolas,'Courier New',monospace\"><span style=\"font-weight: bold\">Model: \"sequential_16\"</span>\n",
              "</pre>\n"
            ]
          },
          "metadata": {}
        },
        {
          "output_type": "display_data",
          "data": {
            "text/plain": [
              "┏━━━━━━━━━━━━━━━━━━━━━━━━━━━━━━━━━━━━━━┳━━━━━━━━━━━━━━━━━━━━━━━━━━━━━┳━━━━━━━━━━━━━━━━━┓\n",
              "┃\u001b[1m \u001b[0m\u001b[1mLayer (type)                        \u001b[0m\u001b[1m \u001b[0m┃\u001b[1m \u001b[0m\u001b[1mOutput Shape               \u001b[0m\u001b[1m \u001b[0m┃\u001b[1m \u001b[0m\u001b[1m        Param #\u001b[0m\u001b[1m \u001b[0m┃\n",
              "┡━━━━━━━━━━━━━━━━━━━━━━━━━━━━━━━━━━━━━━╇━━━━━━━━━━━━━━━━━━━━━━━━━━━━━╇━━━━━━━━━━━━━━━━━┩\n",
              "│ dense_36 (\u001b[38;5;33mDense\u001b[0m)                     │ (\u001b[38;5;45mNone\u001b[0m, \u001b[38;5;34m64\u001b[0m)                  │             \u001b[38;5;34m320\u001b[0m │\n",
              "├──────────────────────────────────────┼─────────────────────────────┼─────────────────┤\n",
              "│ dense_37 (\u001b[38;5;33mDense\u001b[0m)                     │ (\u001b[38;5;45mNone\u001b[0m, \u001b[38;5;34m324\u001b[0m)                 │          \u001b[38;5;34m21,060\u001b[0m │\n",
              "├──────────────────────────────────────┼─────────────────────────────┼─────────────────┤\n",
              "│ reshape_9 (\u001b[38;5;33mReshape\u001b[0m)                  │ (\u001b[38;5;45mNone\u001b[0m, \u001b[38;5;34m4\u001b[0m, \u001b[38;5;34m81\u001b[0m)               │               \u001b[38;5;34m0\u001b[0m │\n",
              "├──────────────────────────────────────┼─────────────────────────────┼─────────────────┤\n",
              "│ lstm_16 (\u001b[38;5;33mLSTM\u001b[0m)                       │ (\u001b[38;5;45mNone\u001b[0m, \u001b[38;5;34m4\u001b[0m, \u001b[38;5;34m100\u001b[0m)              │          \u001b[38;5;34m72,800\u001b[0m │\n",
              "├──────────────────────────────────────┼─────────────────────────────┼─────────────────┤\n",
              "│ dropout_16 (\u001b[38;5;33mDropout\u001b[0m)                 │ (\u001b[38;5;45mNone\u001b[0m, \u001b[38;5;34m4\u001b[0m, \u001b[38;5;34m100\u001b[0m)              │               \u001b[38;5;34m0\u001b[0m │\n",
              "├──────────────────────────────────────┼─────────────────────────────┼─────────────────┤\n",
              "│ dense_38 (\u001b[38;5;33mDense\u001b[0m)                     │ (\u001b[38;5;45mNone\u001b[0m, \u001b[38;5;34m4\u001b[0m, \u001b[38;5;34m81\u001b[0m)               │           \u001b[38;5;34m8,181\u001b[0m │\n",
              "└──────────────────────────────────────┴─────────────────────────────┴─────────────────┘\n"
            ],
            "text/html": [
              "<pre style=\"white-space:pre;overflow-x:auto;line-height:normal;font-family:Menlo,'DejaVu Sans Mono',consolas,'Courier New',monospace\">┏━━━━━━━━━━━━━━━━━━━━━━━━━━━━━━━━━━━━━━┳━━━━━━━━━━━━━━━━━━━━━━━━━━━━━┳━━━━━━━━━━━━━━━━━┓\n",
              "┃<span style=\"font-weight: bold\"> Layer (type)                         </span>┃<span style=\"font-weight: bold\"> Output Shape                </span>┃<span style=\"font-weight: bold\">         Param # </span>┃\n",
              "┡━━━━━━━━━━━━━━━━━━━━━━━━━━━━━━━━━━━━━━╇━━━━━━━━━━━━━━━━━━━━━━━━━━━━━╇━━━━━━━━━━━━━━━━━┩\n",
              "│ dense_36 (<span style=\"color: #0087ff; text-decoration-color: #0087ff\">Dense</span>)                     │ (<span style=\"color: #00d7ff; text-decoration-color: #00d7ff\">None</span>, <span style=\"color: #00af00; text-decoration-color: #00af00\">64</span>)                  │             <span style=\"color: #00af00; text-decoration-color: #00af00\">320</span> │\n",
              "├──────────────────────────────────────┼─────────────────────────────┼─────────────────┤\n",
              "│ dense_37 (<span style=\"color: #0087ff; text-decoration-color: #0087ff\">Dense</span>)                     │ (<span style=\"color: #00d7ff; text-decoration-color: #00d7ff\">None</span>, <span style=\"color: #00af00; text-decoration-color: #00af00\">324</span>)                 │          <span style=\"color: #00af00; text-decoration-color: #00af00\">21,060</span> │\n",
              "├──────────────────────────────────────┼─────────────────────────────┼─────────────────┤\n",
              "│ reshape_9 (<span style=\"color: #0087ff; text-decoration-color: #0087ff\">Reshape</span>)                  │ (<span style=\"color: #00d7ff; text-decoration-color: #00d7ff\">None</span>, <span style=\"color: #00af00; text-decoration-color: #00af00\">4</span>, <span style=\"color: #00af00; text-decoration-color: #00af00\">81</span>)               │               <span style=\"color: #00af00; text-decoration-color: #00af00\">0</span> │\n",
              "├──────────────────────────────────────┼─────────────────────────────┼─────────────────┤\n",
              "│ lstm_16 (<span style=\"color: #0087ff; text-decoration-color: #0087ff\">LSTM</span>)                       │ (<span style=\"color: #00d7ff; text-decoration-color: #00d7ff\">None</span>, <span style=\"color: #00af00; text-decoration-color: #00af00\">4</span>, <span style=\"color: #00af00; text-decoration-color: #00af00\">100</span>)              │          <span style=\"color: #00af00; text-decoration-color: #00af00\">72,800</span> │\n",
              "├──────────────────────────────────────┼─────────────────────────────┼─────────────────┤\n",
              "│ dropout_16 (<span style=\"color: #0087ff; text-decoration-color: #0087ff\">Dropout</span>)                 │ (<span style=\"color: #00d7ff; text-decoration-color: #00d7ff\">None</span>, <span style=\"color: #00af00; text-decoration-color: #00af00\">4</span>, <span style=\"color: #00af00; text-decoration-color: #00af00\">100</span>)              │               <span style=\"color: #00af00; text-decoration-color: #00af00\">0</span> │\n",
              "├──────────────────────────────────────┼─────────────────────────────┼─────────────────┤\n",
              "│ dense_38 (<span style=\"color: #0087ff; text-decoration-color: #0087ff\">Dense</span>)                     │ (<span style=\"color: #00d7ff; text-decoration-color: #00d7ff\">None</span>, <span style=\"color: #00af00; text-decoration-color: #00af00\">4</span>, <span style=\"color: #00af00; text-decoration-color: #00af00\">81</span>)               │           <span style=\"color: #00af00; text-decoration-color: #00af00\">8,181</span> │\n",
              "└──────────────────────────────────────┴─────────────────────────────┴─────────────────┘\n",
              "</pre>\n"
            ]
          },
          "metadata": {}
        },
        {
          "output_type": "display_data",
          "data": {
            "text/plain": [
              "\u001b[1m Total params: \u001b[0m\u001b[38;5;34m102,361\u001b[0m (399.85 KB)\n"
            ],
            "text/html": [
              "<pre style=\"white-space:pre;overflow-x:auto;line-height:normal;font-family:Menlo,'DejaVu Sans Mono',consolas,'Courier New',monospace\"><span style=\"font-weight: bold\"> Total params: </span><span style=\"color: #00af00; text-decoration-color: #00af00\">102,361</span> (399.85 KB)\n",
              "</pre>\n"
            ]
          },
          "metadata": {}
        },
        {
          "output_type": "display_data",
          "data": {
            "text/plain": [
              "\u001b[1m Trainable params: \u001b[0m\u001b[38;5;34m102,361\u001b[0m (399.85 KB)\n"
            ],
            "text/html": [
              "<pre style=\"white-space:pre;overflow-x:auto;line-height:normal;font-family:Menlo,'DejaVu Sans Mono',consolas,'Courier New',monospace\"><span style=\"font-weight: bold\"> Trainable params: </span><span style=\"color: #00af00; text-decoration-color: #00af00\">102,361</span> (399.85 KB)\n",
              "</pre>\n"
            ]
          },
          "metadata": {}
        },
        {
          "output_type": "display_data",
          "data": {
            "text/plain": [
              "\u001b[1m Non-trainable params: \u001b[0m\u001b[38;5;34m0\u001b[0m (0.00 B)\n"
            ],
            "text/html": [
              "<pre style=\"white-space:pre;overflow-x:auto;line-height:normal;font-family:Menlo,'DejaVu Sans Mono',consolas,'Courier New',monospace\"><span style=\"font-weight: bold\"> Non-trainable params: </span><span style=\"color: #00af00; text-decoration-color: #00af00\">0</span> (0.00 B)\n",
              "</pre>\n"
            ]
          },
          "metadata": {}
        },
        {
          "output_type": "stream",
          "name": "stdout",
          "text": [
            "Epoch 1/10\n",
            "\u001b[1m735/735\u001b[0m \u001b[32m━━━━━━━━━━━━━━━━━━━━\u001b[0m\u001b[37m\u001b[0m \u001b[1m10s\u001b[0m 10ms/step - accuracy: 0.9836 - loss: -1.3750 - val_accuracy: 1.0000 - val_loss: -5.1248\n",
            "Epoch 2/10\n",
            "\u001b[1m735/735\u001b[0m \u001b[32m━━━━━━━━━━━━━━━━━━━━\u001b[0m\u001b[37m\u001b[0m \u001b[1m6s\u001b[0m 8ms/step - accuracy: 1.0000 - loss: -6.2588 - val_accuracy: 1.0000 - val_loss: -9.6590\n",
            "Epoch 3/10\n",
            "\u001b[1m735/735\u001b[0m \u001b[32m━━━━━━━━━━━━━━━━━━━━\u001b[0m\u001b[37m\u001b[0m \u001b[1m7s\u001b[0m 9ms/step - accuracy: 1.0000 - loss: -10.7793 - val_accuracy: 1.0000 - val_loss: -14.1509\n",
            "Epoch 4/10\n",
            "\u001b[1m735/735\u001b[0m \u001b[32m━━━━━━━━━━━━━━━━━━━━\u001b[0m\u001b[37m\u001b[0m \u001b[1m6s\u001b[0m 8ms/step - accuracy: 1.0000 - loss: -15.2816 - val_accuracy: 1.0000 - val_loss: -18.6300\n",
            "Epoch 5/10\n",
            "\u001b[1m735/735\u001b[0m \u001b[32m━━━━━━━━━━━━━━━━━━━━\u001b[0m\u001b[37m\u001b[0m \u001b[1m7s\u001b[0m 10ms/step - accuracy: 1.0000 - loss: -19.7505 - val_accuracy: 1.0000 - val_loss: -23.1037\n",
            "Epoch 6/10\n",
            "\u001b[1m735/735\u001b[0m \u001b[32m━━━━━━━━━━━━━━━━━━━━\u001b[0m\u001b[37m\u001b[0m \u001b[1m10s\u001b[0m 10ms/step - accuracy: 1.0000 - loss: -24.2146 - val_accuracy: 1.0000 - val_loss: -27.5739\n",
            "Epoch 7/10\n",
            "\u001b[1m735/735\u001b[0m \u001b[32m━━━━━━━━━━━━━━━━━━━━\u001b[0m\u001b[37m\u001b[0m \u001b[1m6s\u001b[0m 9ms/step - accuracy: 1.0000 - loss: -28.6952 - val_accuracy: 1.0000 - val_loss: -32.0447\n",
            "Epoch 8/10\n",
            "\u001b[1m735/735\u001b[0m \u001b[32m━━━━━━━━━━━━━━━━━━━━\u001b[0m\u001b[37m\u001b[0m \u001b[1m11s\u001b[0m 9ms/step - accuracy: 1.0000 - loss: -33.1413 - val_accuracy: 1.0000 - val_loss: -36.5129\n",
            "Epoch 9/10\n",
            "\u001b[1m735/735\u001b[0m \u001b[32m━━━━━━━━━━━━━━━━━━━━\u001b[0m\u001b[37m\u001b[0m \u001b[1m11s\u001b[0m 10ms/step - accuracy: 1.0000 - loss: -37.6343 - val_accuracy: 1.0000 - val_loss: -40.9844\n",
            "Epoch 10/10\n",
            "\u001b[1m735/735\u001b[0m \u001b[32m━━━━━━━━━━━━━━━━━━━━\u001b[0m\u001b[37m\u001b[0m \u001b[1m9s\u001b[0m 9ms/step - accuracy: 1.0000 - loss: -42.0934 - val_accuracy: 1.0000 - val_loss: -45.4535\n"
          ]
        }
      ]
    },
    {
      "cell_type": "code",
      "source": [
        "# Descargar el archivo al sistema local\n",
        "files.download('fitLifeBuddy_IA_v4.keras')"
      ],
      "metadata": {
        "colab": {
          "base_uri": "https://localhost:8080/",
          "height": 17
        },
        "id": "AlN6h_SC385T",
        "outputId": "b262eb3b-726a-44d8-d011-d6f4675c5dad"
      },
      "execution_count": null,
      "outputs": [
        {
          "output_type": "display_data",
          "data": {
            "text/plain": [
              "<IPython.core.display.Javascript object>"
            ],
            "application/javascript": [
              "\n",
              "    async function download(id, filename, size) {\n",
              "      if (!google.colab.kernel.accessAllowed) {\n",
              "        return;\n",
              "      }\n",
              "      const div = document.createElement('div');\n",
              "      const label = document.createElement('label');\n",
              "      label.textContent = `Downloading \"${filename}\": `;\n",
              "      div.appendChild(label);\n",
              "      const progress = document.createElement('progress');\n",
              "      progress.max = size;\n",
              "      div.appendChild(progress);\n",
              "      document.body.appendChild(div);\n",
              "\n",
              "      const buffers = [];\n",
              "      let downloaded = 0;\n",
              "\n",
              "      const channel = await google.colab.kernel.comms.open(id);\n",
              "      // Send a message to notify the kernel that we're ready.\n",
              "      channel.send({})\n",
              "\n",
              "      for await (const message of channel.messages) {\n",
              "        // Send a message to notify the kernel that we're ready.\n",
              "        channel.send({})\n",
              "        if (message.buffers) {\n",
              "          for (const buffer of message.buffers) {\n",
              "            buffers.push(buffer);\n",
              "            downloaded += buffer.byteLength;\n",
              "            progress.value = downloaded;\n",
              "          }\n",
              "        }\n",
              "      }\n",
              "      const blob = new Blob(buffers, {type: 'application/binary'});\n",
              "      const a = document.createElement('a');\n",
              "      a.href = window.URL.createObjectURL(blob);\n",
              "      a.download = filename;\n",
              "      div.appendChild(a);\n",
              "      a.click();\n",
              "      div.remove();\n",
              "    }\n",
              "  "
            ]
          },
          "metadata": {}
        },
        {
          "output_type": "display_data",
          "data": {
            "text/plain": [
              "<IPython.core.display.Javascript object>"
            ],
            "application/javascript": [
              "download(\"download_81383dbe-d823-4ed1-b080-0d8cca49fbb6\", \"fitLifeBuddy_IA_v4.keras\", 1260631)"
            ]
          },
          "metadata": {}
        }
      ]
    },
    {
      "cell_type": "code",
      "source": [
        "import numpy as np\n",
        "\n",
        "# Datos de entrada nuevos\n",
        "nuevos_datos = np.array([[174.90, 69.96, 46.64, 1749.00]])  # Nota que los datos están en un array 2D\n",
        "\n",
        "# Escalar los datos usando el mismo escalador que se usó para el entrenamiento\n",
        "# Asegúrate de que el objeto 'scaler' ha sido ajustado con los datos de entrenamiento y está disponible aquí\n",
        "nuevos_datos_escalados = scaler.transform(nuevos_datos)\n",
        "\n",
        "# Hacer la predicción\n",
        "predicciones = model.predict(nuevos_datos_escalados)\n",
        "print(\"Predicciones crudas:\", predicciones)\n",
        "\n",
        "# Decodificar las predicciones si es necesario\n",
        "# Si tienes clases categóricas y las predicciones son probabilidades, puedes obtener las clases predichas como sigue:\n",
        "predicciones_clases = np.argmax(predicciones, axis=-1)\n",
        "print(\"Clases predichas:\", predicciones_clases)\n"
      ],
      "metadata": {
        "colab": {
          "base_uri": "https://localhost:8080/"
        },
        "id": "BLfEPzHn1hAk",
        "outputId": "a6092408-4428-4ba9-d51c-391e7f770760"
      },
      "execution_count": null,
      "outputs": [
        {
          "output_type": "stream",
          "name": "stdout",
          "text": [
            "\u001b[1m1/1\u001b[0m \u001b[32m━━━━━━━━━━━━━━━━━━━━\u001b[0m\u001b[37m\u001b[0m \u001b[1m0s\u001b[0m 40ms/step\n",
            "Predicciones crudas: [[[1.00000000e+00 2.28729680e-01 2.19436705e-01 1.47879466e-01\n",
            "   1.86184317e-01 3.84441257e-01 3.03784847e-01 1.63877964e-01\n",
            "   1.35698542e-01 1.80854738e-01 1.75731748e-01 1.12598367e-01\n",
            "   7.55942389e-02 8.10212120e-02 5.86023517e-02 7.22034648e-02\n",
            "   5.49563579e-02 3.89199220e-02 4.51321192e-02 3.80308665e-02\n",
            "   4.21710201e-02 4.46306430e-02 4.36855704e-02 3.27328518e-02\n",
            "   3.63146700e-02 4.10664417e-02 3.78908627e-02 3.65724303e-02\n",
            "   4.01734672e-02 3.69698964e-02 3.97150591e-02 4.12609689e-02\n",
            "   3.87508683e-02 3.37607153e-02 3.51826847e-02 3.56404781e-02\n",
            "   3.32570672e-02 3.49258147e-02 3.46491858e-02 3.85389738e-02\n",
            "   3.70562859e-02 4.05040495e-02 3.71341743e-02 2.99489573e-02\n",
            "   3.13990973e-02 3.32873799e-02 3.43628787e-02 3.45238596e-02\n",
            "   3.78200300e-02 3.79426442e-02 3.18674371e-02 3.60422358e-02\n",
            "   3.42724286e-02 3.94076779e-02 3.78837734e-02 3.11695375e-02\n",
            "   3.66222337e-02 3.10142543e-02 3.71174216e-02 3.72030586e-02\n",
            "   3.83759961e-02 3.74202430e-02 3.87199186e-02 3.33966799e-02\n",
            "   2.87120920e-02 3.33329737e-02 3.41526717e-02 3.12410686e-02\n",
            "   3.20618376e-02 3.10845990e-02 2.83121709e-02 2.64225490e-02\n",
            "   2.61307620e-02 2.03230418e-02 1.52414981e-02 1.07201580e-02\n",
            "   8.44355486e-03 7.67582329e-03 7.68413907e-03 1.90296583e-03\n",
            "   1.30669330e-03]\n",
            "  [1.00000000e+00 3.45260173e-01 2.85465032e-01 2.62642056e-01\n",
            "   2.54062206e-01 1.50709659e-01 1.01780489e-01 1.38355210e-01\n",
            "   1.55163899e-01 9.86652151e-02 8.10386017e-02 5.61001189e-02\n",
            "   6.45707175e-02 6.29631430e-02 3.94307785e-02 2.75019947e-02\n",
            "   2.57935729e-02 2.37701237e-02 1.64988581e-02 1.31351408e-02\n",
            "   2.42001209e-02 2.78449152e-02 2.70584673e-02 1.89058948e-02\n",
            "   2.14421935e-02 2.53151618e-02 2.25414839e-02 2.02878062e-02\n",
            "   2.42560748e-02 2.19962187e-02 2.42895875e-02 2.53355093e-02\n",
            "   2.33220123e-02 1.95300002e-02 2.07278207e-02 2.08594054e-02\n",
            "   1.91478971e-02 2.03044992e-02 2.02445444e-02 2.30054986e-02\n",
            "   2.18449030e-02 2.42655762e-02 2.21821405e-02 1.65911708e-02\n",
            "   1.78980734e-02 1.90324541e-02 1.97776686e-02 1.99831724e-02\n",
            "   2.26463657e-02 2.25765128e-02 1.78796183e-02 2.13644803e-02\n",
            "   1.98759940e-02 2.34569944e-02 2.26918180e-02 1.75334848e-02\n",
            "   2.14233529e-02 1.74585674e-02 2.21203994e-02 2.19809823e-02\n",
            "   2.27257367e-02 2.23885905e-02 2.32781619e-02 1.92591641e-02\n",
            "   1.58376750e-02 1.92696881e-02 1.97120234e-02 1.76133718e-02\n",
            "   1.81136336e-02 1.75178461e-02 1.54199200e-02 1.30607737e-02\n",
            "   8.95072427e-03 8.82265531e-03 4.73656924e-03 3.66635364e-03\n",
            "   2.71745515e-03 2.38721073e-03 2.38698674e-03 3.61533166e-04\n",
            "   2.35590909e-04]\n",
            "  [1.00000000e+00 3.65465015e-01 2.96577960e-01 2.84535706e-01\n",
            "   2.65793353e-01 1.27648905e-01 8.43822360e-02 1.34752482e-01\n",
            "   1.58340991e-01 8.95065367e-02 7.15166554e-02 5.02530150e-02\n",
            "   6.30194098e-02 6.05511442e-02 3.70833315e-02 2.36429665e-02\n",
            "   2.29304172e-02 2.20264196e-02 1.41109135e-02 1.11390082e-02\n",
            "   2.22073998e-02 2.58856006e-02 2.51264963e-02 1.73697621e-02\n",
            "   1.97661836e-02 2.34911889e-02 2.08031889e-02 1.85215492e-02\n",
            "   2.24362779e-02 2.03006733e-02 2.25123670e-02 2.34956648e-02\n",
            "   2.15620138e-02 1.79471727e-02 1.91014558e-02 1.92028731e-02\n",
            "   1.75832827e-02 1.86728705e-02 1.86322257e-02 2.12424304e-02\n",
            "   2.01320704e-02 2.24177111e-02 2.04848871e-02 1.51457228e-02\n",
            "   1.64106954e-02 1.74584370e-02 1.81602333e-02 1.83650032e-02\n",
            "   2.09211558e-02 2.08361149e-02 1.63534079e-02 1.97065864e-02\n",
            "   1.82720609e-02 2.16493886e-02 2.09641531e-02 1.60435177e-02\n",
            "   1.97201688e-02 1.59767754e-02 2.04204749e-02 2.02645622e-02\n",
            "   2.09581461e-02 2.06805244e-02 2.15178821e-02 1.76898390e-02\n",
            "   1.44486260e-02 1.77062526e-02 1.81079209e-02 1.61222424e-02\n",
            "   1.65851563e-02 1.60337891e-02 1.40399765e-02 1.17152538e-02\n",
            "   7.58533878e-03 7.75792263e-03 3.95642919e-03 3.10874544e-03\n",
            "   2.28298665e-03 1.99509226e-03 1.99454534e-03 2.80240114e-04\n",
            "   1.81165029e-04]\n",
            "  [1.00000000e+00 3.68287593e-01 2.98128426e-01 2.87636966e-01\n",
            "   2.67436326e-01 1.24719441e-01 8.22084248e-02 1.34262398e-01\n",
            "   1.58782765e-01 8.83065239e-02 7.02887326e-02 4.94942181e-02\n",
            "   6.28084540e-02 6.02257252e-02 3.67706567e-02 2.31545232e-02\n",
            "   2.25611329e-02 2.17962135e-02 1.38098383e-02 1.08886119e-02\n",
            "   2.19457578e-02 2.56264005e-02 2.48710979e-02 1.71679854e-02\n",
            "   1.95455626e-02 2.32501756e-02 2.05742531e-02 1.82903577e-02\n",
            "   2.21962612e-02 2.00773403e-02 2.22777035e-02 2.32526492e-02\n",
            "   2.13299543e-02 1.77392308e-02 1.88874416e-02 1.89850144e-02\n",
            "   1.73778292e-02 1.84584130e-02 1.84202287e-02 2.10101437e-02\n",
            "   1.99066866e-02 2.21741647e-02 2.02612579e-02 1.49565665e-02\n",
            "   1.62155479e-02 1.72518399e-02 1.79478358e-02 1.81523971e-02\n",
            "   2.06937976e-02 2.06068717e-02 1.61534566e-02 1.94882844e-02\n",
            "   1.80612970e-02 2.14112997e-02 2.07364745e-02 1.58482529e-02\n",
            "   1.94961783e-02 1.57825742e-02 2.01965347e-02 2.00386159e-02\n",
            "   2.07254104e-02 2.04554424e-02 2.12858021e-02 1.74837206e-02\n",
            "   1.42669240e-02 1.75008737e-02 1.78972166e-02 1.59267820e-02\n",
            "   1.63847860e-02 1.58392657e-02 1.38596594e-02 1.15409251e-02\n",
            "   7.41421105e-03 7.62159238e-03 3.85948992e-03 3.03886784e-03\n",
            "   2.22883606e-03 1.94636988e-03 1.94578362e-03 2.70576158e-04\n",
            "   1.74726010e-04]]]\n",
            "Clases predichas: [[0 0 0 0]]\n"
          ]
        },
        {
          "output_type": "stream",
          "name": "stderr",
          "text": [
            "/usr/local/lib/python3.10/dist-packages/sklearn/base.py:439: UserWarning: X does not have valid feature names, but StandardScaler was fitted with feature names\n",
            "  warnings.warn(\n"
          ]
        }
      ]
    },
    {
      "cell_type": "code",
      "source": [
        "def obtener_etiquetas_activas(predicciones, umbral=0.2):\n",
        "    return (predicciones > umbral).astype(int)\n",
        "\n",
        "def predicciones_a_ids(predicciones, indice_a_id, umbral=0.2):\n",
        "    predicciones_binarias = obtener_etiquetas_activas(predicciones, umbral)\n",
        "    ids_activos = []\n",
        "    for segmento_predicciones in predicciones_binarias:\n",
        "        ids = [indice_a_id[i] for i, activo in enumerate(segmento_predicciones) if activo == 1]\n",
        "        ids_activos.append(ids)\n",
        "    return ids_activos\n",
        "\n",
        "# Ejemplo de uso tras entrenamiento\n",
        "predicciones = model.predict(X_test)\n",
        "ids_predichos = predicciones_a_ids(predicciones[0], indice_a_id)  # Asume indice_a_id es tu mapeo de índice a ID\n",
        "print(\"IDs predichos:\", ids_predichos)\n"
      ],
      "metadata": {
        "colab": {
          "base_uri": "https://localhost:8080/",
          "height": 218
        },
        "id": "omUc4Xny6v7U",
        "outputId": "de125f4b-404f-4ede-f502-6717579b2ec1"
      },
      "execution_count": null,
      "outputs": [
        {
          "output_type": "stream",
          "name": "stdout",
          "text": [
            "\u001b[1m184/184\u001b[0m \u001b[32m━━━━━━━━━━━━━━━━━━━━\u001b[0m\u001b[37m\u001b[0m \u001b[1m1s\u001b[0m 3ms/step\n"
          ]
        },
        {
          "output_type": "error",
          "ename": "NameError",
          "evalue": "name 'indice_a_id' is not defined",
          "traceback": [
            "\u001b[0;31m---------------------------------------------------------------------------\u001b[0m",
            "\u001b[0;31mNameError\u001b[0m                                 Traceback (most recent call last)",
            "\u001b[0;32m<ipython-input-41-a9028d36c5e4>\u001b[0m in \u001b[0;36m<cell line: 14>\u001b[0;34m()\u001b[0m\n\u001b[1;32m     12\u001b[0m \u001b[0;31m# Ejemplo de uso tras entrenamiento\u001b[0m\u001b[0;34m\u001b[0m\u001b[0;34m\u001b[0m\u001b[0m\n\u001b[1;32m     13\u001b[0m \u001b[0mpredicciones\u001b[0m \u001b[0;34m=\u001b[0m \u001b[0mmodel\u001b[0m\u001b[0;34m.\u001b[0m\u001b[0mpredict\u001b[0m\u001b[0;34m(\u001b[0m\u001b[0mX_test\u001b[0m\u001b[0;34m)\u001b[0m\u001b[0;34m\u001b[0m\u001b[0;34m\u001b[0m\u001b[0m\n\u001b[0;32m---> 14\u001b[0;31m \u001b[0mids_predichos\u001b[0m \u001b[0;34m=\u001b[0m \u001b[0mpredicciones_a_ids\u001b[0m\u001b[0;34m(\u001b[0m\u001b[0mpredicciones\u001b[0m\u001b[0;34m[\u001b[0m\u001b[0;36m0\u001b[0m\u001b[0;34m]\u001b[0m\u001b[0;34m,\u001b[0m \u001b[0mindice_a_id\u001b[0m\u001b[0;34m)\u001b[0m  \u001b[0;31m# Asume indice_a_id es tu mapeo de índice a ID\u001b[0m\u001b[0;34m\u001b[0m\u001b[0;34m\u001b[0m\u001b[0m\n\u001b[0m\u001b[1;32m     15\u001b[0m \u001b[0mprint\u001b[0m\u001b[0;34m(\u001b[0m\u001b[0;34m\"IDs predichos:\"\u001b[0m\u001b[0;34m,\u001b[0m \u001b[0mids_predichos\u001b[0m\u001b[0;34m)\u001b[0m\u001b[0;34m\u001b[0m\u001b[0;34m\u001b[0m\u001b[0m\n",
            "\u001b[0;31mNameError\u001b[0m: name 'indice_a_id' is not defined"
          ]
        }
      ]
    },
    {
      "cell_type": "markdown",
      "source": [],
      "metadata": {
        "id": "atRtb70N1KR9"
      }
    },
    {
      "cell_type": "markdown",
      "source": [],
      "metadata": {
        "id": "OiV_uM-SxCg0"
      }
    }
  ]
}