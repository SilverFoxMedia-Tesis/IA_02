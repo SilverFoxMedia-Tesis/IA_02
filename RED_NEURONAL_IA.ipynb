{
  "nbformat": 4,
  "nbformat_minor": 0,
  "metadata": {
    "colab": {
      "provenance": [],
      "authorship_tag": "ABX9TyNbufLWqb3SyS2TQ3kf5AxQ",
      "include_colab_link": true
    },
    "kernelspec": {
      "name": "python3",
      "display_name": "Python 3"
    },
    "language_info": {
      "name": "python"
    }
  },
  "cells": [
    {
      "cell_type": "markdown",
      "metadata": {
        "id": "view-in-github",
        "colab_type": "text"
      },
      "source": [
        "<a href=\"https://colab.research.google.com/github/SilverFoxMedia-Tesis/IA_02/blob/main/RED_NEURONAL_IA.ipynb\" target=\"_parent\"><img src=\"https://colab.research.google.com/assets/colab-badge.svg\" alt=\"Open In Colab\"/></a>"
      ]
    },
    {
      "cell_type": "code",
      "execution_count": 7,
      "metadata": {
        "colab": {
          "base_uri": "https://localhost:8080/"
        },
        "id": "43odr2fO4HF1",
        "outputId": "10d83206-3af9-41e9-d1e0-66ecf08fa739"
      },
      "outputs": [
        {
          "output_type": "stream",
          "name": "stdout",
          "text": [
            "   Gender  Age Diabetes  Weight  Height  AbdominalCircumference  \\\n",
            "0    MALE   39       NO    75.0   171.0                    95.6   \n",
            "1  FEMALE   22       NO    65.9   158.1                    89.5   \n",
            "2  FEMALE   20       NO    58.3   161.5                    82.9   \n",
            "3    MALE   33       NO    73.8   170.7                    93.7   \n",
            "4  FEMALE   38       NO    53.9   151.5                    74.9   \n",
            "\n",
            "  PhysicalActivity      TMB ClassificationIMC  Deficit  ...  desayuno_carbs  \\\n",
            "0               No  1749.00        Overweight  1399.20  ...         43.7250   \n",
            "1           Slight  2027.48        Overweight  1621.98  ...         50.6875   \n",
            "2           Slight  1949.09     Normal_Weight  1559.27  ...         48.7275   \n",
            "3               No  1735.08        Overweight  1388.06  ...         43.3775   \n",
            "4               No  1297.93     Normal_Weight  1038.34  ...         32.4475   \n",
            "\n",
            "   desayuno_grasas  almuerzo_carbs  almuerzo_grasas  cena_carbs  cena_grasas  \\\n",
            "0          11.6600         61.2150          16.3240      69.960       18.656   \n",
            "1          13.5175         70.9625          18.9245      81.100       21.628   \n",
            "2          12.9950         68.2185          18.1930      77.964       20.792   \n",
            "3          11.5675         60.7285          16.1945      69.404       18.508   \n",
            "4           8.6525         45.4265          12.1135      51.916       13.844   \n",
            "\n",
            "        Desayuno           Almuerzo           Cena                Rutina  \n",
            "0  [1, 136, 103]  [35, 59, 68, 135]  [55, 82, 122]   [37, 5, 40, 30, 33]  \n",
            "1  [1, 134, 103]  [35, 62, 68, 135]  [55, 82, 123]  [31, 19, 29, 10, 12]  \n",
            "2  [1, 136, 103]  [35, 62, 68, 135]  [55, 82, 123]    [5, 37, 15, 38, 0]  \n",
            "3  [1, 136, 103]  [35, 59, 68, 135]  [55, 82, 122]   [5, 37, 45, 31, 12]  \n",
            "4  [0, 125, 103]       [35, 52, 68]       [55, 82]    [14, 50, 4, 17, 7]  \n",
            "\n",
            "[5 rows x 24 columns]\n",
            "<class 'pandas.core.frame.DataFrame'>\n",
            "RangeIndex: 29397 entries, 0 to 29396\n",
            "Data columns (total 24 columns):\n",
            " #   Column                  Non-Null Count  Dtype  \n",
            "---  ------                  --------------  -----  \n",
            " 0   Gender                  29397 non-null  object \n",
            " 1   Age                     29397 non-null  int64  \n",
            " 2   Diabetes                29397 non-null  object \n",
            " 3   Weight                  29397 non-null  float64\n",
            " 4   Height                  29397 non-null  float64\n",
            " 5   AbdominalCircumference  29397 non-null  float64\n",
            " 6   PhysicalActivity        29397 non-null  object \n",
            " 7   TMB                     29397 non-null  float64\n",
            " 8   ClassificationIMC       29397 non-null  object \n",
            " 9   Deficit                 29397 non-null  float64\n",
            " 10  PesoAperder             29397 non-null  float64\n",
            " 11  Carbohidratos_G         29397 non-null  float64\n",
            " 12  Proteinas_G             29397 non-null  float64\n",
            " 13  Grasas_G                29397 non-null  float64\n",
            " 14  desayuno_carbs          29397 non-null  float64\n",
            " 15  desayuno_grasas         29397 non-null  float64\n",
            " 16  almuerzo_carbs          29397 non-null  float64\n",
            " 17  almuerzo_grasas         29397 non-null  float64\n",
            " 18  cena_carbs              29397 non-null  float64\n",
            " 19  cena_grasas             29397 non-null  float64\n",
            " 20  Desayuno                29397 non-null  object \n",
            " 21  Almuerzo                29397 non-null  object \n",
            " 22  Cena                    29397 non-null  object \n",
            " 23  Rutina                  29397 non-null  object \n",
            "dtypes: float64(15), int64(1), object(8)\n",
            "memory usage: 5.4+ MB\n",
            "None\n",
            "                Age        Weight        Height  AbdominalCircumference  \\\n",
            "count  29397.000000  29397.000000  29397.000000            29397.000000   \n",
            "mean      40.255128     67.673994    156.872075               92.343930   \n",
            "std       15.841844     13.823267      8.744149               11.550399   \n",
            "min       18.000000     23.800000    123.500000               51.100000   \n",
            "25%       28.000000     58.200000    150.500000               84.400000   \n",
            "50%       36.000000     66.200000    156.200000               91.900000   \n",
            "75%       50.000000     75.600000    163.000000               99.500000   \n",
            "max       97.000000    170.400000    189.500000              160.000000   \n",
            "\n",
            "                TMB       Deficit   PesoAperder  Carbohidratos_G  \\\n",
            "count  29397.000000  29397.000000  29397.000000     29397.000000   \n",
            "mean    1940.002919   1552.002348      1.353496       194.000299   \n",
            "std      468.087877    374.470303      0.276481        46.808786   \n",
            "min      933.050000    746.440000      0.480000        93.310000   \n",
            "25%     1580.380000   1264.300000      1.160000       158.040000   \n",
            "50%     1903.810000   1523.050000      1.320000       190.380000   \n",
            "75%     2234.980000   1787.980000      1.510000       223.500000   \n",
            "max     4378.700000   3502.960000      3.410000       437.870000   \n",
            "\n",
            "        Proteinas_G      Grasas_G  desayuno_carbs  desayuno_grasas  \\\n",
            "count  29397.000000  29397.000000    29397.000000     29397.000000   \n",
            "mean      78.330654     51.733324       48.500075        12.933331   \n",
            "std       19.166888     12.482334       11.702196         3.120584   \n",
            "min       37.320000     24.880000       23.327500         6.220000   \n",
            "25%       63.820000     42.140000       39.510000        10.535000   \n",
            "50%       76.660000     50.770000       47.595000        12.692500   \n",
            "75%       90.280000     59.600000       55.875000        14.900000   \n",
            "max      217.260000    116.770000      109.467500        29.192500   \n",
            "\n",
            "       almuerzo_carbs  almuerzo_grasas    cena_carbs   cena_grasas  \n",
            "count    29397.000000     29397.000000  29397.000000  29397.000000  \n",
            "mean        67.900105        18.106664     77.600120     20.693330  \n",
            "std         16.383075         4.368817     18.723514      4.992934  \n",
            "min         32.658500         8.708000     37.324000      9.952000  \n",
            "25%         55.314000        14.749000     63.216000     16.856000  \n",
            "50%         66.633000        17.769500     76.152000     20.308000  \n",
            "75%         78.225000        20.860000     89.400000     23.840000  \n",
            "max        153.254500        40.869500    175.148000     46.708000  \n"
          ]
        }
      ],
      "source": [
        "import pandas as pd\n",
        "import tensorflow as tf\n",
        "import keras\n",
        "\n",
        "# Cargar el dataset para revisar las primeras filas y obtener una descripción general de los datos\n",
        "file_path = '/train_last_modified_v3.csv'\n",
        "data = pd.read_csv(file_path)\n",
        "\n",
        "# Mostrar las primeras filas y la información del dataset\n",
        "print(data.head())\n",
        "print(data.info())\n",
        "print(data.describe())\n",
        "\n"
      ]
    },
    {
      "cell_type": "code",
      "source": [
        "from tensorflow.keras.preprocessing.text import Tokenizer\n",
        "from tensorflow.keras.preprocessing.sequence import pad_sequences\n",
        "from sklearn.preprocessing import StandardScaler\n",
        "from sklearn.model_selection import train_test_split\n",
        "\n",
        "# Preprocesamiento de las características\n",
        "scaler = StandardScaler()\n",
        "X = scaler.fit_transform(data[['TMB', 'desayuno_carbs', 'desayuno_grasas', 'almuerzo_carbs', 'almuerzo_grasas', 'cena_carbs', 'cena_grasas']])\n",
        "\n",
        "# Preparar etiquetas\n",
        "tokenizer = Tokenizer()\n",
        "# Asumiendo que cada columna de comidas es una lista convertida a cadena. Ajustar según los datos.\n",
        "data['Desayuno'] = data['Desayuno'].apply(eval)  # Convierte de string de lista a lista real, si es necesario\n",
        "tokenizer.fit_on_texts(data['Desayuno'].explode().astype(str))\n",
        "vocab_size = len(tokenizer.word_index) + 1\n",
        "\n",
        "Y_desayuno = tokenizer.texts_to_sequences(data['Desayuno'].astype(str))\n",
        "Y_desayuno_padded = pad_sequences(Y_desayuno, padding='post', maxlen=10)  # Ajusta 'maxlen' según la longitud necesaria\n",
        "\n",
        "# Dividir los datos en entrenamiento y prueba\n",
        "X_train, X_test, Y_train, Y_test = train_test_split(X, Y_desayuno_padded, test_size=0.2, random_state=42)\n",
        "\n",
        "# Imprimir tamaños para verificar\n",
        "print(\"X_train shape:\", X_train.shape)\n",
        "print(\"Y_train shape:\", Y_train.shape)\n",
        "print(\"X_test shape:\", X_test.shape)\n",
        "print(\"Y_test shape:\", Y_test.shape)\n"
      ],
      "metadata": {
        "colab": {
          "base_uri": "https://localhost:8080/"
        },
        "id": "n43K1Lho7ZZ3",
        "outputId": "560d58f2-d757-4188-dfda-1a38950324b9"
      },
      "execution_count": 8,
      "outputs": [
        {
          "output_type": "stream",
          "name": "stdout",
          "text": [
            "X_train shape: (23517, 7)\n",
            "Y_train shape: (23517, 10)\n",
            "X_test shape: (5880, 7)\n",
            "Y_test shape: (5880, 10)\n"
          ]
        }
      ]
    },
    {
      "cell_type": "code",
      "source": [],
      "metadata": {
        "id": "RL5lWTaId6kC"
      },
      "execution_count": null,
      "outputs": []
    },
    {
      "cell_type": "code",
      "source": [
        "from tensorflow.keras.models import Sequential\n",
        "from tensorflow.keras.layers import LSTM, Dropout, TimeDistributed, Dense, Input\n",
        "from tensorflow.keras.utils import to_categorical\n",
        "\n",
        "# Tamaño del vocabulario y longitud de secuencia\n",
        "vocab_size = 16  # Asegúrate de que esto es correcto según tus IDs\n",
        "sequence_length = 7  # Cambiar según la estructura de tus datos\n",
        "\n",
        "# Reconstruir el modelo con la configuración correcta\n",
        "model = Sequential([\n",
        "    Input(shape=(sequence_length, 1)),\n",
        "    LSTM(100, return_sequences=True),\n",
        "    Dropout(0.5),\n",
        "    TimeDistributed(Dense(vocab_size, activation='softmax'))\n",
        "])\n",
        "\n",
        "model.compile(optimizer='adam', loss='categorical_crossentropy', metrics=['accuracy'])\n",
        "model.summary()\n",
        "\n",
        "# Preparar X_train y X_test para tener la forma correcta\n",
        "X_train_lstm = X_train.reshape((X_train.shape[0], sequence_length, 1))\n",
        "X_test_lstm = X_test.reshape((X_test.shape[0], sequence_length, 1))\n",
        "\n",
        "# Asegurarse de que las formas de las etiquetas sean (None, 7, 16) ajustando si es necesario\n",
        "Y_train_cat = Y_train_cat[:, :sequence_length, :]\n",
        "Y_test_cat = Y_test_cat[:, :sequence_length, :]\n",
        "\n",
        "# Verificar las formas finales\n",
        "print(\"X_train_lstm shape:\", X_train_lstm.shape)\n",
        "print(\"Y_train_cat shape:\", Y_train_cat.shape)\n",
        "print(\"X_test_lstm shape:\", X_test_lstm.shape)\n",
        "print(\"Y_test_cat shape:\", Y_test_cat.shape)\n",
        "\n",
        "# Intentar entrenar el modelo nuevamente\n",
        "history = model.fit(X_train_lstm, Y_train_cat, epochs=10, batch_size=32, validation_data=(X_test_lstm, Y_test_cat))\n"
      ],
      "metadata": {
        "colab": {
          "base_uri": "https://localhost:8080/",
          "height": 666
        },
        "id": "BIRjoqgs71P5",
        "outputId": "a65d1d14-4509-4c2c-934e-6e3fd760046f"
      },
      "execution_count": 14,
      "outputs": [
        {
          "output_type": "display_data",
          "data": {
            "text/plain": [
              "\u001b[1mModel: \"sequential_6\"\u001b[0m\n"
            ],
            "text/html": [
              "<pre style=\"white-space:pre;overflow-x:auto;line-height:normal;font-family:Menlo,'DejaVu Sans Mono',consolas,'Courier New',monospace\"><span style=\"font-weight: bold\">Model: \"sequential_6\"</span>\n",
              "</pre>\n"
            ]
          },
          "metadata": {}
        },
        {
          "output_type": "display_data",
          "data": {
            "text/plain": [
              "┏━━━━━━━━━━━━━━━━━━━━━━━━━━━━━━━━━━━━━━┳━━━━━━━━━━━━━━━━━━━━━━━━━━━━━┳━━━━━━━━━━━━━━━━━┓\n",
              "┃\u001b[1m \u001b[0m\u001b[1mLayer (type)                        \u001b[0m\u001b[1m \u001b[0m┃\u001b[1m \u001b[0m\u001b[1mOutput Shape               \u001b[0m\u001b[1m \u001b[0m┃\u001b[1m \u001b[0m\u001b[1m        Param #\u001b[0m\u001b[1m \u001b[0m┃\n",
              "┡━━━━━━━━━━━━━━━━━━━━━━━━━━━━━━━━━━━━━━╇━━━━━━━━━━━━━━━━━━━━━━━━━━━━━╇━━━━━━━━━━━━━━━━━┩\n",
              "│ lstm_6 (\u001b[38;5;33mLSTM\u001b[0m)                        │ (\u001b[38;5;45mNone\u001b[0m, \u001b[38;5;34m7\u001b[0m, \u001b[38;5;34m100\u001b[0m)              │          \u001b[38;5;34m40,800\u001b[0m │\n",
              "├──────────────────────────────────────┼─────────────────────────────┼─────────────────┤\n",
              "│ dropout_6 (\u001b[38;5;33mDropout\u001b[0m)                  │ (\u001b[38;5;45mNone\u001b[0m, \u001b[38;5;34m7\u001b[0m, \u001b[38;5;34m100\u001b[0m)              │               \u001b[38;5;34m0\u001b[0m │\n",
              "├──────────────────────────────────────┼─────────────────────────────┼─────────────────┤\n",
              "│ time_distributed_6 (\u001b[38;5;33mTimeDistributed\u001b[0m) │ (\u001b[38;5;45mNone\u001b[0m, \u001b[38;5;34m7\u001b[0m, \u001b[38;5;34m16\u001b[0m)               │           \u001b[38;5;34m1,616\u001b[0m │\n",
              "└──────────────────────────────────────┴─────────────────────────────┴─────────────────┘\n"
            ],
            "text/html": [
              "<pre style=\"white-space:pre;overflow-x:auto;line-height:normal;font-family:Menlo,'DejaVu Sans Mono',consolas,'Courier New',monospace\">┏━━━━━━━━━━━━━━━━━━━━━━━━━━━━━━━━━━━━━━┳━━━━━━━━━━━━━━━━━━━━━━━━━━━━━┳━━━━━━━━━━━━━━━━━┓\n",
              "┃<span style=\"font-weight: bold\"> Layer (type)                         </span>┃<span style=\"font-weight: bold\"> Output Shape                </span>┃<span style=\"font-weight: bold\">         Param # </span>┃\n",
              "┡━━━━━━━━━━━━━━━━━━━━━━━━━━━━━━━━━━━━━━╇━━━━━━━━━━━━━━━━━━━━━━━━━━━━━╇━━━━━━━━━━━━━━━━━┩\n",
              "│ lstm_6 (<span style=\"color: #0087ff; text-decoration-color: #0087ff\">LSTM</span>)                        │ (<span style=\"color: #00d7ff; text-decoration-color: #00d7ff\">None</span>, <span style=\"color: #00af00; text-decoration-color: #00af00\">7</span>, <span style=\"color: #00af00; text-decoration-color: #00af00\">100</span>)              │          <span style=\"color: #00af00; text-decoration-color: #00af00\">40,800</span> │\n",
              "├──────────────────────────────────────┼─────────────────────────────┼─────────────────┤\n",
              "│ dropout_6 (<span style=\"color: #0087ff; text-decoration-color: #0087ff\">Dropout</span>)                  │ (<span style=\"color: #00d7ff; text-decoration-color: #00d7ff\">None</span>, <span style=\"color: #00af00; text-decoration-color: #00af00\">7</span>, <span style=\"color: #00af00; text-decoration-color: #00af00\">100</span>)              │               <span style=\"color: #00af00; text-decoration-color: #00af00\">0</span> │\n",
              "├──────────────────────────────────────┼─────────────────────────────┼─────────────────┤\n",
              "│ time_distributed_6 (<span style=\"color: #0087ff; text-decoration-color: #0087ff\">TimeDistributed</span>) │ (<span style=\"color: #00d7ff; text-decoration-color: #00d7ff\">None</span>, <span style=\"color: #00af00; text-decoration-color: #00af00\">7</span>, <span style=\"color: #00af00; text-decoration-color: #00af00\">16</span>)               │           <span style=\"color: #00af00; text-decoration-color: #00af00\">1,616</span> │\n",
              "└──────────────────────────────────────┴─────────────────────────────┴─────────────────┘\n",
              "</pre>\n"
            ]
          },
          "metadata": {}
        },
        {
          "output_type": "display_data",
          "data": {
            "text/plain": [
              "\u001b[1m Total params: \u001b[0m\u001b[38;5;34m42,416\u001b[0m (165.69 KB)\n"
            ],
            "text/html": [
              "<pre style=\"white-space:pre;overflow-x:auto;line-height:normal;font-family:Menlo,'DejaVu Sans Mono',consolas,'Courier New',monospace\"><span style=\"font-weight: bold\"> Total params: </span><span style=\"color: #00af00; text-decoration-color: #00af00\">42,416</span> (165.69 KB)\n",
              "</pre>\n"
            ]
          },
          "metadata": {}
        },
        {
          "output_type": "display_data",
          "data": {
            "text/plain": [
              "\u001b[1m Trainable params: \u001b[0m\u001b[38;5;34m42,416\u001b[0m (165.69 KB)\n"
            ],
            "text/html": [
              "<pre style=\"white-space:pre;overflow-x:auto;line-height:normal;font-family:Menlo,'DejaVu Sans Mono',consolas,'Courier New',monospace\"><span style=\"font-weight: bold\"> Trainable params: </span><span style=\"color: #00af00; text-decoration-color: #00af00\">42,416</span> (165.69 KB)\n",
              "</pre>\n"
            ]
          },
          "metadata": {}
        },
        {
          "output_type": "display_data",
          "data": {
            "text/plain": [
              "\u001b[1m Non-trainable params: \u001b[0m\u001b[38;5;34m0\u001b[0m (0.00 B)\n"
            ],
            "text/html": [
              "<pre style=\"white-space:pre;overflow-x:auto;line-height:normal;font-family:Menlo,'DejaVu Sans Mono',consolas,'Courier New',monospace\"><span style=\"font-weight: bold\"> Non-trainable params: </span><span style=\"color: #00af00; text-decoration-color: #00af00\">0</span> (0.00 B)\n",
              "</pre>\n"
            ]
          },
          "metadata": {}
        },
        {
          "output_type": "stream",
          "name": "stdout",
          "text": [
            "X_train_lstm shape: (23517, 7, 1)\n",
            "Y_train_cat shape: (23517, 7, 16)\n",
            "X_test_lstm shape: (5880, 7, 1)\n",
            "Y_test_cat shape: (5880, 7, 16)\n",
            "Epoch 1/10\n",
            "\u001b[1m735/735\u001b[0m \u001b[32m━━━━━━━━━━━━━━━━━━━━\u001b[0m\u001b[37m\u001b[0m \u001b[1m11s\u001b[0m 11ms/step - accuracy: 0.6572 - loss: 1.1741 - val_accuracy: 0.9588 - val_loss: 0.1708\n",
            "Epoch 2/10\n",
            "\u001b[1m735/735\u001b[0m \u001b[32m━━━━━━━━━━━━━━━━━━━━\u001b[0m\u001b[37m\u001b[0m \u001b[1m10s\u001b[0m 11ms/step - accuracy: 0.9524 - loss: 0.1589 - val_accuracy: 0.9753 - val_loss: 0.0958\n",
            "Epoch 3/10\n",
            "\u001b[1m735/735\u001b[0m \u001b[32m━━━━━━━━━━━━━━━━━━━━\u001b[0m\u001b[37m\u001b[0m \u001b[1m7s\u001b[0m 9ms/step - accuracy: 0.9681 - loss: 0.0994 - val_accuracy: 0.9817 - val_loss: 0.0665\n",
            "Epoch 4/10\n",
            "\u001b[1m735/735\u001b[0m \u001b[32m━━━━━━━━━━━━━━━━━━━━\u001b[0m\u001b[37m\u001b[0m \u001b[1m8s\u001b[0m 10ms/step - accuracy: 0.9758 - loss: 0.0737 - val_accuracy: 0.9880 - val_loss: 0.0471\n",
            "Epoch 5/10\n",
            "\u001b[1m735/735\u001b[0m \u001b[32m━━━━━━━━━━━━━━━━━━━━\u001b[0m\u001b[37m\u001b[0m \u001b[1m10s\u001b[0m 10ms/step - accuracy: 0.9814 - loss: 0.0543 - val_accuracy: 0.9908 - val_loss: 0.0344\n",
            "Epoch 6/10\n",
            "\u001b[1m735/735\u001b[0m \u001b[32m━━━━━━━━━━━━━━━━━━━━\u001b[0m\u001b[37m\u001b[0m \u001b[1m7s\u001b[0m 9ms/step - accuracy: 0.9855 - loss: 0.0422 - val_accuracy: 0.9945 - val_loss: 0.0265\n",
            "Epoch 7/10\n",
            "\u001b[1m735/735\u001b[0m \u001b[32m━━━━━━━━━━━━━━━━━━━━\u001b[0m\u001b[37m\u001b[0m \u001b[1m10s\u001b[0m 9ms/step - accuracy: 0.9871 - loss: 0.0359 - val_accuracy: 0.9893 - val_loss: 0.0276\n",
            "Epoch 8/10\n",
            "\u001b[1m735/735\u001b[0m \u001b[32m━━━━━━━━━━━━━━━━━━━━\u001b[0m\u001b[37m\u001b[0m \u001b[1m8s\u001b[0m 10ms/step - accuracy: 0.9881 - loss: 0.0332 - val_accuracy: 0.9958 - val_loss: 0.0196\n",
            "Epoch 9/10\n",
            "\u001b[1m735/735\u001b[0m \u001b[32m━━━━━━━━━━━━━━━━━━━━\u001b[0m\u001b[37m\u001b[0m \u001b[1m10s\u001b[0m 10ms/step - accuracy: 0.9896 - loss: 0.0288 - val_accuracy: 0.9945 - val_loss: 0.0185\n",
            "Epoch 10/10\n",
            "\u001b[1m735/735\u001b[0m \u001b[32m━━━━━━━━━━━━━━━━━━━━\u001b[0m\u001b[37m\u001b[0m \u001b[1m10s\u001b[0m 9ms/step - accuracy: 0.9904 - loss: 0.0259 - val_accuracy: 0.9928 - val_loss: 0.0197\n"
          ]
        }
      ]
    },
    {
      "cell_type": "code",
      "source": [
        "from google.colab import files\n",
        "model.save('fitLifeBuddy_IA_v2.keras')\n",
        "# Descargar el archivo al sistema local\n",
        "files.download('fitLifeBuddy_IA_v2.keras')"
      ],
      "metadata": {
        "colab": {
          "base_uri": "https://localhost:8080/",
          "height": 17
        },
        "id": "DsSddlPF_u8R",
        "outputId": "59cdcf53-24a6-4e61-ab68-3eb2b70178bf"
      },
      "execution_count": 16,
      "outputs": [
        {
          "output_type": "display_data",
          "data": {
            "text/plain": [
              "<IPython.core.display.Javascript object>"
            ],
            "application/javascript": [
              "\n",
              "    async function download(id, filename, size) {\n",
              "      if (!google.colab.kernel.accessAllowed) {\n",
              "        return;\n",
              "      }\n",
              "      const div = document.createElement('div');\n",
              "      const label = document.createElement('label');\n",
              "      label.textContent = `Downloading \"${filename}\": `;\n",
              "      div.appendChild(label);\n",
              "      const progress = document.createElement('progress');\n",
              "      progress.max = size;\n",
              "      div.appendChild(progress);\n",
              "      document.body.appendChild(div);\n",
              "\n",
              "      const buffers = [];\n",
              "      let downloaded = 0;\n",
              "\n",
              "      const channel = await google.colab.kernel.comms.open(id);\n",
              "      // Send a message to notify the kernel that we're ready.\n",
              "      channel.send({})\n",
              "\n",
              "      for await (const message of channel.messages) {\n",
              "        // Send a message to notify the kernel that we're ready.\n",
              "        channel.send({})\n",
              "        if (message.buffers) {\n",
              "          for (const buffer of message.buffers) {\n",
              "            buffers.push(buffer);\n",
              "            downloaded += buffer.byteLength;\n",
              "            progress.value = downloaded;\n",
              "          }\n",
              "        }\n",
              "      }\n",
              "      const blob = new Blob(buffers, {type: 'application/binary'});\n",
              "      const a = document.createElement('a');\n",
              "      a.href = window.URL.createObjectURL(blob);\n",
              "      a.download = filename;\n",
              "      div.appendChild(a);\n",
              "      a.click();\n",
              "      div.remove();\n",
              "    }\n",
              "  "
            ]
          },
          "metadata": {}
        },
        {
          "output_type": "display_data",
          "data": {
            "text/plain": [
              "<IPython.core.display.Javascript object>"
            ],
            "application/javascript": [
              "download(\"download_021bc6c9-23b9-4e73-83c9-1a09f2d6aa94\", \"fitLifeBuddy_IA_v2.keras\", 531690)"
            ]
          },
          "metadata": {}
        }
      ]
    },
    {
      "cell_type": "code",
      "source": [
        "\n",
        "# Asegúrate de haber guardado el modelo en formato .keras\n",
        "model.save('fitLifeBuddy_IA_v2.h5')\n",
        "\n",
        "# Descargar el archivo al sistema local\n",
        "files.download('fitLifeBuddy_IA_v2.h5')\n"
      ],
      "metadata": {
        "colab": {
          "base_uri": "https://localhost:8080/",
          "height": 55
        },
        "id": "R7H0z5x8A922",
        "outputId": "152fb74d-4f91-49a7-fd7c-90c2360cc3c4"
      },
      "execution_count": 17,
      "outputs": [
        {
          "output_type": "stream",
          "name": "stderr",
          "text": [
            "WARNING:absl:You are saving your model as an HDF5 file via `model.save()` or `keras.saving.save_model(model)`. This file format is considered legacy. We recommend using instead the native Keras format, e.g. `model.save('my_model.keras')` or `keras.saving.save_model(model, 'my_model.keras')`. \n"
          ]
        },
        {
          "output_type": "display_data",
          "data": {
            "text/plain": [
              "<IPython.core.display.Javascript object>"
            ],
            "application/javascript": [
              "\n",
              "    async function download(id, filename, size) {\n",
              "      if (!google.colab.kernel.accessAllowed) {\n",
              "        return;\n",
              "      }\n",
              "      const div = document.createElement('div');\n",
              "      const label = document.createElement('label');\n",
              "      label.textContent = `Downloading \"${filename}\": `;\n",
              "      div.appendChild(label);\n",
              "      const progress = document.createElement('progress');\n",
              "      progress.max = size;\n",
              "      div.appendChild(progress);\n",
              "      document.body.appendChild(div);\n",
              "\n",
              "      const buffers = [];\n",
              "      let downloaded = 0;\n",
              "\n",
              "      const channel = await google.colab.kernel.comms.open(id);\n",
              "      // Send a message to notify the kernel that we're ready.\n",
              "      channel.send({})\n",
              "\n",
              "      for await (const message of channel.messages) {\n",
              "        // Send a message to notify the kernel that we're ready.\n",
              "        channel.send({})\n",
              "        if (message.buffers) {\n",
              "          for (const buffer of message.buffers) {\n",
              "            buffers.push(buffer);\n",
              "            downloaded += buffer.byteLength;\n",
              "            progress.value = downloaded;\n",
              "          }\n",
              "        }\n",
              "      }\n",
              "      const blob = new Blob(buffers, {type: 'application/binary'});\n",
              "      const a = document.createElement('a');\n",
              "      a.href = window.URL.createObjectURL(blob);\n",
              "      a.download = filename;\n",
              "      div.appendChild(a);\n",
              "      a.click();\n",
              "      div.remove();\n",
              "    }\n",
              "  "
            ]
          },
          "metadata": {}
        },
        {
          "output_type": "display_data",
          "data": {
            "text/plain": [
              "<IPython.core.display.Javascript object>"
            ],
            "application/javascript": [
              "download(\"download_2f552932-f423-4da7-b15b-b00936b52093\", \"fitLifeBuddy_IA_v2.h5\", 528360)"
            ]
          },
          "metadata": {}
        }
      ]
    },
    {
      "cell_type": "code",
      "source": [
        "print(\"TensorFlow version:\", tf.__version__)\n",
        "print(\"Keras version:\", keras.__version__)"
      ],
      "metadata": {
        "colab": {
          "base_uri": "https://localhost:8080/"
        },
        "id": "JIzTpcBVWt2y",
        "outputId": "de7fc825-c831-4739-eef2-e83c8b85e845"
      },
      "execution_count": 19,
      "outputs": [
        {
          "output_type": "stream",
          "name": "stdout",
          "text": [
            "TensorFlow version: 2.16.1\n",
            "Keras version: 3.2.1\n"
          ]
        }
      ]
    },
    {
      "cell_type": "code",
      "source": [
        "pip install tensorflow==2.16.1"
      ],
      "metadata": {
        "colab": {
          "base_uri": "https://localhost:8080/",
          "height": 1000
        },
        "id": "qTi_-Kd9XfY9",
        "outputId": "c6e6e988-c11e-4938-e800-7bb2d0d5c936"
      },
      "execution_count": 20,
      "outputs": [
        {
          "output_type": "stream",
          "name": "stdout",
          "text": [
            "Collecting tensorflow==2.16.1\n",
            "  Downloading tensorflow-2.16.1-cp310-cp310-manylinux_2_17_x86_64.manylinux2014_x86_64.whl (589.8 MB)\n",
            "\u001b[2K     \u001b[90m━━━━━━━━━━━━━━━━━━━━━━━━━━━━━━━━━━━━━━━━\u001b[0m \u001b[32m589.8/589.8 MB\u001b[0m \u001b[31m2.1 MB/s\u001b[0m eta \u001b[36m0:00:00\u001b[0m\n",
            "\u001b[?25hRequirement already satisfied: absl-py>=1.0.0 in /usr/local/lib/python3.10/dist-packages (from tensorflow==2.16.1) (1.4.0)\n",
            "Requirement already satisfied: astunparse>=1.6.0 in /usr/local/lib/python3.10/dist-packages (from tensorflow==2.16.1) (1.6.3)\n",
            "Requirement already satisfied: flatbuffers>=23.5.26 in /usr/local/lib/python3.10/dist-packages (from tensorflow==2.16.1) (24.3.25)\n",
            "Requirement already satisfied: gast!=0.5.0,!=0.5.1,!=0.5.2,>=0.2.1 in /usr/local/lib/python3.10/dist-packages (from tensorflow==2.16.1) (0.5.4)\n",
            "Requirement already satisfied: google-pasta>=0.1.1 in /usr/local/lib/python3.10/dist-packages (from tensorflow==2.16.1) (0.2.0)\n",
            "Collecting h5py>=3.10.0 (from tensorflow==2.16.1)\n",
            "  Downloading h5py-3.11.0-cp310-cp310-manylinux_2_17_x86_64.manylinux2014_x86_64.whl (5.3 MB)\n",
            "\u001b[2K     \u001b[90m━━━━━━━━━━━━━━━━━━━━━━━━━━━━━━━━━━━━━━━━\u001b[0m \u001b[32m5.3/5.3 MB\u001b[0m \u001b[31m25.6 MB/s\u001b[0m eta \u001b[36m0:00:00\u001b[0m\n",
            "\u001b[?25hRequirement already satisfied: libclang>=13.0.0 in /usr/local/lib/python3.10/dist-packages (from tensorflow==2.16.1) (18.1.1)\n",
            "Collecting ml-dtypes~=0.3.1 (from tensorflow==2.16.1)\n",
            "  Downloading ml_dtypes-0.3.2-cp310-cp310-manylinux_2_17_x86_64.manylinux2014_x86_64.whl (2.2 MB)\n",
            "\u001b[2K     \u001b[90m━━━━━━━━━━━━━━━━━━━━━━━━━━━━━━━━━━━━━━━━\u001b[0m \u001b[32m2.2/2.2 MB\u001b[0m \u001b[31m25.6 MB/s\u001b[0m eta \u001b[36m0:00:00\u001b[0m\n",
            "\u001b[?25hRequirement already satisfied: opt-einsum>=2.3.2 in /usr/local/lib/python3.10/dist-packages (from tensorflow==2.16.1) (3.3.0)\n",
            "Requirement already satisfied: packaging in /usr/local/lib/python3.10/dist-packages (from tensorflow==2.16.1) (24.0)\n",
            "Requirement already satisfied: protobuf!=4.21.0,!=4.21.1,!=4.21.2,!=4.21.3,!=4.21.4,!=4.21.5,<5.0.0dev,>=3.20.3 in /usr/local/lib/python3.10/dist-packages (from tensorflow==2.16.1) (3.20.3)\n",
            "Requirement already satisfied: requests<3,>=2.21.0 in /usr/local/lib/python3.10/dist-packages (from tensorflow==2.16.1) (2.31.0)\n",
            "Requirement already satisfied: setuptools in /usr/local/lib/python3.10/dist-packages (from tensorflow==2.16.1) (67.7.2)\n",
            "Requirement already satisfied: six>=1.12.0 in /usr/local/lib/python3.10/dist-packages (from tensorflow==2.16.1) (1.16.0)\n",
            "Requirement already satisfied: termcolor>=1.1.0 in /usr/local/lib/python3.10/dist-packages (from tensorflow==2.16.1) (2.4.0)\n",
            "Requirement already satisfied: typing-extensions>=3.6.6 in /usr/local/lib/python3.10/dist-packages (from tensorflow==2.16.1) (4.11.0)\n",
            "Requirement already satisfied: wrapt>=1.11.0 in /usr/local/lib/python3.10/dist-packages (from tensorflow==2.16.1) (1.14.1)\n",
            "Requirement already satisfied: grpcio<2.0,>=1.24.3 in /usr/local/lib/python3.10/dist-packages (from tensorflow==2.16.1) (1.62.1)\n",
            "Collecting tensorboard<2.17,>=2.16 (from tensorflow==2.16.1)\n",
            "  Downloading tensorboard-2.16.2-py3-none-any.whl (5.5 MB)\n",
            "\u001b[2K     \u001b[90m━━━━━━━━━━━━━━━━━━━━━━━━━━━━━━━━━━━━━━━━\u001b[0m \u001b[32m5.5/5.5 MB\u001b[0m \u001b[31m26.7 MB/s\u001b[0m eta \u001b[36m0:00:00\u001b[0m\n",
            "\u001b[?25hCollecting keras>=3.0.0 (from tensorflow==2.16.1)\n",
            "  Downloading keras-3.2.1-py3-none-any.whl (1.1 MB)\n",
            "\u001b[2K     \u001b[90m━━━━━━━━━━━━━━━━━━━━━━━━━━━━━━━━━━━━━━━━\u001b[0m \u001b[32m1.1/1.1 MB\u001b[0m \u001b[31m29.6 MB/s\u001b[0m eta \u001b[36m0:00:00\u001b[0m\n",
            "\u001b[?25hRequirement already satisfied: tensorflow-io-gcs-filesystem>=0.23.1 in /usr/local/lib/python3.10/dist-packages (from tensorflow==2.16.1) (0.36.0)\n",
            "Requirement already satisfied: numpy<2.0.0,>=1.23.5 in /usr/local/lib/python3.10/dist-packages (from tensorflow==2.16.1) (1.25.2)\n",
            "Requirement already satisfied: wheel<1.0,>=0.23.0 in /usr/local/lib/python3.10/dist-packages (from astunparse>=1.6.0->tensorflow==2.16.1) (0.43.0)\n",
            "Requirement already satisfied: rich in /usr/local/lib/python3.10/dist-packages (from keras>=3.0.0->tensorflow==2.16.1) (13.7.1)\n",
            "Collecting namex (from keras>=3.0.0->tensorflow==2.16.1)\n",
            "  Downloading namex-0.0.8-py3-none-any.whl (5.8 kB)\n",
            "Collecting optree (from keras>=3.0.0->tensorflow==2.16.1)\n",
            "  Downloading optree-0.11.0-cp310-cp310-manylinux_2_17_x86_64.manylinux2014_x86_64.whl (311 kB)\n",
            "\u001b[2K     \u001b[90m━━━━━━━━━━━━━━━━━━━━━━━━━━━━━━━━━━━━━━━━\u001b[0m \u001b[32m311.2/311.2 kB\u001b[0m \u001b[31m26.7 MB/s\u001b[0m eta \u001b[36m0:00:00\u001b[0m\n",
            "\u001b[?25hRequirement already satisfied: charset-normalizer<4,>=2 in /usr/local/lib/python3.10/dist-packages (from requests<3,>=2.21.0->tensorflow==2.16.1) (3.3.2)\n",
            "Requirement already satisfied: idna<4,>=2.5 in /usr/local/lib/python3.10/dist-packages (from requests<3,>=2.21.0->tensorflow==2.16.1) (3.7)\n",
            "Requirement already satisfied: urllib3<3,>=1.21.1 in /usr/local/lib/python3.10/dist-packages (from requests<3,>=2.21.0->tensorflow==2.16.1) (2.0.7)\n",
            "Requirement already satisfied: certifi>=2017.4.17 in /usr/local/lib/python3.10/dist-packages (from requests<3,>=2.21.0->tensorflow==2.16.1) (2024.2.2)\n",
            "Requirement already satisfied: markdown>=2.6.8 in /usr/local/lib/python3.10/dist-packages (from tensorboard<2.17,>=2.16->tensorflow==2.16.1) (3.6)\n",
            "Requirement already satisfied: tensorboard-data-server<0.8.0,>=0.7.0 in /usr/local/lib/python3.10/dist-packages (from tensorboard<2.17,>=2.16->tensorflow==2.16.1) (0.7.2)\n",
            "Requirement already satisfied: werkzeug>=1.0.1 in /usr/local/lib/python3.10/dist-packages (from tensorboard<2.17,>=2.16->tensorflow==2.16.1) (3.0.2)\n",
            "Requirement already satisfied: MarkupSafe>=2.1.1 in /usr/local/lib/python3.10/dist-packages (from werkzeug>=1.0.1->tensorboard<2.17,>=2.16->tensorflow==2.16.1) (2.1.5)\n",
            "Requirement already satisfied: markdown-it-py>=2.2.0 in /usr/local/lib/python3.10/dist-packages (from rich->keras>=3.0.0->tensorflow==2.16.1) (3.0.0)\n",
            "Requirement already satisfied: pygments<3.0.0,>=2.13.0 in /usr/local/lib/python3.10/dist-packages (from rich->keras>=3.0.0->tensorflow==2.16.1) (2.16.1)\n",
            "Requirement already satisfied: mdurl~=0.1 in /usr/local/lib/python3.10/dist-packages (from markdown-it-py>=2.2.0->rich->keras>=3.0.0->tensorflow==2.16.1) (0.1.2)\n",
            "Installing collected packages: namex, optree, ml-dtypes, h5py, tensorboard, keras, tensorflow\n",
            "  Attempting uninstall: ml-dtypes\n",
            "    Found existing installation: ml-dtypes 0.2.0\n",
            "    Uninstalling ml-dtypes-0.2.0:\n",
            "      Successfully uninstalled ml-dtypes-0.2.0\n",
            "  Attempting uninstall: h5py\n",
            "    Found existing installation: h5py 3.9.0\n",
            "    Uninstalling h5py-3.9.0:\n",
            "      Successfully uninstalled h5py-3.9.0\n",
            "  Attempting uninstall: tensorboard\n",
            "    Found existing installation: tensorboard 2.15.2\n",
            "    Uninstalling tensorboard-2.15.2:\n",
            "      Successfully uninstalled tensorboard-2.15.2\n",
            "  Attempting uninstall: keras\n",
            "    Found existing installation: keras 2.15.0\n",
            "    Uninstalling keras-2.15.0:\n",
            "      Successfully uninstalled keras-2.15.0\n",
            "  Attempting uninstall: tensorflow\n",
            "    Found existing installation: tensorflow 2.15.0\n",
            "    Uninstalling tensorflow-2.15.0:\n",
            "      Successfully uninstalled tensorflow-2.15.0\n",
            "\u001b[31mERROR: pip's dependency resolver does not currently take into account all the packages that are installed. This behaviour is the source of the following dependency conflicts.\n",
            "tf-keras 2.15.1 requires tensorflow<2.16,>=2.15, but you have tensorflow 2.16.1 which is incompatible.\u001b[0m\u001b[31m\n",
            "\u001b[0mSuccessfully installed h5py-3.11.0 keras-3.2.1 ml-dtypes-0.3.2 namex-0.0.8 optree-0.11.0 tensorboard-2.16.2 tensorflow-2.16.1\n"
          ]
        },
        {
          "output_type": "display_data",
          "data": {
            "application/vnd.colab-display-data+json": {
              "pip_warning": {
                "packages": [
                  "h5py",
                  "keras",
                  "ml_dtypes",
                  "tensorboard",
                  "tensorflow"
                ]
              },
              "id": "5af608cfef814ae38f302b722936949d"
            }
          },
          "metadata": {}
        }
      ]
    },
    {
      "cell_type": "code",
      "source": [
        "import pandas as pd\n",
        "import numpy as np\n",
        "from sklearn.preprocessing import StandardScaler\n",
        "from sklearn.model_selection import train_test_split\n",
        "from tensorflow.keras.models import Sequential\n",
        "from tensorflow.keras.layers import Dense, Input, Reshape, LSTM, Dropout\n",
        "from tensorflow.keras.preprocessing.text import Tokenizer\n",
        "from tensorflow.keras.preprocessing.sequence import pad_sequences\n",
        "from tensorflow.keras.utils import to_categorical\n",
        "\n",
        "# Cargar el dataset\n",
        "file_path = '/train_last_modified_v3.csv'\n",
        "data = pd.read_csv(file_path)\n",
        "\n",
        "# Preprocesamiento de las características de entrada\n",
        "scaler = StandardScaler()\n",
        "X = scaler.fit_transform(data[['Carbohidratos_G', 'Proteinas_G', 'Grasas_G', 'TMB']])\n",
        "\n",
        "# Preparar las etiquetas para desayuno, almuerzo, cena y rutina\n",
        "tokenizer = Tokenizer()\n",
        "data['Desayuno'] = data['Desayuno'].apply(eval)\n",
        "data['Almuerzo'] = data['Almuerzo'].apply(eval)\n",
        "data['Cena'] = data['Cena'].apply(eval)\n",
        "data['Rutina'] = data['Rutina'].apply(eval)\n",
        "\n",
        "# Tokenizar y secuenciar las columnas de comida\n",
        "columns = ['Desayuno', 'Almuerzo', 'Cena', 'Rutina']\n",
        "for column in columns:\n",
        "    tokenizer.fit_on_texts(data[column].explode().astype(str))\n",
        "\n",
        "vocab_size = len(tokenizer.word_index) + 1\n",
        "\n",
        "# Concatenar las secuencias tokenizadas de desayuno, almuerzo, cena y rutina\n",
        "Y = np.zeros((len(data), 4, 10))  # Cambiar 10 por la longitud de secuencia deseada\n",
        "for i, column in enumerate(columns):\n",
        "    sequences = tokenizer.texts_to_sequences(data[column].astype(str))\n",
        "    padded_sequences = pad_sequences(sequences, padding='post', maxlen=10)\n",
        "    Y[:, i, :] = padded_sequences"
      ],
      "metadata": {
        "id": "zEN7SF7XxKAQ"
      },
      "execution_count": 26,
      "outputs": []
    },
    {
      "cell_type": "code",
      "source": [
        "# Asumiendo que 'Y' tiene la forma (num_samples, 4, 10), donde cada entrada es un índice de clase\n",
        "Y_cat = np.zeros((Y.shape[0], 4, 10, vocab_size))  # Convertir a formato categórico\n",
        "\n",
        "for i in range(Y.shape[0]):\n",
        "    for j in range(4):  # Por cada uno de los 4 segmentos (Desayuno, Almuerzo, Cena, Rutina)\n",
        "        for k in range(10):  # Por cada posición en la secuencia de 10\n",
        "            Y_cat[i, j, k, :] = to_categorical(Y[i, j, k], num_classes=vocab_size)\n",
        "\n",
        "# Ahora aplana correctamente la última dimensión\n",
        "Y_train = np.sum(Y_cat, axis=2)  # Suma a lo largo de la secuencia para colapsar en una única distribución de probabilidad\n",
        "\n",
        "# Dividir los datos en entrenamiento y prueba\n",
        "X_train, X_test, Y_train, Y_test = train_test_split(X, Y_train, test_size=0.2, random_state=42)\n",
        "\n",
        "# Construir el modelo\n",
        "model = Sequential([\n",
        "    Input(shape=(4,)),  # 4 características de entrada\n",
        "    Dense(64, activation='relu'),\n",
        "    Dense(4 * vocab_size, activation='relu'),  # Ajustar tamaño según vocab_size total\n",
        "    Reshape((4, vocab_size)),  # Asegurarse de que esta forma sea correcta\n",
        "    LSTM(100, return_sequences=True),\n",
        "    Dropout(0.5),\n",
        "    Dense(vocab_size, activation='sigmoid')  # Cambio clave aquí\n",
        "])\n",
        "\n",
        "model.compile(optimizer='adam', loss='binary_crossentropy', metrics=['accuracy'])\n",
        "model.summary()\n",
        "\n",
        "# Entrenar el modelo\n",
        "history = model.fit(X_train, Y_train, epochs=10, batch_size=32, validation_data=(X_test, Y_test))\n",
        "\n",
        "# Guardar y manejar la descarga del modelo\n",
        "model.save('fitLifeBuddy_IA_v4.keras')\n"
      ],
      "metadata": {
        "colab": {
          "base_uri": "https://localhost:8080/",
          "height": 693
        },
        "id": "QywZrb8etJ-i",
        "outputId": "4e663cc0-2ad6-4bea-ede0-5a9de5d256c4"
      },
      "execution_count": 36,
      "outputs": [
        {
          "output_type": "display_data",
          "data": {
            "text/plain": [
              "\u001b[1mModel: \"sequential_16\"\u001b[0m\n"
            ],
            "text/html": [
              "<pre style=\"white-space:pre;overflow-x:auto;line-height:normal;font-family:Menlo,'DejaVu Sans Mono',consolas,'Courier New',monospace\"><span style=\"font-weight: bold\">Model: \"sequential_16\"</span>\n",
              "</pre>\n"
            ]
          },
          "metadata": {}
        },
        {
          "output_type": "display_data",
          "data": {
            "text/plain": [
              "┏━━━━━━━━━━━━━━━━━━━━━━━━━━━━━━━━━━━━━━┳━━━━━━━━━━━━━━━━━━━━━━━━━━━━━┳━━━━━━━━━━━━━━━━━┓\n",
              "┃\u001b[1m \u001b[0m\u001b[1mLayer (type)                        \u001b[0m\u001b[1m \u001b[0m┃\u001b[1m \u001b[0m\u001b[1mOutput Shape               \u001b[0m\u001b[1m \u001b[0m┃\u001b[1m \u001b[0m\u001b[1m        Param #\u001b[0m\u001b[1m \u001b[0m┃\n",
              "┡━━━━━━━━━━━━━━━━━━━━━━━━━━━━━━━━━━━━━━╇━━━━━━━━━━━━━━━━━━━━━━━━━━━━━╇━━━━━━━━━━━━━━━━━┩\n",
              "│ dense_36 (\u001b[38;5;33mDense\u001b[0m)                     │ (\u001b[38;5;45mNone\u001b[0m, \u001b[38;5;34m64\u001b[0m)                  │             \u001b[38;5;34m320\u001b[0m │\n",
              "├──────────────────────────────────────┼─────────────────────────────┼─────────────────┤\n",
              "│ dense_37 (\u001b[38;5;33mDense\u001b[0m)                     │ (\u001b[38;5;45mNone\u001b[0m, \u001b[38;5;34m324\u001b[0m)                 │          \u001b[38;5;34m21,060\u001b[0m │\n",
              "├──────────────────────────────────────┼─────────────────────────────┼─────────────────┤\n",
              "│ reshape_9 (\u001b[38;5;33mReshape\u001b[0m)                  │ (\u001b[38;5;45mNone\u001b[0m, \u001b[38;5;34m4\u001b[0m, \u001b[38;5;34m81\u001b[0m)               │               \u001b[38;5;34m0\u001b[0m │\n",
              "├──────────────────────────────────────┼─────────────────────────────┼─────────────────┤\n",
              "│ lstm_16 (\u001b[38;5;33mLSTM\u001b[0m)                       │ (\u001b[38;5;45mNone\u001b[0m, \u001b[38;5;34m4\u001b[0m, \u001b[38;5;34m100\u001b[0m)              │          \u001b[38;5;34m72,800\u001b[0m │\n",
              "├──────────────────────────────────────┼─────────────────────────────┼─────────────────┤\n",
              "│ dropout_16 (\u001b[38;5;33mDropout\u001b[0m)                 │ (\u001b[38;5;45mNone\u001b[0m, \u001b[38;5;34m4\u001b[0m, \u001b[38;5;34m100\u001b[0m)              │               \u001b[38;5;34m0\u001b[0m │\n",
              "├──────────────────────────────────────┼─────────────────────────────┼─────────────────┤\n",
              "│ dense_38 (\u001b[38;5;33mDense\u001b[0m)                     │ (\u001b[38;5;45mNone\u001b[0m, \u001b[38;5;34m4\u001b[0m, \u001b[38;5;34m81\u001b[0m)               │           \u001b[38;5;34m8,181\u001b[0m │\n",
              "└──────────────────────────────────────┴─────────────────────────────┴─────────────────┘\n"
            ],
            "text/html": [
              "<pre style=\"white-space:pre;overflow-x:auto;line-height:normal;font-family:Menlo,'DejaVu Sans Mono',consolas,'Courier New',monospace\">┏━━━━━━━━━━━━━━━━━━━━━━━━━━━━━━━━━━━━━━┳━━━━━━━━━━━━━━━━━━━━━━━━━━━━━┳━━━━━━━━━━━━━━━━━┓\n",
              "┃<span style=\"font-weight: bold\"> Layer (type)                         </span>┃<span style=\"font-weight: bold\"> Output Shape                </span>┃<span style=\"font-weight: bold\">         Param # </span>┃\n",
              "┡━━━━━━━━━━━━━━━━━━━━━━━━━━━━━━━━━━━━━━╇━━━━━━━━━━━━━━━━━━━━━━━━━━━━━╇━━━━━━━━━━━━━━━━━┩\n",
              "│ dense_36 (<span style=\"color: #0087ff; text-decoration-color: #0087ff\">Dense</span>)                     │ (<span style=\"color: #00d7ff; text-decoration-color: #00d7ff\">None</span>, <span style=\"color: #00af00; text-decoration-color: #00af00\">64</span>)                  │             <span style=\"color: #00af00; text-decoration-color: #00af00\">320</span> │\n",
              "├──────────────────────────────────────┼─────────────────────────────┼─────────────────┤\n",
              "│ dense_37 (<span style=\"color: #0087ff; text-decoration-color: #0087ff\">Dense</span>)                     │ (<span style=\"color: #00d7ff; text-decoration-color: #00d7ff\">None</span>, <span style=\"color: #00af00; text-decoration-color: #00af00\">324</span>)                 │          <span style=\"color: #00af00; text-decoration-color: #00af00\">21,060</span> │\n",
              "├──────────────────────────────────────┼─────────────────────────────┼─────────────────┤\n",
              "│ reshape_9 (<span style=\"color: #0087ff; text-decoration-color: #0087ff\">Reshape</span>)                  │ (<span style=\"color: #00d7ff; text-decoration-color: #00d7ff\">None</span>, <span style=\"color: #00af00; text-decoration-color: #00af00\">4</span>, <span style=\"color: #00af00; text-decoration-color: #00af00\">81</span>)               │               <span style=\"color: #00af00; text-decoration-color: #00af00\">0</span> │\n",
              "├──────────────────────────────────────┼─────────────────────────────┼─────────────────┤\n",
              "│ lstm_16 (<span style=\"color: #0087ff; text-decoration-color: #0087ff\">LSTM</span>)                       │ (<span style=\"color: #00d7ff; text-decoration-color: #00d7ff\">None</span>, <span style=\"color: #00af00; text-decoration-color: #00af00\">4</span>, <span style=\"color: #00af00; text-decoration-color: #00af00\">100</span>)              │          <span style=\"color: #00af00; text-decoration-color: #00af00\">72,800</span> │\n",
              "├──────────────────────────────────────┼─────────────────────────────┼─────────────────┤\n",
              "│ dropout_16 (<span style=\"color: #0087ff; text-decoration-color: #0087ff\">Dropout</span>)                 │ (<span style=\"color: #00d7ff; text-decoration-color: #00d7ff\">None</span>, <span style=\"color: #00af00; text-decoration-color: #00af00\">4</span>, <span style=\"color: #00af00; text-decoration-color: #00af00\">100</span>)              │               <span style=\"color: #00af00; text-decoration-color: #00af00\">0</span> │\n",
              "├──────────────────────────────────────┼─────────────────────────────┼─────────────────┤\n",
              "│ dense_38 (<span style=\"color: #0087ff; text-decoration-color: #0087ff\">Dense</span>)                     │ (<span style=\"color: #00d7ff; text-decoration-color: #00d7ff\">None</span>, <span style=\"color: #00af00; text-decoration-color: #00af00\">4</span>, <span style=\"color: #00af00; text-decoration-color: #00af00\">81</span>)               │           <span style=\"color: #00af00; text-decoration-color: #00af00\">8,181</span> │\n",
              "└──────────────────────────────────────┴─────────────────────────────┴─────────────────┘\n",
              "</pre>\n"
            ]
          },
          "metadata": {}
        },
        {
          "output_type": "display_data",
          "data": {
            "text/plain": [
              "\u001b[1m Total params: \u001b[0m\u001b[38;5;34m102,361\u001b[0m (399.85 KB)\n"
            ],
            "text/html": [
              "<pre style=\"white-space:pre;overflow-x:auto;line-height:normal;font-family:Menlo,'DejaVu Sans Mono',consolas,'Courier New',monospace\"><span style=\"font-weight: bold\"> Total params: </span><span style=\"color: #00af00; text-decoration-color: #00af00\">102,361</span> (399.85 KB)\n",
              "</pre>\n"
            ]
          },
          "metadata": {}
        },
        {
          "output_type": "display_data",
          "data": {
            "text/plain": [
              "\u001b[1m Trainable params: \u001b[0m\u001b[38;5;34m102,361\u001b[0m (399.85 KB)\n"
            ],
            "text/html": [
              "<pre style=\"white-space:pre;overflow-x:auto;line-height:normal;font-family:Menlo,'DejaVu Sans Mono',consolas,'Courier New',monospace\"><span style=\"font-weight: bold\"> Trainable params: </span><span style=\"color: #00af00; text-decoration-color: #00af00\">102,361</span> (399.85 KB)\n",
              "</pre>\n"
            ]
          },
          "metadata": {}
        },
        {
          "output_type": "display_data",
          "data": {
            "text/plain": [
              "\u001b[1m Non-trainable params: \u001b[0m\u001b[38;5;34m0\u001b[0m (0.00 B)\n"
            ],
            "text/html": [
              "<pre style=\"white-space:pre;overflow-x:auto;line-height:normal;font-family:Menlo,'DejaVu Sans Mono',consolas,'Courier New',monospace\"><span style=\"font-weight: bold\"> Non-trainable params: </span><span style=\"color: #00af00; text-decoration-color: #00af00\">0</span> (0.00 B)\n",
              "</pre>\n"
            ]
          },
          "metadata": {}
        },
        {
          "output_type": "stream",
          "name": "stdout",
          "text": [
            "Epoch 1/10\n",
            "\u001b[1m735/735\u001b[0m \u001b[32m━━━━━━━━━━━━━━━━━━━━\u001b[0m\u001b[37m\u001b[0m \u001b[1m10s\u001b[0m 10ms/step - accuracy: 0.9836 - loss: -1.3750 - val_accuracy: 1.0000 - val_loss: -5.1248\n",
            "Epoch 2/10\n",
            "\u001b[1m735/735\u001b[0m \u001b[32m━━━━━━━━━━━━━━━━━━━━\u001b[0m\u001b[37m\u001b[0m \u001b[1m6s\u001b[0m 8ms/step - accuracy: 1.0000 - loss: -6.2588 - val_accuracy: 1.0000 - val_loss: -9.6590\n",
            "Epoch 3/10\n",
            "\u001b[1m735/735\u001b[0m \u001b[32m━━━━━━━━━━━━━━━━━━━━\u001b[0m\u001b[37m\u001b[0m \u001b[1m7s\u001b[0m 9ms/step - accuracy: 1.0000 - loss: -10.7793 - val_accuracy: 1.0000 - val_loss: -14.1509\n",
            "Epoch 4/10\n",
            "\u001b[1m735/735\u001b[0m \u001b[32m━━━━━━━━━━━━━━━━━━━━\u001b[0m\u001b[37m\u001b[0m \u001b[1m6s\u001b[0m 8ms/step - accuracy: 1.0000 - loss: -15.2816 - val_accuracy: 1.0000 - val_loss: -18.6300\n",
            "Epoch 5/10\n",
            "\u001b[1m735/735\u001b[0m \u001b[32m━━━━━━━━━━━━━━━━━━━━\u001b[0m\u001b[37m\u001b[0m \u001b[1m7s\u001b[0m 10ms/step - accuracy: 1.0000 - loss: -19.7505 - val_accuracy: 1.0000 - val_loss: -23.1037\n",
            "Epoch 6/10\n",
            "\u001b[1m735/735\u001b[0m \u001b[32m━━━━━━━━━━━━━━━━━━━━\u001b[0m\u001b[37m\u001b[0m \u001b[1m10s\u001b[0m 10ms/step - accuracy: 1.0000 - loss: -24.2146 - val_accuracy: 1.0000 - val_loss: -27.5739\n",
            "Epoch 7/10\n",
            "\u001b[1m735/735\u001b[0m \u001b[32m━━━━━━━━━━━━━━━━━━━━\u001b[0m\u001b[37m\u001b[0m \u001b[1m6s\u001b[0m 9ms/step - accuracy: 1.0000 - loss: -28.6952 - val_accuracy: 1.0000 - val_loss: -32.0447\n",
            "Epoch 8/10\n",
            "\u001b[1m735/735\u001b[0m \u001b[32m━━━━━━━━━━━━━━━━━━━━\u001b[0m\u001b[37m\u001b[0m \u001b[1m11s\u001b[0m 9ms/step - accuracy: 1.0000 - loss: -33.1413 - val_accuracy: 1.0000 - val_loss: -36.5129\n",
            "Epoch 9/10\n",
            "\u001b[1m735/735\u001b[0m \u001b[32m━━━━━━━━━━━━━━━━━━━━\u001b[0m\u001b[37m\u001b[0m \u001b[1m11s\u001b[0m 10ms/step - accuracy: 1.0000 - loss: -37.6343 - val_accuracy: 1.0000 - val_loss: -40.9844\n",
            "Epoch 10/10\n",
            "\u001b[1m735/735\u001b[0m \u001b[32m━━━━━━━━━━━━━━━━━━━━\u001b[0m\u001b[37m\u001b[0m \u001b[1m9s\u001b[0m 9ms/step - accuracy: 1.0000 - loss: -42.0934 - val_accuracy: 1.0000 - val_loss: -45.4535\n"
          ]
        }
      ]
    },
    {
      "cell_type": "code",
      "source": [
        "# Descargar el archivo al sistema local\n",
        "files.download('fitLifeBuddy_IA_v4.keras')"
      ],
      "metadata": {
        "colab": {
          "base_uri": "https://localhost:8080/",
          "height": 17
        },
        "id": "AlN6h_SC385T",
        "outputId": "b262eb3b-726a-44d8-d011-d6f4675c5dad"
      },
      "execution_count": 37,
      "outputs": [
        {
          "output_type": "display_data",
          "data": {
            "text/plain": [
              "<IPython.core.display.Javascript object>"
            ],
            "application/javascript": [
              "\n",
              "    async function download(id, filename, size) {\n",
              "      if (!google.colab.kernel.accessAllowed) {\n",
              "        return;\n",
              "      }\n",
              "      const div = document.createElement('div');\n",
              "      const label = document.createElement('label');\n",
              "      label.textContent = `Downloading \"${filename}\": `;\n",
              "      div.appendChild(label);\n",
              "      const progress = document.createElement('progress');\n",
              "      progress.max = size;\n",
              "      div.appendChild(progress);\n",
              "      document.body.appendChild(div);\n",
              "\n",
              "      const buffers = [];\n",
              "      let downloaded = 0;\n",
              "\n",
              "      const channel = await google.colab.kernel.comms.open(id);\n",
              "      // Send a message to notify the kernel that we're ready.\n",
              "      channel.send({})\n",
              "\n",
              "      for await (const message of channel.messages) {\n",
              "        // Send a message to notify the kernel that we're ready.\n",
              "        channel.send({})\n",
              "        if (message.buffers) {\n",
              "          for (const buffer of message.buffers) {\n",
              "            buffers.push(buffer);\n",
              "            downloaded += buffer.byteLength;\n",
              "            progress.value = downloaded;\n",
              "          }\n",
              "        }\n",
              "      }\n",
              "      const blob = new Blob(buffers, {type: 'application/binary'});\n",
              "      const a = document.createElement('a');\n",
              "      a.href = window.URL.createObjectURL(blob);\n",
              "      a.download = filename;\n",
              "      div.appendChild(a);\n",
              "      a.click();\n",
              "      div.remove();\n",
              "    }\n",
              "  "
            ]
          },
          "metadata": {}
        },
        {
          "output_type": "display_data",
          "data": {
            "text/plain": [
              "<IPython.core.display.Javascript object>"
            ],
            "application/javascript": [
              "download(\"download_81383dbe-d823-4ed1-b080-0d8cca49fbb6\", \"fitLifeBuddy_IA_v4.keras\", 1260631)"
            ]
          },
          "metadata": {}
        }
      ]
    },
    {
      "cell_type": "code",
      "source": [
        "import numpy as np\n",
        "\n",
        "# Datos de entrada nuevos\n",
        "nuevos_datos = np.array([[174.90, 69.96, 46.64, 1749.00]])  # Nota que los datos están en un array 2D\n",
        "\n",
        "# Escalar los datos usando el mismo escalador que se usó para el entrenamiento\n",
        "# Asegúrate de que el objeto 'scaler' ha sido ajustado con los datos de entrenamiento y está disponible aquí\n",
        "nuevos_datos_escalados = scaler.transform(nuevos_datos)\n",
        "\n",
        "# Hacer la predicción\n",
        "predicciones = model.predict(nuevos_datos_escalados)\n",
        "print(\"Predicciones crudas:\", predicciones)\n",
        "\n",
        "# Decodificar las predicciones si es necesario\n",
        "# Si tienes clases categóricas y las predicciones son probabilidades, puedes obtener las clases predichas como sigue:\n",
        "predicciones_clases = np.argmax(predicciones, axis=-1)\n",
        "print(\"Clases predichas:\", predicciones_clases)\n"
      ],
      "metadata": {
        "colab": {
          "base_uri": "https://localhost:8080/"
        },
        "id": "BLfEPzHn1hAk",
        "outputId": "a6092408-4428-4ba9-d51c-391e7f770760"
      },
      "execution_count": 40,
      "outputs": [
        {
          "output_type": "stream",
          "name": "stdout",
          "text": [
            "\u001b[1m1/1\u001b[0m \u001b[32m━━━━━━━━━━━━━━━━━━━━\u001b[0m\u001b[37m\u001b[0m \u001b[1m0s\u001b[0m 40ms/step\n",
            "Predicciones crudas: [[[1.00000000e+00 2.28729680e-01 2.19436705e-01 1.47879466e-01\n",
            "   1.86184317e-01 3.84441257e-01 3.03784847e-01 1.63877964e-01\n",
            "   1.35698542e-01 1.80854738e-01 1.75731748e-01 1.12598367e-01\n",
            "   7.55942389e-02 8.10212120e-02 5.86023517e-02 7.22034648e-02\n",
            "   5.49563579e-02 3.89199220e-02 4.51321192e-02 3.80308665e-02\n",
            "   4.21710201e-02 4.46306430e-02 4.36855704e-02 3.27328518e-02\n",
            "   3.63146700e-02 4.10664417e-02 3.78908627e-02 3.65724303e-02\n",
            "   4.01734672e-02 3.69698964e-02 3.97150591e-02 4.12609689e-02\n",
            "   3.87508683e-02 3.37607153e-02 3.51826847e-02 3.56404781e-02\n",
            "   3.32570672e-02 3.49258147e-02 3.46491858e-02 3.85389738e-02\n",
            "   3.70562859e-02 4.05040495e-02 3.71341743e-02 2.99489573e-02\n",
            "   3.13990973e-02 3.32873799e-02 3.43628787e-02 3.45238596e-02\n",
            "   3.78200300e-02 3.79426442e-02 3.18674371e-02 3.60422358e-02\n",
            "   3.42724286e-02 3.94076779e-02 3.78837734e-02 3.11695375e-02\n",
            "   3.66222337e-02 3.10142543e-02 3.71174216e-02 3.72030586e-02\n",
            "   3.83759961e-02 3.74202430e-02 3.87199186e-02 3.33966799e-02\n",
            "   2.87120920e-02 3.33329737e-02 3.41526717e-02 3.12410686e-02\n",
            "   3.20618376e-02 3.10845990e-02 2.83121709e-02 2.64225490e-02\n",
            "   2.61307620e-02 2.03230418e-02 1.52414981e-02 1.07201580e-02\n",
            "   8.44355486e-03 7.67582329e-03 7.68413907e-03 1.90296583e-03\n",
            "   1.30669330e-03]\n",
            "  [1.00000000e+00 3.45260173e-01 2.85465032e-01 2.62642056e-01\n",
            "   2.54062206e-01 1.50709659e-01 1.01780489e-01 1.38355210e-01\n",
            "   1.55163899e-01 9.86652151e-02 8.10386017e-02 5.61001189e-02\n",
            "   6.45707175e-02 6.29631430e-02 3.94307785e-02 2.75019947e-02\n",
            "   2.57935729e-02 2.37701237e-02 1.64988581e-02 1.31351408e-02\n",
            "   2.42001209e-02 2.78449152e-02 2.70584673e-02 1.89058948e-02\n",
            "   2.14421935e-02 2.53151618e-02 2.25414839e-02 2.02878062e-02\n",
            "   2.42560748e-02 2.19962187e-02 2.42895875e-02 2.53355093e-02\n",
            "   2.33220123e-02 1.95300002e-02 2.07278207e-02 2.08594054e-02\n",
            "   1.91478971e-02 2.03044992e-02 2.02445444e-02 2.30054986e-02\n",
            "   2.18449030e-02 2.42655762e-02 2.21821405e-02 1.65911708e-02\n",
            "   1.78980734e-02 1.90324541e-02 1.97776686e-02 1.99831724e-02\n",
            "   2.26463657e-02 2.25765128e-02 1.78796183e-02 2.13644803e-02\n",
            "   1.98759940e-02 2.34569944e-02 2.26918180e-02 1.75334848e-02\n",
            "   2.14233529e-02 1.74585674e-02 2.21203994e-02 2.19809823e-02\n",
            "   2.27257367e-02 2.23885905e-02 2.32781619e-02 1.92591641e-02\n",
            "   1.58376750e-02 1.92696881e-02 1.97120234e-02 1.76133718e-02\n",
            "   1.81136336e-02 1.75178461e-02 1.54199200e-02 1.30607737e-02\n",
            "   8.95072427e-03 8.82265531e-03 4.73656924e-03 3.66635364e-03\n",
            "   2.71745515e-03 2.38721073e-03 2.38698674e-03 3.61533166e-04\n",
            "   2.35590909e-04]\n",
            "  [1.00000000e+00 3.65465015e-01 2.96577960e-01 2.84535706e-01\n",
            "   2.65793353e-01 1.27648905e-01 8.43822360e-02 1.34752482e-01\n",
            "   1.58340991e-01 8.95065367e-02 7.15166554e-02 5.02530150e-02\n",
            "   6.30194098e-02 6.05511442e-02 3.70833315e-02 2.36429665e-02\n",
            "   2.29304172e-02 2.20264196e-02 1.41109135e-02 1.11390082e-02\n",
            "   2.22073998e-02 2.58856006e-02 2.51264963e-02 1.73697621e-02\n",
            "   1.97661836e-02 2.34911889e-02 2.08031889e-02 1.85215492e-02\n",
            "   2.24362779e-02 2.03006733e-02 2.25123670e-02 2.34956648e-02\n",
            "   2.15620138e-02 1.79471727e-02 1.91014558e-02 1.92028731e-02\n",
            "   1.75832827e-02 1.86728705e-02 1.86322257e-02 2.12424304e-02\n",
            "   2.01320704e-02 2.24177111e-02 2.04848871e-02 1.51457228e-02\n",
            "   1.64106954e-02 1.74584370e-02 1.81602333e-02 1.83650032e-02\n",
            "   2.09211558e-02 2.08361149e-02 1.63534079e-02 1.97065864e-02\n",
            "   1.82720609e-02 2.16493886e-02 2.09641531e-02 1.60435177e-02\n",
            "   1.97201688e-02 1.59767754e-02 2.04204749e-02 2.02645622e-02\n",
            "   2.09581461e-02 2.06805244e-02 2.15178821e-02 1.76898390e-02\n",
            "   1.44486260e-02 1.77062526e-02 1.81079209e-02 1.61222424e-02\n",
            "   1.65851563e-02 1.60337891e-02 1.40399765e-02 1.17152538e-02\n",
            "   7.58533878e-03 7.75792263e-03 3.95642919e-03 3.10874544e-03\n",
            "   2.28298665e-03 1.99509226e-03 1.99454534e-03 2.80240114e-04\n",
            "   1.81165029e-04]\n",
            "  [1.00000000e+00 3.68287593e-01 2.98128426e-01 2.87636966e-01\n",
            "   2.67436326e-01 1.24719441e-01 8.22084248e-02 1.34262398e-01\n",
            "   1.58782765e-01 8.83065239e-02 7.02887326e-02 4.94942181e-02\n",
            "   6.28084540e-02 6.02257252e-02 3.67706567e-02 2.31545232e-02\n",
            "   2.25611329e-02 2.17962135e-02 1.38098383e-02 1.08886119e-02\n",
            "   2.19457578e-02 2.56264005e-02 2.48710979e-02 1.71679854e-02\n",
            "   1.95455626e-02 2.32501756e-02 2.05742531e-02 1.82903577e-02\n",
            "   2.21962612e-02 2.00773403e-02 2.22777035e-02 2.32526492e-02\n",
            "   2.13299543e-02 1.77392308e-02 1.88874416e-02 1.89850144e-02\n",
            "   1.73778292e-02 1.84584130e-02 1.84202287e-02 2.10101437e-02\n",
            "   1.99066866e-02 2.21741647e-02 2.02612579e-02 1.49565665e-02\n",
            "   1.62155479e-02 1.72518399e-02 1.79478358e-02 1.81523971e-02\n",
            "   2.06937976e-02 2.06068717e-02 1.61534566e-02 1.94882844e-02\n",
            "   1.80612970e-02 2.14112997e-02 2.07364745e-02 1.58482529e-02\n",
            "   1.94961783e-02 1.57825742e-02 2.01965347e-02 2.00386159e-02\n",
            "   2.07254104e-02 2.04554424e-02 2.12858021e-02 1.74837206e-02\n",
            "   1.42669240e-02 1.75008737e-02 1.78972166e-02 1.59267820e-02\n",
            "   1.63847860e-02 1.58392657e-02 1.38596594e-02 1.15409251e-02\n",
            "   7.41421105e-03 7.62159238e-03 3.85948992e-03 3.03886784e-03\n",
            "   2.22883606e-03 1.94636988e-03 1.94578362e-03 2.70576158e-04\n",
            "   1.74726010e-04]]]\n",
            "Clases predichas: [[0 0 0 0]]\n"
          ]
        },
        {
          "output_type": "stream",
          "name": "stderr",
          "text": [
            "/usr/local/lib/python3.10/dist-packages/sklearn/base.py:439: UserWarning: X does not have valid feature names, but StandardScaler was fitted with feature names\n",
            "  warnings.warn(\n"
          ]
        }
      ]
    },
    {
      "cell_type": "code",
      "source": [
        "def obtener_etiquetas_activas(predicciones, umbral=0.2):\n",
        "    return (predicciones > umbral).astype(int)\n",
        "\n",
        "def predicciones_a_ids(predicciones, indice_a_id, umbral=0.2):\n",
        "    predicciones_binarias = obtener_etiquetas_activas(predicciones, umbral)\n",
        "    ids_activos = []\n",
        "    for segmento_predicciones in predicciones_binarias:\n",
        "        ids = [indice_a_id[i] for i, activo in enumerate(segmento_predicciones) if activo == 1]\n",
        "        ids_activos.append(ids)\n",
        "    return ids_activos\n",
        "\n",
        "# Ejemplo de uso tras entrenamiento\n",
        "predicciones = model.predict(X_test)\n",
        "ids_predichos = predicciones_a_ids(predicciones[0], indice_a_id)  # Asume indice_a_id es tu mapeo de índice a ID\n",
        "print(\"IDs predichos:\", ids_predichos)\n"
      ],
      "metadata": {
        "colab": {
          "base_uri": "https://localhost:8080/",
          "height": 218
        },
        "id": "omUc4Xny6v7U",
        "outputId": "de125f4b-404f-4ede-f502-6717579b2ec1"
      },
      "execution_count": 41,
      "outputs": [
        {
          "output_type": "stream",
          "name": "stdout",
          "text": [
            "\u001b[1m184/184\u001b[0m \u001b[32m━━━━━━━━━━━━━━━━━━━━\u001b[0m\u001b[37m\u001b[0m \u001b[1m1s\u001b[0m 3ms/step\n"
          ]
        },
        {
          "output_type": "error",
          "ename": "NameError",
          "evalue": "name 'indice_a_id' is not defined",
          "traceback": [
            "\u001b[0;31m---------------------------------------------------------------------------\u001b[0m",
            "\u001b[0;31mNameError\u001b[0m                                 Traceback (most recent call last)",
            "\u001b[0;32m<ipython-input-41-a9028d36c5e4>\u001b[0m in \u001b[0;36m<cell line: 14>\u001b[0;34m()\u001b[0m\n\u001b[1;32m     12\u001b[0m \u001b[0;31m# Ejemplo de uso tras entrenamiento\u001b[0m\u001b[0;34m\u001b[0m\u001b[0;34m\u001b[0m\u001b[0m\n\u001b[1;32m     13\u001b[0m \u001b[0mpredicciones\u001b[0m \u001b[0;34m=\u001b[0m \u001b[0mmodel\u001b[0m\u001b[0;34m.\u001b[0m\u001b[0mpredict\u001b[0m\u001b[0;34m(\u001b[0m\u001b[0mX_test\u001b[0m\u001b[0;34m)\u001b[0m\u001b[0;34m\u001b[0m\u001b[0;34m\u001b[0m\u001b[0m\n\u001b[0;32m---> 14\u001b[0;31m \u001b[0mids_predichos\u001b[0m \u001b[0;34m=\u001b[0m \u001b[0mpredicciones_a_ids\u001b[0m\u001b[0;34m(\u001b[0m\u001b[0mpredicciones\u001b[0m\u001b[0;34m[\u001b[0m\u001b[0;36m0\u001b[0m\u001b[0;34m]\u001b[0m\u001b[0;34m,\u001b[0m \u001b[0mindice_a_id\u001b[0m\u001b[0;34m)\u001b[0m  \u001b[0;31m# Asume indice_a_id es tu mapeo de índice a ID\u001b[0m\u001b[0;34m\u001b[0m\u001b[0;34m\u001b[0m\u001b[0m\n\u001b[0m\u001b[1;32m     15\u001b[0m \u001b[0mprint\u001b[0m\u001b[0;34m(\u001b[0m\u001b[0;34m\"IDs predichos:\"\u001b[0m\u001b[0;34m,\u001b[0m \u001b[0mids_predichos\u001b[0m\u001b[0;34m)\u001b[0m\u001b[0;34m\u001b[0m\u001b[0;34m\u001b[0m\u001b[0m\n",
            "\u001b[0;31mNameError\u001b[0m: name 'indice_a_id' is not defined"
          ]
        }
      ]
    },
    {
      "cell_type": "markdown",
      "source": [],
      "metadata": {
        "id": "atRtb70N1KR9"
      }
    },
    {
      "cell_type": "markdown",
      "source": [],
      "metadata": {
        "id": "OiV_uM-SxCg0"
      }
    }
  ]
}