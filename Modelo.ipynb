{
  "nbformat": 4,
  "nbformat_minor": 0,
  "metadata": {
    "colab": {
      "provenance": [],
      "authorship_tag": "ABX9TyMF2G7O/pEub1/PpPNb+uOd",
      "include_colab_link": true
    },
    "kernelspec": {
      "name": "python3",
      "display_name": "Python 3"
    },
    "language_info": {
      "name": "python"
    }
  },
  "cells": [
    {
      "cell_type": "markdown",
      "metadata": {
        "id": "view-in-github",
        "colab_type": "text"
      },
      "source": [
        "<a href=\"https://colab.research.google.com/github/SilverFoxMedia-Tesis/IA_02/blob/main/Modelo.ipynb\" target=\"_parent\"><img src=\"https://colab.research.google.com/assets/colab-badge.svg\" alt=\"Open In Colab\"/></a>"
      ]
    },
    {
      "cell_type": "code",
      "execution_count": 1,
      "metadata": {
        "id": "xbfyTJqrsTv6"
      },
      "outputs": [],
      "source": [
        "import pandas as pd\n",
        "import numpy as np\n",
        "\n",
        "# Make numpy values easier to read.\n",
        "# np.set_printoptions(precision=3, suppress=True)\n",
        "\n",
        "import tensorflow as tf\n",
        "from tensorflow.keras import layers"
      ]
    },
    {
      "cell_type": "code",
      "source": [
        "datos = pd.read_csv(\"/dataset_final_v4.csv\")\n",
        "datos"
      ],
      "metadata": {
        "colab": {
          "base_uri": "https://localhost:8080/",
          "height": 860
        },
        "id": "MzZB2kaGt4YV",
        "outputId": "6606bf54-aee9-4eb1-a71a-a5a0e5e031fc"
      },
      "execution_count": 24,
      "outputs": [
        {
          "output_type": "execute_result",
          "data": {
            "text/plain": [
              "       Gender  Age  Diabetes  Weight  Height  AbdominalCircumference  \\\n",
              "0           1   39       2.0    75.0   171.0                    95.6   \n",
              "1           2   22       2.0    65.9   158.1                    89.5   \n",
              "2           2   20       2.0    58.3   161.5                    82.9   \n",
              "3           1   33       2.0    73.8   170.7                    93.7   \n",
              "4           2   38       2.0    53.9   151.5                    74.9   \n",
              "...       ...  ...       ...     ...     ...                     ...   \n",
              "29392       2   35       2.0    66.4   149.6                    96.3   \n",
              "29393       2   21       2.0    60.4   156.4                    84.0   \n",
              "29394       1   36       2.0    63.2   161.9                    88.7   \n",
              "29395       1   34       2.0    78.7   167.0                    89.9   \n",
              "29396       2   22       2.0    51.8   151.4                    73.0   \n",
              "\n",
              "       PhysicalActivity      TMB  ClassificationIMC  Deficit  ...  \\\n",
              "0                     1  1749.00                  3  1399.20  ...   \n",
              "1                     2  2027.48                  3  1621.98  ...   \n",
              "2                     2  1949.09                  2  1559.27  ...   \n",
              "3                     1  1735.08                  3  1388.06  ...   \n",
              "4                     1  1297.93                  2  1038.34  ...   \n",
              "...                 ...      ...                ...      ...  ...   \n",
              "29392                 2  1928.77                  3  1543.02  ...   \n",
              "29393                 1  1383.88                  2  1107.10  ...   \n",
              "29394                 3  2327.18                  2  1861.74  ...   \n",
              "29395                 2  2411.21                  3  1928.97  ...   \n",
              "29396                 3  2057.37                  2  1645.90  ...   \n",
              "\n",
              "                  almuerzo_1            almuerzo_2          almuerzo_3  \\\n",
              "0                    Ham as   Navy baked with pork          Cornflakes   \n",
              "1                    Herring        Raw 2 by 2 1/2         Rice flakes   \n",
              "2                  Swordfish         Winter mashed         Puffed rice   \n",
              "3                Corned beef              Kohlrabi  Pancakes 4\"\" diam.   \n",
              "4      Corned beef hash Stew             Raw green             Noodles   \n",
              "...                      ...                   ...                 ...   \n",
              "29392                Herring               Lettuce                 Rye   \n",
              "29393  Corned beef hash Stew              Parsnips         Rice flakes   \n",
              "29394                  Bacon               Spinach            Crackers   \n",
              "29395                   Shad        Mustard greens            Macaroni   \n",
              "29396              Hamburger           Cauliflower  Pancakes 4\"\" diam.   \n",
              "\n",
              "               cena_1           cena_2                       ejercicio_5  \\\n",
              "0        chicken soup   Raw 2 diameter                  patadas de burro   \n",
              "1         Cream soups     Blackberries                       abdominales   \n",
              "2              Noodle       Tangerines                            Tablón   \n",
              "3         Tomato soup           Grapes                         AVE perro   \n",
              "4         Tomato soup       Watermelon                  Curl de martillo   \n",
              "...               ...              ...                               ...   \n",
              "29392  Split-pea soup        Pineapple                    Prensa militar   \n",
              "29393    chicken soup  Nectar or juice              flexiones de piernas   \n",
              "29394       Beef soup          Raisins          Filas de cables sentados   \n",
              "29395          Noodle    Apple vinegar  Elevaciones de piernas colgantes   \n",
              "29396  Split-pea soup   Dried uncooked            Trituradoras de cráneo   \n",
              "\n",
              "                                          ejercicio_1  \\\n",
              "0                                         giros rusos   \n",
              "1                Elevaciones frontales con mancuernas   \n",
              "2                                  Moscas en el pecho   \n",
              "3                 Elevaciones de pantorrillas sentado   \n",
              "4      Extensiones de tríceps por encima de la cabeza   \n",
              "...                                               ...   \n",
              "29392                           sentadillas con barra   \n",
              "29393                          Trituradoras de cráneo   \n",
              "29394                              peso muerto rumano   \n",
              "29395                     Cruces de cables inclinados   \n",
              "29396                               Pellizco de placa   \n",
              "\n",
              "                               ejercicio_2               ejercicio_3  \\\n",
              "0                         hiperextensiones    Rizos de concentración   \n",
              "1                    sentadillas con barra    Inmersiones de tríceps   \n",
              "2                    sentadillas con barra     Elevaciones laterales   \n",
              "3                      Remo con mancuernas          patadas de burro   \n",
              "4      Elevaciones de pantorrillas sentado  Filas de cables sentados   \n",
              "...                                    ...                       ...   \n",
              "29392                  extensión de muñeca          patadas de burro   \n",
              "29393       Press declinado con mancuernas         Rizos de martillo   \n",
              "29394     Elevaciones de piernas colgantes       Rizos de predicador   \n",
              "29395            Rechazar cruces de cables                 Dominadas   \n",
              "29396                   peso muerto rumano          hiperextensiones   \n",
              "\n",
              "                                ejercicio_4  \n",
              "0       Elevaciones de pantorrillas sentado  \n",
              "1      Curl con mancuernas con agarre gordo  \n",
              "2                    Rizos de concentración  \n",
              "3                    Inmersiones de tríceps  \n",
              "4                            Rizos de barra  \n",
              "...                                     ...  \n",
              "29392     Declinar aperturas con mancuernas  \n",
              "29393      Elevaciones laterales inclinadas  \n",
              "29394   Elevaciones de pantorrillas sentado  \n",
              "29395                 sentadillas con barra  \n",
              "29396                   Curl con mancuernas  \n",
              "\n",
              "[29397 rows x 36 columns]"
            ],
            "text/html": [
              "\n",
              "  <div id=\"df-8ea53e8a-acc5-4a7a-b7dd-b311104e1891\" class=\"colab-df-container\">\n",
              "    <div>\n",
              "<style scoped>\n",
              "    .dataframe tbody tr th:only-of-type {\n",
              "        vertical-align: middle;\n",
              "    }\n",
              "\n",
              "    .dataframe tbody tr th {\n",
              "        vertical-align: top;\n",
              "    }\n",
              "\n",
              "    .dataframe thead th {\n",
              "        text-align: right;\n",
              "    }\n",
              "</style>\n",
              "<table border=\"1\" class=\"dataframe\">\n",
              "  <thead>\n",
              "    <tr style=\"text-align: right;\">\n",
              "      <th></th>\n",
              "      <th>Gender</th>\n",
              "      <th>Age</th>\n",
              "      <th>Diabetes</th>\n",
              "      <th>Weight</th>\n",
              "      <th>Height</th>\n",
              "      <th>AbdominalCircumference</th>\n",
              "      <th>PhysicalActivity</th>\n",
              "      <th>TMB</th>\n",
              "      <th>ClassificationIMC</th>\n",
              "      <th>Deficit</th>\n",
              "      <th>...</th>\n",
              "      <th>almuerzo_1</th>\n",
              "      <th>almuerzo_2</th>\n",
              "      <th>almuerzo_3</th>\n",
              "      <th>cena_1</th>\n",
              "      <th>cena_2</th>\n",
              "      <th>ejercicio_5</th>\n",
              "      <th>ejercicio_1</th>\n",
              "      <th>ejercicio_2</th>\n",
              "      <th>ejercicio_3</th>\n",
              "      <th>ejercicio_4</th>\n",
              "    </tr>\n",
              "  </thead>\n",
              "  <tbody>\n",
              "    <tr>\n",
              "      <th>0</th>\n",
              "      <td>1</td>\n",
              "      <td>39</td>\n",
              "      <td>2.0</td>\n",
              "      <td>75.0</td>\n",
              "      <td>171.0</td>\n",
              "      <td>95.6</td>\n",
              "      <td>1</td>\n",
              "      <td>1749.00</td>\n",
              "      <td>3</td>\n",
              "      <td>1399.20</td>\n",
              "      <td>...</td>\n",
              "      <td>Ham as</td>\n",
              "      <td>Navy baked with pork</td>\n",
              "      <td>Cornflakes</td>\n",
              "      <td>chicken soup</td>\n",
              "      <td>Raw 2 diameter</td>\n",
              "      <td>patadas de burro</td>\n",
              "      <td>giros rusos</td>\n",
              "      <td>hiperextensiones</td>\n",
              "      <td>Rizos de concentración</td>\n",
              "      <td>Elevaciones de pantorrillas sentado</td>\n",
              "    </tr>\n",
              "    <tr>\n",
              "      <th>1</th>\n",
              "      <td>2</td>\n",
              "      <td>22</td>\n",
              "      <td>2.0</td>\n",
              "      <td>65.9</td>\n",
              "      <td>158.1</td>\n",
              "      <td>89.5</td>\n",
              "      <td>2</td>\n",
              "      <td>2027.48</td>\n",
              "      <td>3</td>\n",
              "      <td>1621.98</td>\n",
              "      <td>...</td>\n",
              "      <td>Herring</td>\n",
              "      <td>Raw 2 by 2 1/2</td>\n",
              "      <td>Rice flakes</td>\n",
              "      <td>Cream soups</td>\n",
              "      <td>Blackberries</td>\n",
              "      <td>abdominales</td>\n",
              "      <td>Elevaciones frontales con mancuernas</td>\n",
              "      <td>sentadillas con barra</td>\n",
              "      <td>Inmersiones de tríceps</td>\n",
              "      <td>Curl con mancuernas con agarre gordo</td>\n",
              "    </tr>\n",
              "    <tr>\n",
              "      <th>2</th>\n",
              "      <td>2</td>\n",
              "      <td>20</td>\n",
              "      <td>2.0</td>\n",
              "      <td>58.3</td>\n",
              "      <td>161.5</td>\n",
              "      <td>82.9</td>\n",
              "      <td>2</td>\n",
              "      <td>1949.09</td>\n",
              "      <td>2</td>\n",
              "      <td>1559.27</td>\n",
              "      <td>...</td>\n",
              "      <td>Swordfish</td>\n",
              "      <td>Winter mashed</td>\n",
              "      <td>Puffed rice</td>\n",
              "      <td>Noodle</td>\n",
              "      <td>Tangerines</td>\n",
              "      <td>Tablón</td>\n",
              "      <td>Moscas en el pecho</td>\n",
              "      <td>sentadillas con barra</td>\n",
              "      <td>Elevaciones laterales</td>\n",
              "      <td>Rizos de concentración</td>\n",
              "    </tr>\n",
              "    <tr>\n",
              "      <th>3</th>\n",
              "      <td>1</td>\n",
              "      <td>33</td>\n",
              "      <td>2.0</td>\n",
              "      <td>73.8</td>\n",
              "      <td>170.7</td>\n",
              "      <td>93.7</td>\n",
              "      <td>1</td>\n",
              "      <td>1735.08</td>\n",
              "      <td>3</td>\n",
              "      <td>1388.06</td>\n",
              "      <td>...</td>\n",
              "      <td>Corned beef</td>\n",
              "      <td>Kohlrabi</td>\n",
              "      <td>Pancakes 4\"\" diam.</td>\n",
              "      <td>Tomato soup</td>\n",
              "      <td>Grapes</td>\n",
              "      <td>AVE perro</td>\n",
              "      <td>Elevaciones de pantorrillas sentado</td>\n",
              "      <td>Remo con mancuernas</td>\n",
              "      <td>patadas de burro</td>\n",
              "      <td>Inmersiones de tríceps</td>\n",
              "    </tr>\n",
              "    <tr>\n",
              "      <th>4</th>\n",
              "      <td>2</td>\n",
              "      <td>38</td>\n",
              "      <td>2.0</td>\n",
              "      <td>53.9</td>\n",
              "      <td>151.5</td>\n",
              "      <td>74.9</td>\n",
              "      <td>1</td>\n",
              "      <td>1297.93</td>\n",
              "      <td>2</td>\n",
              "      <td>1038.34</td>\n",
              "      <td>...</td>\n",
              "      <td>Corned beef hash Stew</td>\n",
              "      <td>Raw green</td>\n",
              "      <td>Noodles</td>\n",
              "      <td>Tomato soup</td>\n",
              "      <td>Watermelon</td>\n",
              "      <td>Curl de martillo</td>\n",
              "      <td>Extensiones de tríceps por encima de la cabeza</td>\n",
              "      <td>Elevaciones de pantorrillas sentado</td>\n",
              "      <td>Filas de cables sentados</td>\n",
              "      <td>Rizos de barra</td>\n",
              "    </tr>\n",
              "    <tr>\n",
              "      <th>...</th>\n",
              "      <td>...</td>\n",
              "      <td>...</td>\n",
              "      <td>...</td>\n",
              "      <td>...</td>\n",
              "      <td>...</td>\n",
              "      <td>...</td>\n",
              "      <td>...</td>\n",
              "      <td>...</td>\n",
              "      <td>...</td>\n",
              "      <td>...</td>\n",
              "      <td>...</td>\n",
              "      <td>...</td>\n",
              "      <td>...</td>\n",
              "      <td>...</td>\n",
              "      <td>...</td>\n",
              "      <td>...</td>\n",
              "      <td>...</td>\n",
              "      <td>...</td>\n",
              "      <td>...</td>\n",
              "      <td>...</td>\n",
              "      <td>...</td>\n",
              "    </tr>\n",
              "    <tr>\n",
              "      <th>29392</th>\n",
              "      <td>2</td>\n",
              "      <td>35</td>\n",
              "      <td>2.0</td>\n",
              "      <td>66.4</td>\n",
              "      <td>149.6</td>\n",
              "      <td>96.3</td>\n",
              "      <td>2</td>\n",
              "      <td>1928.77</td>\n",
              "      <td>3</td>\n",
              "      <td>1543.02</td>\n",
              "      <td>...</td>\n",
              "      <td>Herring</td>\n",
              "      <td>Lettuce</td>\n",
              "      <td>Rye</td>\n",
              "      <td>Split-pea soup</td>\n",
              "      <td>Pineapple</td>\n",
              "      <td>Prensa militar</td>\n",
              "      <td>sentadillas con barra</td>\n",
              "      <td>extensión de muñeca</td>\n",
              "      <td>patadas de burro</td>\n",
              "      <td>Declinar aperturas con mancuernas</td>\n",
              "    </tr>\n",
              "    <tr>\n",
              "      <th>29393</th>\n",
              "      <td>2</td>\n",
              "      <td>21</td>\n",
              "      <td>2.0</td>\n",
              "      <td>60.4</td>\n",
              "      <td>156.4</td>\n",
              "      <td>84.0</td>\n",
              "      <td>1</td>\n",
              "      <td>1383.88</td>\n",
              "      <td>2</td>\n",
              "      <td>1107.10</td>\n",
              "      <td>...</td>\n",
              "      <td>Corned beef hash Stew</td>\n",
              "      <td>Parsnips</td>\n",
              "      <td>Rice flakes</td>\n",
              "      <td>chicken soup</td>\n",
              "      <td>Nectar or juice</td>\n",
              "      <td>flexiones de piernas</td>\n",
              "      <td>Trituradoras de cráneo</td>\n",
              "      <td>Press declinado con mancuernas</td>\n",
              "      <td>Rizos de martillo</td>\n",
              "      <td>Elevaciones laterales inclinadas</td>\n",
              "    </tr>\n",
              "    <tr>\n",
              "      <th>29394</th>\n",
              "      <td>1</td>\n",
              "      <td>36</td>\n",
              "      <td>2.0</td>\n",
              "      <td>63.2</td>\n",
              "      <td>161.9</td>\n",
              "      <td>88.7</td>\n",
              "      <td>3</td>\n",
              "      <td>2327.18</td>\n",
              "      <td>2</td>\n",
              "      <td>1861.74</td>\n",
              "      <td>...</td>\n",
              "      <td>Bacon</td>\n",
              "      <td>Spinach</td>\n",
              "      <td>Crackers</td>\n",
              "      <td>Beef soup</td>\n",
              "      <td>Raisins</td>\n",
              "      <td>Filas de cables sentados</td>\n",
              "      <td>peso muerto rumano</td>\n",
              "      <td>Elevaciones de piernas colgantes</td>\n",
              "      <td>Rizos de predicador</td>\n",
              "      <td>Elevaciones de pantorrillas sentado</td>\n",
              "    </tr>\n",
              "    <tr>\n",
              "      <th>29395</th>\n",
              "      <td>1</td>\n",
              "      <td>34</td>\n",
              "      <td>2.0</td>\n",
              "      <td>78.7</td>\n",
              "      <td>167.0</td>\n",
              "      <td>89.9</td>\n",
              "      <td>2</td>\n",
              "      <td>2411.21</td>\n",
              "      <td>3</td>\n",
              "      <td>1928.97</td>\n",
              "      <td>...</td>\n",
              "      <td>Shad</td>\n",
              "      <td>Mustard greens</td>\n",
              "      <td>Macaroni</td>\n",
              "      <td>Noodle</td>\n",
              "      <td>Apple vinegar</td>\n",
              "      <td>Elevaciones de piernas colgantes</td>\n",
              "      <td>Cruces de cables inclinados</td>\n",
              "      <td>Rechazar cruces de cables</td>\n",
              "      <td>Dominadas</td>\n",
              "      <td>sentadillas con barra</td>\n",
              "    </tr>\n",
              "    <tr>\n",
              "      <th>29396</th>\n",
              "      <td>2</td>\n",
              "      <td>22</td>\n",
              "      <td>2.0</td>\n",
              "      <td>51.8</td>\n",
              "      <td>151.4</td>\n",
              "      <td>73.0</td>\n",
              "      <td>3</td>\n",
              "      <td>2057.37</td>\n",
              "      <td>2</td>\n",
              "      <td>1645.90</td>\n",
              "      <td>...</td>\n",
              "      <td>Hamburger</td>\n",
              "      <td>Cauliflower</td>\n",
              "      <td>Pancakes 4\"\" diam.</td>\n",
              "      <td>Split-pea soup</td>\n",
              "      <td>Dried uncooked</td>\n",
              "      <td>Trituradoras de cráneo</td>\n",
              "      <td>Pellizco de placa</td>\n",
              "      <td>peso muerto rumano</td>\n",
              "      <td>hiperextensiones</td>\n",
              "      <td>Curl con mancuernas</td>\n",
              "    </tr>\n",
              "  </tbody>\n",
              "</table>\n",
              "<p>29397 rows × 36 columns</p>\n",
              "</div>\n",
              "    <div class=\"colab-df-buttons\">\n",
              "\n",
              "  <div class=\"colab-df-container\">\n",
              "    <button class=\"colab-df-convert\" onclick=\"convertToInteractive('df-8ea53e8a-acc5-4a7a-b7dd-b311104e1891')\"\n",
              "            title=\"Convert this dataframe to an interactive table.\"\n",
              "            style=\"display:none;\">\n",
              "\n",
              "  <svg xmlns=\"http://www.w3.org/2000/svg\" height=\"24px\" viewBox=\"0 -960 960 960\">\n",
              "    <path d=\"M120-120v-720h720v720H120Zm60-500h600v-160H180v160Zm220 220h160v-160H400v160Zm0 220h160v-160H400v160ZM180-400h160v-160H180v160Zm440 0h160v-160H620v160ZM180-180h160v-160H180v160Zm440 0h160v-160H620v160Z\"/>\n",
              "  </svg>\n",
              "    </button>\n",
              "\n",
              "  <style>\n",
              "    .colab-df-container {\n",
              "      display:flex;\n",
              "      gap: 12px;\n",
              "    }\n",
              "\n",
              "    .colab-df-convert {\n",
              "      background-color: #E8F0FE;\n",
              "      border: none;\n",
              "      border-radius: 50%;\n",
              "      cursor: pointer;\n",
              "      display: none;\n",
              "      fill: #1967D2;\n",
              "      height: 32px;\n",
              "      padding: 0 0 0 0;\n",
              "      width: 32px;\n",
              "    }\n",
              "\n",
              "    .colab-df-convert:hover {\n",
              "      background-color: #E2EBFA;\n",
              "      box-shadow: 0px 1px 2px rgba(60, 64, 67, 0.3), 0px 1px 3px 1px rgba(60, 64, 67, 0.15);\n",
              "      fill: #174EA6;\n",
              "    }\n",
              "\n",
              "    .colab-df-buttons div {\n",
              "      margin-bottom: 4px;\n",
              "    }\n",
              "\n",
              "    [theme=dark] .colab-df-convert {\n",
              "      background-color: #3B4455;\n",
              "      fill: #D2E3FC;\n",
              "    }\n",
              "\n",
              "    [theme=dark] .colab-df-convert:hover {\n",
              "      background-color: #434B5C;\n",
              "      box-shadow: 0px 1px 3px 1px rgba(0, 0, 0, 0.15);\n",
              "      filter: drop-shadow(0px 1px 2px rgba(0, 0, 0, 0.3));\n",
              "      fill: #FFFFFF;\n",
              "    }\n",
              "  </style>\n",
              "\n",
              "    <script>\n",
              "      const buttonEl =\n",
              "        document.querySelector('#df-8ea53e8a-acc5-4a7a-b7dd-b311104e1891 button.colab-df-convert');\n",
              "      buttonEl.style.display =\n",
              "        google.colab.kernel.accessAllowed ? 'block' : 'none';\n",
              "\n",
              "      async function convertToInteractive(key) {\n",
              "        const element = document.querySelector('#df-8ea53e8a-acc5-4a7a-b7dd-b311104e1891');\n",
              "        const dataTable =\n",
              "          await google.colab.kernel.invokeFunction('convertToInteractive',\n",
              "                                                    [key], {});\n",
              "        if (!dataTable) return;\n",
              "\n",
              "        const docLinkHtml = 'Like what you see? Visit the ' +\n",
              "          '<a target=\"_blank\" href=https://colab.research.google.com/notebooks/data_table.ipynb>data table notebook</a>'\n",
              "          + ' to learn more about interactive tables.';\n",
              "        element.innerHTML = '';\n",
              "        dataTable['output_type'] = 'display_data';\n",
              "        await google.colab.output.renderOutput(dataTable, element);\n",
              "        const docLink = document.createElement('div');\n",
              "        docLink.innerHTML = docLinkHtml;\n",
              "        element.appendChild(docLink);\n",
              "      }\n",
              "    </script>\n",
              "  </div>\n",
              "\n",
              "\n",
              "<div id=\"df-4b4d8886-f454-4396-a31d-47e30b0ac928\">\n",
              "  <button class=\"colab-df-quickchart\" onclick=\"quickchart('df-4b4d8886-f454-4396-a31d-47e30b0ac928')\"\n",
              "            title=\"Suggest charts\"\n",
              "            style=\"display:none;\">\n",
              "\n",
              "<svg xmlns=\"http://www.w3.org/2000/svg\" height=\"24px\"viewBox=\"0 0 24 24\"\n",
              "     width=\"24px\">\n",
              "    <g>\n",
              "        <path d=\"M19 3H5c-1.1 0-2 .9-2 2v14c0 1.1.9 2 2 2h14c1.1 0 2-.9 2-2V5c0-1.1-.9-2-2-2zM9 17H7v-7h2v7zm4 0h-2V7h2v10zm4 0h-2v-4h2v4z\"/>\n",
              "    </g>\n",
              "</svg>\n",
              "  </button>\n",
              "\n",
              "<style>\n",
              "  .colab-df-quickchart {\n",
              "      --bg-color: #E8F0FE;\n",
              "      --fill-color: #1967D2;\n",
              "      --hover-bg-color: #E2EBFA;\n",
              "      --hover-fill-color: #174EA6;\n",
              "      --disabled-fill-color: #AAA;\n",
              "      --disabled-bg-color: #DDD;\n",
              "  }\n",
              "\n",
              "  [theme=dark] .colab-df-quickchart {\n",
              "      --bg-color: #3B4455;\n",
              "      --fill-color: #D2E3FC;\n",
              "      --hover-bg-color: #434B5C;\n",
              "      --hover-fill-color: #FFFFFF;\n",
              "      --disabled-bg-color: #3B4455;\n",
              "      --disabled-fill-color: #666;\n",
              "  }\n",
              "\n",
              "  .colab-df-quickchart {\n",
              "    background-color: var(--bg-color);\n",
              "    border: none;\n",
              "    border-radius: 50%;\n",
              "    cursor: pointer;\n",
              "    display: none;\n",
              "    fill: var(--fill-color);\n",
              "    height: 32px;\n",
              "    padding: 0;\n",
              "    width: 32px;\n",
              "  }\n",
              "\n",
              "  .colab-df-quickchart:hover {\n",
              "    background-color: var(--hover-bg-color);\n",
              "    box-shadow: 0 1px 2px rgba(60, 64, 67, 0.3), 0 1px 3px 1px rgba(60, 64, 67, 0.15);\n",
              "    fill: var(--button-hover-fill-color);\n",
              "  }\n",
              "\n",
              "  .colab-df-quickchart-complete:disabled,\n",
              "  .colab-df-quickchart-complete:disabled:hover {\n",
              "    background-color: var(--disabled-bg-color);\n",
              "    fill: var(--disabled-fill-color);\n",
              "    box-shadow: none;\n",
              "  }\n",
              "\n",
              "  .colab-df-spinner {\n",
              "    border: 2px solid var(--fill-color);\n",
              "    border-color: transparent;\n",
              "    border-bottom-color: var(--fill-color);\n",
              "    animation:\n",
              "      spin 1s steps(1) infinite;\n",
              "  }\n",
              "\n",
              "  @keyframes spin {\n",
              "    0% {\n",
              "      border-color: transparent;\n",
              "      border-bottom-color: var(--fill-color);\n",
              "      border-left-color: var(--fill-color);\n",
              "    }\n",
              "    20% {\n",
              "      border-color: transparent;\n",
              "      border-left-color: var(--fill-color);\n",
              "      border-top-color: var(--fill-color);\n",
              "    }\n",
              "    30% {\n",
              "      border-color: transparent;\n",
              "      border-left-color: var(--fill-color);\n",
              "      border-top-color: var(--fill-color);\n",
              "      border-right-color: var(--fill-color);\n",
              "    }\n",
              "    40% {\n",
              "      border-color: transparent;\n",
              "      border-right-color: var(--fill-color);\n",
              "      border-top-color: var(--fill-color);\n",
              "    }\n",
              "    60% {\n",
              "      border-color: transparent;\n",
              "      border-right-color: var(--fill-color);\n",
              "    }\n",
              "    80% {\n",
              "      border-color: transparent;\n",
              "      border-right-color: var(--fill-color);\n",
              "      border-bottom-color: var(--fill-color);\n",
              "    }\n",
              "    90% {\n",
              "      border-color: transparent;\n",
              "      border-bottom-color: var(--fill-color);\n",
              "    }\n",
              "  }\n",
              "</style>\n",
              "\n",
              "  <script>\n",
              "    async function quickchart(key) {\n",
              "      const quickchartButtonEl =\n",
              "        document.querySelector('#' + key + ' button');\n",
              "      quickchartButtonEl.disabled = true;  // To prevent multiple clicks.\n",
              "      quickchartButtonEl.classList.add('colab-df-spinner');\n",
              "      try {\n",
              "        const charts = await google.colab.kernel.invokeFunction(\n",
              "            'suggestCharts', [key], {});\n",
              "      } catch (error) {\n",
              "        console.error('Error during call to suggestCharts:', error);\n",
              "      }\n",
              "      quickchartButtonEl.classList.remove('colab-df-spinner');\n",
              "      quickchartButtonEl.classList.add('colab-df-quickchart-complete');\n",
              "    }\n",
              "    (() => {\n",
              "      let quickchartButtonEl =\n",
              "        document.querySelector('#df-4b4d8886-f454-4396-a31d-47e30b0ac928 button');\n",
              "      quickchartButtonEl.style.display =\n",
              "        google.colab.kernel.accessAllowed ? 'block' : 'none';\n",
              "    })();\n",
              "  </script>\n",
              "</div>\n",
              "    </div>\n",
              "  </div>\n"
            ],
            "application/vnd.google.colaboratory.intrinsic+json": {
              "type": "dataframe",
              "variable_name": "datos"
            }
          },
          "metadata": {},
          "execution_count": 24
        }
      ]
    },
    {
      "cell_type": "code",
      "source": [
        "print(datos.head())"
      ],
      "metadata": {
        "colab": {
          "base_uri": "https://localhost:8080/"
        },
        "id": "NdAg8N0p9gdF",
        "outputId": "a6a56ad6-d571-47a3-a325-fad5db385169"
      },
      "execution_count": 26,
      "outputs": [
        {
          "output_type": "stream",
          "name": "stdout",
          "text": [
            "   Gender  Age  Diabetes  Weight  Height  AbdominalCircumference  \\\n",
            "0       1   39       2.0    75.0   171.0                    95.6   \n",
            "1       2   22       2.0    65.9   158.1                    89.5   \n",
            "2       2   20       2.0    58.3   161.5                    82.9   \n",
            "3       1   33       2.0    73.8   170.7                    93.7   \n",
            "4       2   38       2.0    53.9   151.5                    74.9   \n",
            "\n",
            "   PhysicalActivity      TMB  ClassificationIMC  Deficit  ...  \\\n",
            "0                 1  1749.00                  3  1399.20  ...   \n",
            "1                 2  2027.48                  3  1621.98  ...   \n",
            "2                 2  1949.09                  2  1559.27  ...   \n",
            "3                 1  1735.08                  3  1388.06  ...   \n",
            "4                 1  1297.93                  2  1038.34  ...   \n",
            "\n",
            "              almuerzo_1            almuerzo_2          almuerzo_3  \\\n",
            "0                Ham as   Navy baked with pork          Cornflakes   \n",
            "1                Herring        Raw 2 by 2 1/2         Rice flakes   \n",
            "2              Swordfish         Winter mashed         Puffed rice   \n",
            "3            Corned beef              Kohlrabi  Pancakes 4\"\" diam.   \n",
            "4  Corned beef hash Stew             Raw green             Noodles   \n",
            "\n",
            "         cena_1          cena_2       ejercicio_5  \\\n",
            "0  chicken soup  Raw 2 diameter  patadas de burro   \n",
            "1   Cream soups    Blackberries       abdominales   \n",
            "2        Noodle      Tangerines            Tablón   \n",
            "3   Tomato soup          Grapes         AVE perro   \n",
            "4   Tomato soup      Watermelon  Curl de martillo   \n",
            "\n",
            "                                      ejercicio_1  \\\n",
            "0                                     giros rusos   \n",
            "1            Elevaciones frontales con mancuernas   \n",
            "2                              Moscas en el pecho   \n",
            "3             Elevaciones de pantorrillas sentado   \n",
            "4  Extensiones de tríceps por encima de la cabeza   \n",
            "\n",
            "                           ejercicio_2               ejercicio_3  \\\n",
            "0                     hiperextensiones    Rizos de concentración   \n",
            "1                sentadillas con barra    Inmersiones de tríceps   \n",
            "2                sentadillas con barra     Elevaciones laterales   \n",
            "3                  Remo con mancuernas          patadas de burro   \n",
            "4  Elevaciones de pantorrillas sentado  Filas de cables sentados   \n",
            "\n",
            "                            ejercicio_4  \n",
            "0   Elevaciones de pantorrillas sentado  \n",
            "1  Curl con mancuernas con agarre gordo  \n",
            "2                Rizos de concentración  \n",
            "3                Inmersiones de tríceps  \n",
            "4                        Rizos de barra  \n",
            "\n",
            "[5 rows x 36 columns]\n"
          ]
        }
      ]
    },
    {
      "cell_type": "code",
      "source": [
        "Carbohidratos_G,Proteinas_G,Grasas_G,desayuno_carbs,desayuno_proten,desayuno_grasas,almuerzo_carbs,almuerzo_proten,almuerzo_grasas,cena_carbs,cena_proten,cena_grasas,desayuno_1,desayuno_2,desayuno_3,almuerzo_1,almuerzo_2,almuerzo_3,cena_1,cena_2,ejercicio_5,ejercicio_1,ejercicio_2,ejercicio_3,ejercicio_4"
      ],
      "metadata": {
        "id": "sEH-Juh5-Ivm"
      },
      "execution_count": null,
      "outputs": []
    },
    {
      "cell_type": "code",
      "source": [
        "#Variable variable_predictora\n",
        "variable_predictora = \"desayuno_1\"\n",
        "\n",
        "datos = pd.read_csv(\n",
        "    \"/dataset_final_v4.csv\",\n",
        "\n",
        "    usecols=[\"AbdominalCircumference\",\"Deficit\",\"PesoAperder\",\"desayuno_carbs\",\"desayuno_proten\",\"desayuno_grasas\",\"almuerzo_carbs\",\"almuerzo_proten\",\"almuerzo_grasas\",\"cena_carbs\",\"cena_proten\",\"cena_grasas\",variable_predictora])\n",
        "\n",
        "#usecols - solo usar columnas deseadas\n",
        "\n",
        "datos.head()"
      ],
      "metadata": {
        "colab": {
          "base_uri": "https://localhost:8080/",
          "height": 206
        },
        "id": "-kzaRe9vuvYx",
        "outputId": "494708ef-c3ac-4fed-db87-dc71a7926b87"
      },
      "execution_count": 28,
      "outputs": [
        {
          "output_type": "execute_result",
          "data": {
            "text/plain": [
              "   AbdominalCircumference  Deficit  PesoAperder  desayuno_carbs  \\\n",
              "0                    95.6  1399.20         1.50           43.72   \n",
              "1                    89.5  1621.98         1.32           50.69   \n",
              "2                    82.9  1559.27         1.17           48.73   \n",
              "3                    93.7  1388.06         1.48           43.38   \n",
              "4                    74.9  1038.34         1.08           32.45   \n",
              "\n",
              "   desayuno_proten  desayuno_grasas  almuerzo_carbs  almuerzo_proten  \\\n",
              "0            17.49            11.66           61.22            24.49   \n",
              "1            20.27            13.52           70.96            28.38   \n",
              "2            19.49            13.00           68.22            27.29   \n",
              "3            17.35            11.57           60.73            24.29   \n",
              "4            12.98             8.65           45.43            18.17   \n",
              "\n",
              "   almuerzo_grasas  cena_carbs  cena_proten  cena_grasas        desayuno_1  \n",
              "0            16.32       69.96        27.98        18.66             Cocoa  \n",
              "1            18.92       81.10        32.44        21.63          Ice milk  \n",
              "2            18.19       77.96        31.18        20.79  Processed cheese  \n",
              "3            16.19       69.40        27.76        18.51      Cream cheese  \n",
              "4            12.11       51.92        20.77        13.84        Buttermilk  "
            ],
            "text/html": [
              "\n",
              "  <div id=\"df-51c38daf-4d95-4d1a-9775-cf7566f61769\" class=\"colab-df-container\">\n",
              "    <div>\n",
              "<style scoped>\n",
              "    .dataframe tbody tr th:only-of-type {\n",
              "        vertical-align: middle;\n",
              "    }\n",
              "\n",
              "    .dataframe tbody tr th {\n",
              "        vertical-align: top;\n",
              "    }\n",
              "\n",
              "    .dataframe thead th {\n",
              "        text-align: right;\n",
              "    }\n",
              "</style>\n",
              "<table border=\"1\" class=\"dataframe\">\n",
              "  <thead>\n",
              "    <tr style=\"text-align: right;\">\n",
              "      <th></th>\n",
              "      <th>AbdominalCircumference</th>\n",
              "      <th>Deficit</th>\n",
              "      <th>PesoAperder</th>\n",
              "      <th>desayuno_carbs</th>\n",
              "      <th>desayuno_proten</th>\n",
              "      <th>desayuno_grasas</th>\n",
              "      <th>almuerzo_carbs</th>\n",
              "      <th>almuerzo_proten</th>\n",
              "      <th>almuerzo_grasas</th>\n",
              "      <th>cena_carbs</th>\n",
              "      <th>cena_proten</th>\n",
              "      <th>cena_grasas</th>\n",
              "      <th>desayuno_1</th>\n",
              "    </tr>\n",
              "  </thead>\n",
              "  <tbody>\n",
              "    <tr>\n",
              "      <th>0</th>\n",
              "      <td>95.6</td>\n",
              "      <td>1399.20</td>\n",
              "      <td>1.50</td>\n",
              "      <td>43.72</td>\n",
              "      <td>17.49</td>\n",
              "      <td>11.66</td>\n",
              "      <td>61.22</td>\n",
              "      <td>24.49</td>\n",
              "      <td>16.32</td>\n",
              "      <td>69.96</td>\n",
              "      <td>27.98</td>\n",
              "      <td>18.66</td>\n",
              "      <td>Cocoa</td>\n",
              "    </tr>\n",
              "    <tr>\n",
              "      <th>1</th>\n",
              "      <td>89.5</td>\n",
              "      <td>1621.98</td>\n",
              "      <td>1.32</td>\n",
              "      <td>50.69</td>\n",
              "      <td>20.27</td>\n",
              "      <td>13.52</td>\n",
              "      <td>70.96</td>\n",
              "      <td>28.38</td>\n",
              "      <td>18.92</td>\n",
              "      <td>81.10</td>\n",
              "      <td>32.44</td>\n",
              "      <td>21.63</td>\n",
              "      <td>Ice milk</td>\n",
              "    </tr>\n",
              "    <tr>\n",
              "      <th>2</th>\n",
              "      <td>82.9</td>\n",
              "      <td>1559.27</td>\n",
              "      <td>1.17</td>\n",
              "      <td>48.73</td>\n",
              "      <td>19.49</td>\n",
              "      <td>13.00</td>\n",
              "      <td>68.22</td>\n",
              "      <td>27.29</td>\n",
              "      <td>18.19</td>\n",
              "      <td>77.96</td>\n",
              "      <td>31.18</td>\n",
              "      <td>20.79</td>\n",
              "      <td>Processed cheese</td>\n",
              "    </tr>\n",
              "    <tr>\n",
              "      <th>3</th>\n",
              "      <td>93.7</td>\n",
              "      <td>1388.06</td>\n",
              "      <td>1.48</td>\n",
              "      <td>43.38</td>\n",
              "      <td>17.35</td>\n",
              "      <td>11.57</td>\n",
              "      <td>60.73</td>\n",
              "      <td>24.29</td>\n",
              "      <td>16.19</td>\n",
              "      <td>69.40</td>\n",
              "      <td>27.76</td>\n",
              "      <td>18.51</td>\n",
              "      <td>Cream cheese</td>\n",
              "    </tr>\n",
              "    <tr>\n",
              "      <th>4</th>\n",
              "      <td>74.9</td>\n",
              "      <td>1038.34</td>\n",
              "      <td>1.08</td>\n",
              "      <td>32.45</td>\n",
              "      <td>12.98</td>\n",
              "      <td>8.65</td>\n",
              "      <td>45.43</td>\n",
              "      <td>18.17</td>\n",
              "      <td>12.11</td>\n",
              "      <td>51.92</td>\n",
              "      <td>20.77</td>\n",
              "      <td>13.84</td>\n",
              "      <td>Buttermilk</td>\n",
              "    </tr>\n",
              "  </tbody>\n",
              "</table>\n",
              "</div>\n",
              "    <div class=\"colab-df-buttons\">\n",
              "\n",
              "  <div class=\"colab-df-container\">\n",
              "    <button class=\"colab-df-convert\" onclick=\"convertToInteractive('df-51c38daf-4d95-4d1a-9775-cf7566f61769')\"\n",
              "            title=\"Convert this dataframe to an interactive table.\"\n",
              "            style=\"display:none;\">\n",
              "\n",
              "  <svg xmlns=\"http://www.w3.org/2000/svg\" height=\"24px\" viewBox=\"0 -960 960 960\">\n",
              "    <path d=\"M120-120v-720h720v720H120Zm60-500h600v-160H180v160Zm220 220h160v-160H400v160Zm0 220h160v-160H400v160ZM180-400h160v-160H180v160Zm440 0h160v-160H620v160ZM180-180h160v-160H180v160Zm440 0h160v-160H620v160Z\"/>\n",
              "  </svg>\n",
              "    </button>\n",
              "\n",
              "  <style>\n",
              "    .colab-df-container {\n",
              "      display:flex;\n",
              "      gap: 12px;\n",
              "    }\n",
              "\n",
              "    .colab-df-convert {\n",
              "      background-color: #E8F0FE;\n",
              "      border: none;\n",
              "      border-radius: 50%;\n",
              "      cursor: pointer;\n",
              "      display: none;\n",
              "      fill: #1967D2;\n",
              "      height: 32px;\n",
              "      padding: 0 0 0 0;\n",
              "      width: 32px;\n",
              "    }\n",
              "\n",
              "    .colab-df-convert:hover {\n",
              "      background-color: #E2EBFA;\n",
              "      box-shadow: 0px 1px 2px rgba(60, 64, 67, 0.3), 0px 1px 3px 1px rgba(60, 64, 67, 0.15);\n",
              "      fill: #174EA6;\n",
              "    }\n",
              "\n",
              "    .colab-df-buttons div {\n",
              "      margin-bottom: 4px;\n",
              "    }\n",
              "\n",
              "    [theme=dark] .colab-df-convert {\n",
              "      background-color: #3B4455;\n",
              "      fill: #D2E3FC;\n",
              "    }\n",
              "\n",
              "    [theme=dark] .colab-df-convert:hover {\n",
              "      background-color: #434B5C;\n",
              "      box-shadow: 0px 1px 3px 1px rgba(0, 0, 0, 0.15);\n",
              "      filter: drop-shadow(0px 1px 2px rgba(0, 0, 0, 0.3));\n",
              "      fill: #FFFFFF;\n",
              "    }\n",
              "  </style>\n",
              "\n",
              "    <script>\n",
              "      const buttonEl =\n",
              "        document.querySelector('#df-51c38daf-4d95-4d1a-9775-cf7566f61769 button.colab-df-convert');\n",
              "      buttonEl.style.display =\n",
              "        google.colab.kernel.accessAllowed ? 'block' : 'none';\n",
              "\n",
              "      async function convertToInteractive(key) {\n",
              "        const element = document.querySelector('#df-51c38daf-4d95-4d1a-9775-cf7566f61769');\n",
              "        const dataTable =\n",
              "          await google.colab.kernel.invokeFunction('convertToInteractive',\n",
              "                                                    [key], {});\n",
              "        if (!dataTable) return;\n",
              "\n",
              "        const docLinkHtml = 'Like what you see? Visit the ' +\n",
              "          '<a target=\"_blank\" href=https://colab.research.google.com/notebooks/data_table.ipynb>data table notebook</a>'\n",
              "          + ' to learn more about interactive tables.';\n",
              "        element.innerHTML = '';\n",
              "        dataTable['output_type'] = 'display_data';\n",
              "        await google.colab.output.renderOutput(dataTable, element);\n",
              "        const docLink = document.createElement('div');\n",
              "        docLink.innerHTML = docLinkHtml;\n",
              "        element.appendChild(docLink);\n",
              "      }\n",
              "    </script>\n",
              "  </div>\n",
              "\n",
              "\n",
              "<div id=\"df-97bcf862-df4b-4b42-938b-a3aff7c2196b\">\n",
              "  <button class=\"colab-df-quickchart\" onclick=\"quickchart('df-97bcf862-df4b-4b42-938b-a3aff7c2196b')\"\n",
              "            title=\"Suggest charts\"\n",
              "            style=\"display:none;\">\n",
              "\n",
              "<svg xmlns=\"http://www.w3.org/2000/svg\" height=\"24px\"viewBox=\"0 0 24 24\"\n",
              "     width=\"24px\">\n",
              "    <g>\n",
              "        <path d=\"M19 3H5c-1.1 0-2 .9-2 2v14c0 1.1.9 2 2 2h14c1.1 0 2-.9 2-2V5c0-1.1-.9-2-2-2zM9 17H7v-7h2v7zm4 0h-2V7h2v10zm4 0h-2v-4h2v4z\"/>\n",
              "    </g>\n",
              "</svg>\n",
              "  </button>\n",
              "\n",
              "<style>\n",
              "  .colab-df-quickchart {\n",
              "      --bg-color: #E8F0FE;\n",
              "      --fill-color: #1967D2;\n",
              "      --hover-bg-color: #E2EBFA;\n",
              "      --hover-fill-color: #174EA6;\n",
              "      --disabled-fill-color: #AAA;\n",
              "      --disabled-bg-color: #DDD;\n",
              "  }\n",
              "\n",
              "  [theme=dark] .colab-df-quickchart {\n",
              "      --bg-color: #3B4455;\n",
              "      --fill-color: #D2E3FC;\n",
              "      --hover-bg-color: #434B5C;\n",
              "      --hover-fill-color: #FFFFFF;\n",
              "      --disabled-bg-color: #3B4455;\n",
              "      --disabled-fill-color: #666;\n",
              "  }\n",
              "\n",
              "  .colab-df-quickchart {\n",
              "    background-color: var(--bg-color);\n",
              "    border: none;\n",
              "    border-radius: 50%;\n",
              "    cursor: pointer;\n",
              "    display: none;\n",
              "    fill: var(--fill-color);\n",
              "    height: 32px;\n",
              "    padding: 0;\n",
              "    width: 32px;\n",
              "  }\n",
              "\n",
              "  .colab-df-quickchart:hover {\n",
              "    background-color: var(--hover-bg-color);\n",
              "    box-shadow: 0 1px 2px rgba(60, 64, 67, 0.3), 0 1px 3px 1px rgba(60, 64, 67, 0.15);\n",
              "    fill: var(--button-hover-fill-color);\n",
              "  }\n",
              "\n",
              "  .colab-df-quickchart-complete:disabled,\n",
              "  .colab-df-quickchart-complete:disabled:hover {\n",
              "    background-color: var(--disabled-bg-color);\n",
              "    fill: var(--disabled-fill-color);\n",
              "    box-shadow: none;\n",
              "  }\n",
              "\n",
              "  .colab-df-spinner {\n",
              "    border: 2px solid var(--fill-color);\n",
              "    border-color: transparent;\n",
              "    border-bottom-color: var(--fill-color);\n",
              "    animation:\n",
              "      spin 1s steps(1) infinite;\n",
              "  }\n",
              "\n",
              "  @keyframes spin {\n",
              "    0% {\n",
              "      border-color: transparent;\n",
              "      border-bottom-color: var(--fill-color);\n",
              "      border-left-color: var(--fill-color);\n",
              "    }\n",
              "    20% {\n",
              "      border-color: transparent;\n",
              "      border-left-color: var(--fill-color);\n",
              "      border-top-color: var(--fill-color);\n",
              "    }\n",
              "    30% {\n",
              "      border-color: transparent;\n",
              "      border-left-color: var(--fill-color);\n",
              "      border-top-color: var(--fill-color);\n",
              "      border-right-color: var(--fill-color);\n",
              "    }\n",
              "    40% {\n",
              "      border-color: transparent;\n",
              "      border-right-color: var(--fill-color);\n",
              "      border-top-color: var(--fill-color);\n",
              "    }\n",
              "    60% {\n",
              "      border-color: transparent;\n",
              "      border-right-color: var(--fill-color);\n",
              "    }\n",
              "    80% {\n",
              "      border-color: transparent;\n",
              "      border-right-color: var(--fill-color);\n",
              "      border-bottom-color: var(--fill-color);\n",
              "    }\n",
              "    90% {\n",
              "      border-color: transparent;\n",
              "      border-bottom-color: var(--fill-color);\n",
              "    }\n",
              "  }\n",
              "</style>\n",
              "\n",
              "  <script>\n",
              "    async function quickchart(key) {\n",
              "      const quickchartButtonEl =\n",
              "        document.querySelector('#' + key + ' button');\n",
              "      quickchartButtonEl.disabled = true;  // To prevent multiple clicks.\n",
              "      quickchartButtonEl.classList.add('colab-df-spinner');\n",
              "      try {\n",
              "        const charts = await google.colab.kernel.invokeFunction(\n",
              "            'suggestCharts', [key], {});\n",
              "      } catch (error) {\n",
              "        console.error('Error during call to suggestCharts:', error);\n",
              "      }\n",
              "      quickchartButtonEl.classList.remove('colab-df-spinner');\n",
              "      quickchartButtonEl.classList.add('colab-df-quickchart-complete');\n",
              "    }\n",
              "    (() => {\n",
              "      let quickchartButtonEl =\n",
              "        document.querySelector('#df-97bcf862-df4b-4b42-938b-a3aff7c2196b button');\n",
              "      quickchartButtonEl.style.display =\n",
              "        google.colab.kernel.accessAllowed ? 'block' : 'none';\n",
              "    })();\n",
              "  </script>\n",
              "</div>\n",
              "    </div>\n",
              "  </div>\n"
            ],
            "application/vnd.google.colaboratory.intrinsic+json": {
              "type": "dataframe",
              "variable_name": "datos",
              "summary": "{\n  \"name\": \"datos\",\n  \"rows\": 29397,\n  \"fields\": [\n    {\n      \"column\": \"AbdominalCircumference\",\n      \"properties\": {\n        \"dtype\": \"number\",\n        \"std\": 11.550399168722032,\n        \"min\": 51.1,\n        \"max\": 160.0,\n        \"num_unique_values\": 773,\n        \"samples\": [\n          69.5,\n          119.6,\n          115.0\n        ],\n        \"semantic_type\": \"\",\n        \"description\": \"\"\n      }\n    },\n    {\n      \"column\": \"Deficit\",\n      \"properties\": {\n        \"dtype\": \"number\",\n        \"std\": 374.47030322374144,\n        \"min\": 746.44,\n        \"max\": 3502.96,\n        \"num_unique_values\": 20015,\n        \"samples\": [\n          2264.64,\n          2037.91,\n          1117.1\n        ],\n        \"semantic_type\": \"\",\n        \"description\": \"\"\n      }\n    },\n    {\n      \"column\": \"PesoAperder\",\n      \"properties\": {\n        \"dtype\": \"number\",\n        \"std\": 0.2764813651164239,\n        \"min\": 0.48,\n        \"max\": 3.41,\n        \"num_unique_values\": 226,\n        \"samples\": [\n          1.06,\n          2.92,\n          1.84\n        ],\n        \"semantic_type\": \"\",\n        \"description\": \"\"\n      }\n    },\n    {\n      \"column\": \"desayuno_carbs\",\n      \"properties\": {\n        \"dtype\": \"number\",\n        \"std\": 11.702157698405697,\n        \"min\": 23.33,\n        \"max\": 109.47,\n        \"num_unique_values\": 5012,\n        \"samples\": [\n          72.71,\n          53.35,\n          59.47\n        ],\n        \"semantic_type\": \"\",\n        \"description\": \"\"\n      }\n    },\n    {\n      \"column\": \"desayuno_proten\",\n      \"properties\": {\n        \"dtype\": \"number\",\n        \"std\": 4.79173674044444,\n        \"min\": 9.33,\n        \"max\": 54.32,\n        \"num_unique_values\": 2409,\n        \"samples\": [\n          36.24,\n          29.57,\n          11.7\n        ],\n        \"semantic_type\": \"\",\n        \"description\": \"\"\n      }\n    },\n    {\n      \"column\": \"desayuno_grasas\",\n      \"properties\": {\n        \"dtype\": \"number\",\n        \"std\": 3.1205918240532444,\n        \"min\": 6.22,\n        \"max\": 29.19,\n        \"num_unique_values\": 1667,\n        \"samples\": [\n          13.65,\n          18.67,\n          19.7\n        ],\n        \"semantic_type\": \"\",\n        \"description\": \"\"\n      }\n    },\n    {\n      \"column\": \"almuerzo_carbs\",\n      \"properties\": {\n        \"dtype\": \"number\",\n        \"std\": 16.383060451923132,\n        \"min\": 32.66,\n        \"max\": 153.25,\n        \"num_unique_values\": 6418,\n        \"samples\": [\n          104.65,\n          118.22,\n          44.21\n        ],\n        \"semantic_type\": \"\",\n        \"description\": \"\"\n      }\n    },\n    {\n      \"column\": \"almuerzo_proten\",\n      \"properties\": {\n        \"dtype\": \"number\",\n        \"std\": 6.708449114312398,\n        \"min\": 13.06,\n        \"max\": 76.04,\n        \"num_unique_values\": 3211,\n        \"samples\": [\n          20.92,\n          34.44,\n          43.56\n        ],\n        \"semantic_type\": \"\",\n        \"description\": \"\"\n      }\n    },\n    {\n      \"column\": \"almuerzo_grasas\",\n      \"properties\": {\n        \"dtype\": \"number\",\n        \"std\": 4.368800554777282,\n        \"min\": 8.71,\n        \"max\": 40.87,\n        \"num_unique_values\": 2241,\n        \"samples\": [\n          23.26,\n          21.23,\n          26.3\n        ],\n        \"semantic_type\": \"\",\n        \"description\": \"\"\n      }\n    },\n    {\n      \"column\": \"cena_carbs\",\n      \"properties\": {\n        \"dtype\": \"number\",\n        \"std\": 18.72351142251594,\n        \"min\": 37.32,\n        \"max\": 175.15,\n        \"num_unique_values\": 7019,\n        \"samples\": [\n          67.47,\n          88.26,\n          101.62\n        ],\n        \"semantic_type\": \"\",\n        \"description\": \"\"\n      }\n    },\n    {\n      \"column\": \"cena_proten\",\n      \"properties\": {\n        \"dtype\": \"number\",\n        \"std\": 7.666738311346845,\n        \"min\": 14.93,\n        \"max\": 86.9,\n        \"num_unique_values\": 3565,\n        \"samples\": [\n          27.88,\n          16.2,\n          19.32\n        ],\n        \"semantic_type\": \"\",\n        \"description\": \"\"\n      }\n    },\n    {\n      \"column\": \"cena_grasas\",\n      \"properties\": {\n        \"dtype\": \"number\",\n        \"std\": 4.992934513148438,\n        \"min\": 9.95,\n        \"max\": 46.71,\n        \"num_unique_values\": 2500,\n        \"samples\": [\n          16.65,\n          24.57,\n          16.05\n        ],\n        \"semantic_type\": \"\",\n        \"description\": \"\"\n      }\n    },\n    {\n      \"column\": \"desayuno_1\",\n      \"properties\": {\n        \"dtype\": \"category\",\n        \"num_unique_values\": 16,\n        \"samples\": [\n          \"Cocoa\",\n          \"Ice milk\",\n          \"Cheddar\"\n        ],\n        \"semantic_type\": \"\",\n        \"description\": \"\"\n      }\n    }\n  ]\n}"
            }
          },
          "metadata": {},
          "execution_count": 28
        }
      ]
    },
    {
      "cell_type": "code",
      "source": [
        "datos.size #ver el tamaño"
      ],
      "metadata": {
        "colab": {
          "base_uri": "https://localhost:8080/"
        },
        "id": "OCytb6yKu1hc",
        "outputId": "0f30f635-dab7-4a18-f499-17e56e85f419"
      },
      "execution_count": 29,
      "outputs": [
        {
          "output_type": "execute_result",
          "data": {
            "text/plain": [
              "382161"
            ]
          },
          "metadata": {},
          "execution_count": 29
        }
      ]
    },
    {
      "cell_type": "code",
      "source": [
        "cantidad_nan = datos.isna().sum().sum() #ver datos nulos\n",
        "cantidad_nan"
      ],
      "metadata": {
        "colab": {
          "base_uri": "https://localhost:8080/"
        },
        "id": "jB1U2MEMvzwM",
        "outputId": "2417c28e-1c22-4753-e25e-08dfca4f7131"
      },
      "execution_count": 30,
      "outputs": [
        {
          "output_type": "execute_result",
          "data": {
            "text/plain": [
              "0"
            ]
          },
          "metadata": {},
          "execution_count": 30
        }
      ]
    },
    {
      "cell_type": "code",
      "source": [
        "datos = datos.dropna() # eliminar datos nulos"
      ],
      "metadata": {
        "id": "Od71iv7pv7LX"
      },
      "execution_count": 31,
      "outputs": []
    },
    {
      "cell_type": "code",
      "source": [
        "cantidad_nan = datos.isna().sum().sum() #ver datos nulos\n",
        "cantidad_nan"
      ],
      "metadata": {
        "colab": {
          "base_uri": "https://localhost:8080/"
        },
        "id": "ft1eCd5fv8_5",
        "outputId": "2bcaa8bb-63f3-49bf-ccfb-d12cfe639c1f"
      },
      "execution_count": 32,
      "outputs": [
        {
          "output_type": "execute_result",
          "data": {
            "text/plain": [
              "0"
            ]
          },
          "metadata": {},
          "execution_count": 32
        }
      ]
    },
    {
      "cell_type": "code",
      "source": [
        "datos.size #tamaño y cntidad de datos"
      ],
      "metadata": {
        "colab": {
          "base_uri": "https://localhost:8080/"
        },
        "id": "h3tQcPj2v_CH",
        "outputId": "74021197-0a7a-4c1d-d18b-989bb1aaf29e"
      },
      "execution_count": 33,
      "outputs": [
        {
          "output_type": "execute_result",
          "data": {
            "text/plain": [
              "382161"
            ]
          },
          "metadata": {},
          "execution_count": 33
        }
      ]
    },
    {
      "cell_type": "code",
      "source": [
        "print(datos.describe()) #describe los datos"
      ],
      "metadata": {
        "colab": {
          "base_uri": "https://localhost:8080/"
        },
        "id": "nPjfdj8TwJBY",
        "outputId": "ce49649e-ef64-4026-f3cf-5b06e8da33ec"
      },
      "execution_count": 34,
      "outputs": [
        {
          "output_type": "stream",
          "name": "stdout",
          "text": [
            "       AbdominalCircumference       Deficit   PesoAperder  desayuno_carbs  \\\n",
            "count            29397.000000  29397.000000  29397.000000    29397.000000   \n",
            "mean                92.343930   1552.002348      1.353496       48.500084   \n",
            "std                 11.550399    374.470303      0.276481       11.702158   \n",
            "min                 51.100000    746.440000      0.480000       23.330000   \n",
            "25%                 84.400000   1264.300000      1.160000       39.510000   \n",
            "50%                 91.900000   1523.050000      1.320000       47.600000   \n",
            "75%                 99.500000   1787.980000      1.510000       55.880000   \n",
            "max                160.000000   3502.960000      3.410000      109.470000   \n",
            "\n",
            "       desayuno_proten  desayuno_grasas  almuerzo_carbs  almuerzo_proten  \\\n",
            "count     29397.000000     29397.000000    29397.000000     29397.000000   \n",
            "mean         19.582654        12.933324       67.899995        27.415601   \n",
            "std           4.791737         3.120592       16.383060         6.708449   \n",
            "min           9.330000         6.220000       32.660000        13.060000   \n",
            "25%          15.960000        10.540000       55.310000        22.340000   \n",
            "50%          19.160000        12.690000       66.630000        26.830000   \n",
            "75%          22.570000        14.900000       78.220000        31.600000   \n",
            "max          54.320000        29.190000      153.250000        76.040000   \n",
            "\n",
            "       almuerzo_grasas    cena_carbs   cena_proten   cena_grasas  \n",
            "count     29397.000000  29397.000000  29397.000000  29397.000000  \n",
            "mean         18.106580     77.600122     31.332278     20.693338  \n",
            "std           4.368801     18.723511      7.666738      4.992935  \n",
            "min           8.710000     37.320000     14.930000      9.950000  \n",
            "25%          14.750000     63.220000     25.530000     16.860000  \n",
            "50%          17.770000     76.150000     30.660000     20.310000  \n",
            "75%          20.860000     89.400000     36.110000     23.840000  \n",
            "max          40.870000    175.150000     86.900000     46.710000  \n"
          ]
        }
      ]
    },
    {
      "cell_type": "code",
      "source": [
        "from sklearn.model_selection import train_test_split\n",
        "\n",
        "X = datos.drop(columns=[variable_predictora])#caracterisitcas del dataset (datos a predecir)\n",
        "y = datos[variable_predictora]#solo variable predictora\n",
        "\n",
        "\n",
        "X_train, X_test, y_train, y_test = train_test_split(X, y, test_size=0.2, random_state=30) #80%(entrenamiento) - 20%(validacion)      random_state=30 variacion o semilla de la separacion ramdon de datos\n",
        "\n",
        "\n"
      ],
      "metadata": {
        "id": "XB03-FnWxfLg"
      },
      "execution_count": 35,
      "outputs": []
    },
    {
      "cell_type": "code",
      "source": [
        "import tensorflow as tf\n",
        "\n",
        "norm_abalone_model = tf.keras.Sequential([\n",
        "\n",
        "    layers.Input(shape=(11,)),          #Numero de variables de entrada\n",
        "    layers.BatchNormalization(),        #normalizacion\n",
        "\n",
        "\n",
        "    layers.Dense(16, activation='sigmoid'), #Capa densa 16 neuronas\n",
        "    layers.Dense(32, activation='sigmoid'), #Capa densa 32 neuronas\n",
        "    layers.Dense(64, activation='sigmoid'),  #Capa densa 64 neuronas\n",
        "\n",
        "\n",
        "\n",
        "    layers.Dense(5, activation='softmax') #Capa de salida SOFTMAX numero de clases de salida\n",
        "])\n",
        "\n",
        "norm_abalone_model.compile(loss=tf.losses.SparseCategoricalCrossentropy(),   #Clasificacion por entropia, accuracy, seleccion\n",
        "                           optimizer=tf.optimizers.Adam(),\n",
        "                           metrics=['accuracy'])\n",
        "\n",
        "norm_abalone_model.fit(X_train, y_train, epochs=10) #10 epocas se pasa test de entremiento X, y  X(vairables datos) Y(predictores)   ##epocas pueden ser 24-36"
      ],
      "metadata": {
        "colab": {
          "base_uri": "https://localhost:8080/",
          "height": 1000
        },
        "id": "y8grNoCDxL4f",
        "outputId": "eb34ebc5-d059-4239-aea8-7de772dc87ef"
      },
      "execution_count": 18,
      "outputs": [
        {
          "output_type": "stream",
          "name": "stdout",
          "text": [
            "Epoch 1/10\n"
          ]
        },
        {
          "output_type": "error",
          "ename": "UnimplementedError",
          "evalue": "Graph execution error:\n\nDetected at node Cast_1 defined at (most recent call last):\n  File \"/usr/lib/python3.10/runpy.py\", line 196, in _run_module_as_main\n\n  File \"/usr/lib/python3.10/runpy.py\", line 86, in _run_code\n\n  File \"/usr/local/lib/python3.10/dist-packages/colab_kernel_launcher.py\", line 37, in <module>\n\n  File \"/usr/local/lib/python3.10/dist-packages/traitlets/config/application.py\", line 992, in launch_instance\n\n  File \"/usr/local/lib/python3.10/dist-packages/ipykernel/kernelapp.py\", line 619, in start\n\n  File \"/usr/local/lib/python3.10/dist-packages/tornado/platform/asyncio.py\", line 195, in start\n\n  File \"/usr/lib/python3.10/asyncio/base_events.py\", line 603, in run_forever\n\n  File \"/usr/lib/python3.10/asyncio/base_events.py\", line 1909, in _run_once\n\n  File \"/usr/lib/python3.10/asyncio/events.py\", line 80, in _run\n\n  File \"/usr/local/lib/python3.10/dist-packages/tornado/ioloop.py\", line 685, in <lambda>\n\n  File \"/usr/local/lib/python3.10/dist-packages/tornado/ioloop.py\", line 738, in _run_callback\n\n  File \"/usr/local/lib/python3.10/dist-packages/tornado/gen.py\", line 825, in inner\n\n  File \"/usr/local/lib/python3.10/dist-packages/tornado/gen.py\", line 786, in run\n\n  File \"/usr/local/lib/python3.10/dist-packages/ipykernel/kernelbase.py\", line 361, in process_one\n\n  File \"/usr/local/lib/python3.10/dist-packages/tornado/gen.py\", line 234, in wrapper\n\n  File \"/usr/local/lib/python3.10/dist-packages/ipykernel/kernelbase.py\", line 261, in dispatch_shell\n\n  File \"/usr/local/lib/python3.10/dist-packages/tornado/gen.py\", line 234, in wrapper\n\n  File \"/usr/local/lib/python3.10/dist-packages/ipykernel/kernelbase.py\", line 539, in execute_request\n\n  File \"/usr/local/lib/python3.10/dist-packages/tornado/gen.py\", line 234, in wrapper\n\n  File \"/usr/local/lib/python3.10/dist-packages/ipykernel/ipkernel.py\", line 302, in do_execute\n\n  File \"/usr/local/lib/python3.10/dist-packages/ipykernel/zmqshell.py\", line 539, in run_cell\n\n  File \"/usr/local/lib/python3.10/dist-packages/IPython/core/interactiveshell.py\", line 2975, in run_cell\n\n  File \"/usr/local/lib/python3.10/dist-packages/IPython/core/interactiveshell.py\", line 3030, in _run_cell\n\n  File \"/usr/local/lib/python3.10/dist-packages/IPython/core/async_helpers.py\", line 78, in _pseudo_sync_runner\n\n  File \"/usr/local/lib/python3.10/dist-packages/IPython/core/interactiveshell.py\", line 3257, in run_cell_async\n\n  File \"/usr/local/lib/python3.10/dist-packages/IPython/core/interactiveshell.py\", line 3473, in run_ast_nodes\n\n  File \"/usr/local/lib/python3.10/dist-packages/IPython/core/interactiveshell.py\", line 3553, in run_code\n\n  File \"<ipython-input-18-f19ff64d44c6>\", line 22, in <cell line: 22>\n\n  File \"/usr/local/lib/python3.10/dist-packages/keras/src/utils/traceback_utils.py\", line 65, in error_handler\n\n  File \"/usr/local/lib/python3.10/dist-packages/keras/src/engine/training.py\", line 1807, in fit\n\n  File \"/usr/local/lib/python3.10/dist-packages/keras/src/engine/training.py\", line 1401, in train_function\n\n  File \"/usr/local/lib/python3.10/dist-packages/keras/src/engine/training.py\", line 1384, in step_function\n\n  File \"/usr/local/lib/python3.10/dist-packages/keras/src/engine/training.py\", line 1373, in run_step\n\n  File \"/usr/local/lib/python3.10/dist-packages/keras/src/engine/training.py\", line 1155, in train_step\n\n  File \"/usr/local/lib/python3.10/dist-packages/keras/src/engine/training.py\", line 1249, in compute_metrics\n\n  File \"/usr/local/lib/python3.10/dist-packages/keras/src/engine/compile_utils.py\", line 620, in update_state\n\n  File \"/usr/local/lib/python3.10/dist-packages/keras/src/utils/metrics_utils.py\", line 77, in decorated\n\n  File \"/usr/local/lib/python3.10/dist-packages/keras/src/metrics/base_metric.py\", line 140, in update_state_fn\n\n  File \"/usr/local/lib/python3.10/dist-packages/keras/src/metrics/base_metric.py\", line 708, in update_state\n\nCast string to float is not supported\n\t [[{{node Cast_1}}]] [Op:__inference_train_function_1836]",
          "traceback": [
            "\u001b[0;31m---------------------------------------------------------------------------\u001b[0m",
            "\u001b[0;31mUnimplementedError\u001b[0m                        Traceback (most recent call last)",
            "\u001b[0;32m<ipython-input-18-f19ff64d44c6>\u001b[0m in \u001b[0;36m<cell line: 22>\u001b[0;34m()\u001b[0m\n\u001b[1;32m     20\u001b[0m                            metrics=['accuracy'])\n\u001b[1;32m     21\u001b[0m \u001b[0;34m\u001b[0m\u001b[0m\n\u001b[0;32m---> 22\u001b[0;31m \u001b[0mnorm_abalone_model\u001b[0m\u001b[0;34m.\u001b[0m\u001b[0mfit\u001b[0m\u001b[0;34m(\u001b[0m\u001b[0mX_train\u001b[0m\u001b[0;34m,\u001b[0m \u001b[0my_train\u001b[0m\u001b[0;34m,\u001b[0m \u001b[0mepochs\u001b[0m\u001b[0;34m=\u001b[0m\u001b[0;36m10\u001b[0m\u001b[0;34m)\u001b[0m \u001b[0;31m#10 epocas se pasa test de entremiento X, y  X(vairables datos) Y(predictores)   ##epocas pueden ser 24-36\u001b[0m\u001b[0;34m\u001b[0m\u001b[0;34m\u001b[0m\u001b[0m\n\u001b[0m",
            "\u001b[0;32m/usr/local/lib/python3.10/dist-packages/keras/src/utils/traceback_utils.py\u001b[0m in \u001b[0;36merror_handler\u001b[0;34m(*args, **kwargs)\u001b[0m\n\u001b[1;32m     68\u001b[0m             \u001b[0;31m# To get the full stack trace, call:\u001b[0m\u001b[0;34m\u001b[0m\u001b[0;34m\u001b[0m\u001b[0m\n\u001b[1;32m     69\u001b[0m             \u001b[0;31m# `tf.debugging.disable_traceback_filtering()`\u001b[0m\u001b[0;34m\u001b[0m\u001b[0;34m\u001b[0m\u001b[0m\n\u001b[0;32m---> 70\u001b[0;31m             \u001b[0;32mraise\u001b[0m \u001b[0me\u001b[0m\u001b[0;34m.\u001b[0m\u001b[0mwith_traceback\u001b[0m\u001b[0;34m(\u001b[0m\u001b[0mfiltered_tb\u001b[0m\u001b[0;34m)\u001b[0m \u001b[0;32mfrom\u001b[0m \u001b[0;32mNone\u001b[0m\u001b[0;34m\u001b[0m\u001b[0;34m\u001b[0m\u001b[0m\n\u001b[0m\u001b[1;32m     71\u001b[0m         \u001b[0;32mfinally\u001b[0m\u001b[0;34m:\u001b[0m\u001b[0;34m\u001b[0m\u001b[0;34m\u001b[0m\u001b[0m\n\u001b[1;32m     72\u001b[0m             \u001b[0;32mdel\u001b[0m \u001b[0mfiltered_tb\u001b[0m\u001b[0;34m\u001b[0m\u001b[0;34m\u001b[0m\u001b[0m\n",
            "\u001b[0;32m/usr/local/lib/python3.10/dist-packages/tensorflow/python/eager/execute.py\u001b[0m in \u001b[0;36mquick_execute\u001b[0;34m(op_name, num_outputs, inputs, attrs, ctx, name)\u001b[0m\n\u001b[1;32m     51\u001b[0m   \u001b[0;32mtry\u001b[0m\u001b[0;34m:\u001b[0m\u001b[0;34m\u001b[0m\u001b[0;34m\u001b[0m\u001b[0m\n\u001b[1;32m     52\u001b[0m     \u001b[0mctx\u001b[0m\u001b[0;34m.\u001b[0m\u001b[0mensure_initialized\u001b[0m\u001b[0;34m(\u001b[0m\u001b[0;34m)\u001b[0m\u001b[0;34m\u001b[0m\u001b[0;34m\u001b[0m\u001b[0m\n\u001b[0;32m---> 53\u001b[0;31m     tensors = pywrap_tfe.TFE_Py_Execute(ctx._handle, device_name, op_name,\n\u001b[0m\u001b[1;32m     54\u001b[0m                                         inputs, attrs, num_outputs)\n\u001b[1;32m     55\u001b[0m   \u001b[0;32mexcept\u001b[0m \u001b[0mcore\u001b[0m\u001b[0;34m.\u001b[0m\u001b[0m_NotOkStatusException\u001b[0m \u001b[0;32mas\u001b[0m \u001b[0me\u001b[0m\u001b[0;34m:\u001b[0m\u001b[0;34m\u001b[0m\u001b[0;34m\u001b[0m\u001b[0m\n",
            "\u001b[0;31mUnimplementedError\u001b[0m: Graph execution error:\n\nDetected at node Cast_1 defined at (most recent call last):\n  File \"/usr/lib/python3.10/runpy.py\", line 196, in _run_module_as_main\n\n  File \"/usr/lib/python3.10/runpy.py\", line 86, in _run_code\n\n  File \"/usr/local/lib/python3.10/dist-packages/colab_kernel_launcher.py\", line 37, in <module>\n\n  File \"/usr/local/lib/python3.10/dist-packages/traitlets/config/application.py\", line 992, in launch_instance\n\n  File \"/usr/local/lib/python3.10/dist-packages/ipykernel/kernelapp.py\", line 619, in start\n\n  File \"/usr/local/lib/python3.10/dist-packages/tornado/platform/asyncio.py\", line 195, in start\n\n  File \"/usr/lib/python3.10/asyncio/base_events.py\", line 603, in run_forever\n\n  File \"/usr/lib/python3.10/asyncio/base_events.py\", line 1909, in _run_once\n\n  File \"/usr/lib/python3.10/asyncio/events.py\", line 80, in _run\n\n  File \"/usr/local/lib/python3.10/dist-packages/tornado/ioloop.py\", line 685, in <lambda>\n\n  File \"/usr/local/lib/python3.10/dist-packages/tornado/ioloop.py\", line 738, in _run_callback\n\n  File \"/usr/local/lib/python3.10/dist-packages/tornado/gen.py\", line 825, in inner\n\n  File \"/usr/local/lib/python3.10/dist-packages/tornado/gen.py\", line 786, in run\n\n  File \"/usr/local/lib/python3.10/dist-packages/ipykernel/kernelbase.py\", line 361, in process_one\n\n  File \"/usr/local/lib/python3.10/dist-packages/tornado/gen.py\", line 234, in wrapper\n\n  File \"/usr/local/lib/python3.10/dist-packages/ipykernel/kernelbase.py\", line 261, in dispatch_shell\n\n  File \"/usr/local/lib/python3.10/dist-packages/tornado/gen.py\", line 234, in wrapper\n\n  File \"/usr/local/lib/python3.10/dist-packages/ipykernel/kernelbase.py\", line 539, in execute_request\n\n  File \"/usr/local/lib/python3.10/dist-packages/tornado/gen.py\", line 234, in wrapper\n\n  File \"/usr/local/lib/python3.10/dist-packages/ipykernel/ipkernel.py\", line 302, in do_execute\n\n  File \"/usr/local/lib/python3.10/dist-packages/ipykernel/zmqshell.py\", line 539, in run_cell\n\n  File \"/usr/local/lib/python3.10/dist-packages/IPython/core/interactiveshell.py\", line 2975, in run_cell\n\n  File \"/usr/local/lib/python3.10/dist-packages/IPython/core/interactiveshell.py\", line 3030, in _run_cell\n\n  File \"/usr/local/lib/python3.10/dist-packages/IPython/core/async_helpers.py\", line 78, in _pseudo_sync_runner\n\n  File \"/usr/local/lib/python3.10/dist-packages/IPython/core/interactiveshell.py\", line 3257, in run_cell_async\n\n  File \"/usr/local/lib/python3.10/dist-packages/IPython/core/interactiveshell.py\", line 3473, in run_ast_nodes\n\n  File \"/usr/local/lib/python3.10/dist-packages/IPython/core/interactiveshell.py\", line 3553, in run_code\n\n  File \"<ipython-input-18-f19ff64d44c6>\", line 22, in <cell line: 22>\n\n  File \"/usr/local/lib/python3.10/dist-packages/keras/src/utils/traceback_utils.py\", line 65, in error_handler\n\n  File \"/usr/local/lib/python3.10/dist-packages/keras/src/engine/training.py\", line 1807, in fit\n\n  File \"/usr/local/lib/python3.10/dist-packages/keras/src/engine/training.py\", line 1401, in train_function\n\n  File \"/usr/local/lib/python3.10/dist-packages/keras/src/engine/training.py\", line 1384, in step_function\n\n  File \"/usr/local/lib/python3.10/dist-packages/keras/src/engine/training.py\", line 1373, in run_step\n\n  File \"/usr/local/lib/python3.10/dist-packages/keras/src/engine/training.py\", line 1155, in train_step\n\n  File \"/usr/local/lib/python3.10/dist-packages/keras/src/engine/training.py\", line 1249, in compute_metrics\n\n  File \"/usr/local/lib/python3.10/dist-packages/keras/src/engine/compile_utils.py\", line 620, in update_state\n\n  File \"/usr/local/lib/python3.10/dist-packages/keras/src/utils/metrics_utils.py\", line 77, in decorated\n\n  File \"/usr/local/lib/python3.10/dist-packages/keras/src/metrics/base_metric.py\", line 140, in update_state_fn\n\n  File \"/usr/local/lib/python3.10/dist-packages/keras/src/metrics/base_metric.py\", line 708, in update_state\n\nCast string to float is not supported\n\t [[{{node Cast_1}}]] [Op:__inference_train_function_1836]"
          ]
        }
      ]
    },
    {
      "cell_type": "code",
      "source": [
        "score = norm_abalone_model.evaluate(X_test, y_test) #Verificar exactitud del modelo\n",
        "print(\"Exactitud test:\", score[1])"
      ],
      "metadata": {
        "id": "r53KK7WJ0kvI"
      },
      "execution_count": null,
      "outputs": []
    },
    {
      "cell_type": "code",
      "source": [
        "norm_abalone_model.save(str('Model1'+str(score[1])+'ACCURACY.h5')) #Guardamos el modelo"
      ],
      "metadata": {
        "id": "ZWrl-OoZ0mFq"
      },
      "execution_count": null,
      "outputs": []
    },
    {
      "cell_type": "code",
      "source": [
        "X_test.iloc[34] #Podemos probar el modelo, usamos 1 dato de los tests"
      ],
      "metadata": {
        "id": "JG88FQMe0niT"
      },
      "execution_count": null,
      "outputs": []
    },
    {
      "cell_type": "code",
      "source": [
        "y_test.iloc[34] #Vemos cual deberia ser su salida real"
      ],
      "metadata": {
        "id": "9HHe0v110ovJ"
      },
      "execution_count": null,
      "outputs": []
    },
    {
      "cell_type": "code",
      "source": [
        "fila_entrada = X_train.iloc[34] #Aqui tenemos que redimensionar los datos de test a nuestro modelo para poder ser utilizado\n",
        "entrada_modelo = np.array(fila_entrada).reshape(1, 11)  #en este caso seria 1 fila de 11 columnas (11 datos planos)"
      ],
      "metadata": {
        "id": "ISboHRzU0p1k"
      },
      "execution_count": null,
      "outputs": []
    },
    {
      "cell_type": "code",
      "source": [
        "entrada_modelo"
      ],
      "metadata": {
        "id": "oaKinIDI0q2h"
      },
      "execution_count": null,
      "outputs": []
    },
    {
      "cell_type": "code",
      "source": [
        "norm_abalone_model.predict(entrada_modelo) #Vemos la prediccion del modelo  y su resultado"
      ],
      "metadata": {
        "id": "EmZ3U_760rxD"
      },
      "execution_count": null,
      "outputs": []
    },
    {
      "cell_type": "code",
      "source": [
        "valores_unicos = datos[variable_predictora].unique() #Si queremos saber cuantas clases o valores unicos tenemos\n",
        "valores_unicos"
      ],
      "metadata": {
        "id": "K0q6rMEF0spu"
      },
      "execution_count": null,
      "outputs": []
    },
    {
      "cell_type": "code",
      "source": [
        "#Claisfiacion\n",
        "\n",
        "resultado=norm_abalone_model.predict(entrada_modelo)[0]\n",
        "    respuesta=np.argmax(resultado)\n",
        "    if respuesta == 0:\n",
        "        print('comida1')\n",
        "    elif respuesta == 1:\n",
        "        print('comida2')\n",
        "    elif respuesta == 2:\n",
        "        print('comida3')\n",
        "    elif respuesta == 3:\n",
        "        print('comida4')\n",
        "    elif respuesta == 4:\n",
        "        print('comida5')"
      ],
      "metadata": {
        "id": "2AmabeWL0t0e"
      },
      "execution_count": null,
      "outputs": []
    },
    {
      "cell_type": "code",
      "source": [
        "CODIGO SACADO DE CHAT GPT"
      ],
      "metadata": {
        "id": "7Wt9Kk7J7up4"
      },
      "execution_count": null,
      "outputs": []
    },
    {
      "cell_type": "code",
      "source": [
        "from sklearn.preprocessing import LabelEncoder\n",
        "from tensorflow.keras.utils import to_categorical\n",
        "\n",
        "# Convertir etiquetas categóricas a enteros\n",
        "label_encoder = LabelEncoder()\n",
        "y = label_encoder.fit_transform(datos[variable_predictora])\n",
        "y = to_categorical(y)  # Convertir a one-hot\n",
        "\n",
        "# Dividir los datos en conjuntos de entrenamiento y prueba\n",
        "X_train, X_test, y_train, y_test = train_test_split(X, y, test_size=0.2, random_state=30)\n",
        "\n",
        "# Modificar el modelo\n",
        "norm_abalone_model = tf.keras.Sequential([\n",
        "    layers.Input(shape=(12,)),\n",
        "    layers.BatchNormalization(),\n",
        "    layers.Dense(16, activation='sigmoid'),\n",
        "    layers.Dense(32, activation='sigmoid'),\n",
        "    layers.Dense(64, activation='sigmoid'),\n",
        "    layers.Dense(y_train.shape[1], activation='softmax')  # Asegurarse de que la capa de salida tenga el número correcto de neuronas\n",
        "])\n",
        "\n",
        "# Compilar el modelo con la pérdida adecuada para clasificación multinomial\n",
        "norm_abalone_model.compile(\n",
        "    loss=tf.losses.CategoricalCrossentropy(),\n",
        "    optimizer=tf.optimizers.Adam(),\n",
        "    metrics=['accuracy']\n",
        ")\n",
        "\n",
        "# Entrenar el modelo\n",
        "norm_abalone_model.fit(X_train, y_train, epochs=10)\n"
      ],
      "metadata": {
        "colab": {
          "base_uri": "https://localhost:8080/"
        },
        "id": "GQ09ayoy6T5t",
        "outputId": "27b3a2d0-88be-4ba4-ee73-aeb170c819e2"
      },
      "execution_count": 37,
      "outputs": [
        {
          "output_type": "stream",
          "name": "stdout",
          "text": [
            "Epoch 1/10\n",
            "735/735 [==============================] - 4s 4ms/step - loss: 2.3023 - accuracy: 0.1576\n",
            "Epoch 2/10\n",
            "735/735 [==============================] - 3s 4ms/step - loss: 2.2017 - accuracy: 0.1596\n",
            "Epoch 3/10\n",
            "735/735 [==============================] - 2s 2ms/step - loss: 2.1869 - accuracy: 0.1520\n",
            "Epoch 4/10\n",
            "735/735 [==============================] - 2s 2ms/step - loss: 2.1781 - accuracy: 0.1550\n",
            "Epoch 5/10\n",
            "735/735 [==============================] - 2s 2ms/step - loss: 2.1759 - accuracy: 0.1595\n",
            "Epoch 6/10\n",
            "735/735 [==============================] - 2s 2ms/step - loss: 2.1700 - accuracy: 0.1536\n",
            "Epoch 7/10\n",
            "735/735 [==============================] - 2s 2ms/step - loss: 2.1689 - accuracy: 0.1510\n",
            "Epoch 8/10\n",
            "735/735 [==============================] - 2s 2ms/step - loss: 2.1610 - accuracy: 0.1585\n",
            "Epoch 9/10\n",
            "735/735 [==============================] - 2s 3ms/step - loss: 2.1585 - accuracy: 0.1563\n",
            "Epoch 10/10\n",
            "735/735 [==============================] - 2s 3ms/step - loss: 2.1544 - accuracy: 0.1575\n"
          ]
        },
        {
          "output_type": "execute_result",
          "data": {
            "text/plain": [
              "<keras.src.callbacks.History at 0x7f34b36e7910>"
            ]
          },
          "metadata": {},
          "execution_count": 37
        }
      ]
    },
    {
      "cell_type": "code",
      "source": [
        "# Evaluación del modelo\n",
        "score = norm_abalone_model.evaluate(X_test, y_test)\n",
        "print(\"Exactitud del test:\", score[1])"
      ],
      "metadata": {
        "colab": {
          "base_uri": "https://localhost:8080/"
        },
        "id": "aedamIE06b6E",
        "outputId": "3fc83a51-69e8-4b70-c658-fbd4474fe16f"
      },
      "execution_count": 65,
      "outputs": [
        {
          "output_type": "stream",
          "name": "stdout",
          "text": [
            "184/184 [==============================] - 0s 2ms/step - loss: 2.1165 - accuracy: 0.1577\n",
            "Exactitud del test: 0.1576530635356903\n"
          ]
        }
      ]
    },
    {
      "cell_type": "code",
      "source": [
        "# Guardar el modelo\n",
        "model_filename = f'Model1{score[1]:.4f}ACCURACY.h5'  # Formato con 4 decimales\n",
        "norm_abalone_model.save(model_filename)\n"
      ],
      "metadata": {
        "colab": {
          "base_uri": "https://localhost:8080/"
        },
        "id": "NM63WqKzBXEB",
        "outputId": "3beaf2b5-5c2b-4043-c4db-9686809ff7d3"
      },
      "execution_count": 43,
      "outputs": [
        {
          "output_type": "stream",
          "name": "stderr",
          "text": [
            "/usr/local/lib/python3.10/dist-packages/keras/src/engine/training.py:3103: UserWarning: You are saving your model as an HDF5 file via `model.save()`. This file format is considered legacy. We recommend using instead the native Keras format, e.g. `model.save('my_model.keras')`.\n",
            "  saving_api.save_model(\n"
          ]
        }
      ]
    },
    {
      "cell_type": "code",
      "source": [
        "# Prueba con un dato específico del conjunto de prueba\n",
        "print(\"Entrada del modelo:\", X_test.iloc[1066])\n",
        "print(\"Salida esperada real:\", y_test[1066])  # Cambiado para trabajar con numpy arrays"
      ],
      "metadata": {
        "colab": {
          "base_uri": "https://localhost:8080/"
        },
        "id": "sZCo6H9LBWKx",
        "outputId": "852d43da-7742-42ae-8513-4bfaf4687b5b"
      },
      "execution_count": 61,
      "outputs": [
        {
          "output_type": "stream",
          "name": "stdout",
          "text": [
            "Entrada del modelo: AbdominalCircumference      83.30\n",
            "Deficit                   1005.20\n",
            "PesoAperder                  1.14\n",
            "desayuno_carbs              31.41\n",
            "desayuno_proten             15.71\n",
            "desayuno_grasas              8.38\n",
            "almuerzo_carbs              43.98\n",
            "almuerzo_proten             21.99\n",
            "almuerzo_grasas             11.73\n",
            "cena_carbs                  50.26\n",
            "cena_proten                 25.13\n",
            "cena_grasas                 13.40\n",
            "Name: 10294, dtype: float64\n",
            "Salida esperada real: [0. 0. 1. 0. 0. 0. 0. 0. 0. 0. 0. 0. 0. 0. 0. 0.]\n"
          ]
        }
      ]
    },
    {
      "cell_type": "code",
      "source": [
        "# Preparación de la entrada para el modelo\n",
        "fila_entrada = X_train.iloc[1066]\n",
        "entrada_modelo = np.array(fila_entrada).reshape(1, -1)  # Redimensionar a 1x11"
      ],
      "metadata": {
        "id": "dsLGEr81BUny"
      },
      "execution_count": 62,
      "outputs": []
    },
    {
      "cell_type": "code",
      "source": [
        "# Predicción con el modelo\n",
        "prediccion = norm_abalone_model.predict(entrada_modelo)\n",
        "prediccion_clase = np.argmax(prediccion, axis=1)\n",
        "etiqueta_predicha = label_encoder.inverse_transform(prediccion_clase)[0]\n",
        "print(\"Predicción del modelo:\", etiqueta_predicha)"
      ],
      "metadata": {
        "colab": {
          "base_uri": "https://localhost:8080/"
        },
        "id": "Xu0IxdxzBTAK",
        "outputId": "ab8d817a-9242-40ff-f5a9-459b5dc227df"
      },
      "execution_count": 63,
      "outputs": [
        {
          "output_type": "stream",
          "name": "stdout",
          "text": [
            "1/1 [==============================] - 0s 22ms/step\n",
            "Predicción del modelo: Buttermilk\n"
          ]
        }
      ]
    },
    {
      "cell_type": "code",
      "source": [
        "# Explorar las clases únicas\n",
        "valores_unicos = datos[variable_predictora].unique()\n",
        "print(\"Valores únicos en la variable predictora:\", valores_unicos)"
      ],
      "metadata": {
        "colab": {
          "base_uri": "https://localhost:8080/"
        },
        "id": "UWILjwR_BRAm",
        "outputId": "d7e79814-f16e-467d-d0e2-83506ebe67a3"
      },
      "execution_count": 64,
      "outputs": [
        {
          "output_type": "stream",
          "name": "stdout",
          "text": [
            "Valores únicos en la variable predictora: ['Cocoa' 'Ice milk' 'Processed cheese' 'Cream cheese' 'Buttermilk'\n",
            " 'Cheddar' 'Custard' '(cornstarch)' \"Goats' milk\" 'Roquefort type'\n",
            " 'Cheddar grated' 'skim. milk' 'skim non-instant' 'Cheese'\n",
            " 'Evaporated undiluted' 'skim instant']\n"
          ]
        }
      ]
    },
    {
      "cell_type": "code",
      "source": [
        "MULTILAVEL"
      ],
      "metadata": {
        "id": "U_1042b5FpFZ"
      },
      "execution_count": null,
      "outputs": []
    },
    {
      "cell_type": "code",
      "source": [
        "import pandas as pd\n",
        "from sklearn.preprocessing import MultiLabelBinarizer\n",
        "from sklearn.model_selection import train_test_split\n",
        "import tensorflow as tf\n",
        "from tensorflow.keras import layers\n",
        "\n",
        "# Carga de datos\n",
        "datos = pd.read_csv(\"/dataset_final_v4.csv\", usecols=[\n",
        "    \"AbdominalCircumference\", \"Deficit\", \"PesoAperder\",\n",
        "    \"desayuno_carbs\", \"desayuno_proten\", \"desayuno_grasas\",\n",
        "    \"almuerzo_carbs\", \"almuerzo_proten\", \"almuerzo_grasas\",\n",
        "    \"cena_carbs\", \"cena_proten\", \"cena_grasas\",\n",
        "    \"desayuno_1\", \"desayuno_2\", \"desayuno_3\", \"almuerzo_1\", \"almuerzo_2\", \"almuerzo_3\", \"cena_1\", \"cena_2\"\n",
        "])\n",
        "\n",
        "# Convertir todas las columnas de interés a tipo cadena y manejar valores NaN\n",
        "columns_to_transform = [\"desayuno_1\", \"desayuno_2\", \"desayuno_3\", \"almuerzo_1\", \"almuerzo_2\", \"almuerzo_3\", \"cena_1\", \"cena_2\"]\n",
        "for col in columns_to_transform:\n",
        "    datos[col] = datos[col].astype(str).fillna('Desconocido')\n",
        "\n",
        "# Preparación de etiquetas usando MultiLabelBinarizer\n",
        "mlb = MultiLabelBinarizer()\n",
        "y = mlb.fit_transform(datos[columns_to_transform].values)\n",
        "X = datos.drop(columns=columns_to_transform)\n",
        "\n",
        "# Dividir los datos en conjuntos de entrenamiento y prueba\n",
        "X_train, X_test, y_train, y_test = train_test_split(X, y, test_size=0.2, random_state=30)\n"
      ],
      "metadata": {
        "id": "rTOgk9d0Fryg"
      },
      "execution_count": 67,
      "outputs": []
    },
    {
      "cell_type": "code",
      "source": [
        "# Construir el modelo\n",
        "model = tf.keras.Sequential([\n",
        "    layers.Input(shape=(X_train.shape[1],)),\n",
        "    layers.BatchNormalization(),\n",
        "    layers.Dense(64, activation='relu'),\n",
        "    layers.Dense(128, activation='relu'),\n",
        "    layers.Dense(256, activation='relu'),\n",
        "    layers.Dense(y_train.shape[1], activation='sigmoid')  # Usar sigmoid para la clasificación multi-etiqueta\n",
        "])\n",
        "\n",
        "# Compilar el modelo\n",
        "model.compile(\n",
        "    loss=tf.losses.BinaryCrossentropy(),  # BinaryCrossentropy para clasificación multi-etiqueta\n",
        "    optimizer=tf.optimizers.Adam(),\n",
        "    metrics=['accuracy']\n",
        ")\n",
        "\n"
      ],
      "metadata": {
        "id": "0fz7j89gFsXE"
      },
      "execution_count": 68,
      "outputs": []
    },
    {
      "cell_type": "code",
      "source": [
        "# Entrenar el modelo\n",
        "model.fit(X_train, y_train, epochs=10, batch_size=32)\n"
      ],
      "metadata": {
        "colab": {
          "base_uri": "https://localhost:8080/"
        },
        "id": "m7XxrQUDHyDc",
        "outputId": "321acb92-14f8-4184-c017-daddfce1e13c"
      },
      "execution_count": 69,
      "outputs": [
        {
          "output_type": "stream",
          "name": "stdout",
          "text": [
            "Epoch 1/10\n",
            "735/735 [==============================] - 5s 4ms/step - loss: 0.1492 - accuracy: 0.0149\n",
            "Epoch 2/10\n",
            "735/735 [==============================] - 3s 4ms/step - loss: 0.1340 - accuracy: 0.0179\n",
            "Epoch 3/10\n",
            "735/735 [==============================] - 3s 4ms/step - loss: 0.1336 - accuracy: 0.0198\n",
            "Epoch 4/10\n",
            "735/735 [==============================] - 4s 5ms/step - loss: 0.1334 - accuracy: 0.0178\n",
            "Epoch 5/10\n",
            "735/735 [==============================] - 3s 4ms/step - loss: 0.1333 - accuracy: 0.0185\n",
            "Epoch 6/10\n",
            "735/735 [==============================] - 3s 4ms/step - loss: 0.1331 - accuracy: 0.0189\n",
            "Epoch 7/10\n",
            "735/735 [==============================] - 3s 5ms/step - loss: 0.1331 - accuracy: 0.0200\n",
            "Epoch 8/10\n",
            "735/735 [==============================] - 4s 5ms/step - loss: 0.1330 - accuracy: 0.0170\n",
            "Epoch 9/10\n",
            "735/735 [==============================] - 3s 4ms/step - loss: 0.1330 - accuracy: 0.0167\n",
            "Epoch 10/10\n",
            "735/735 [==============================] - 3s 4ms/step - loss: 0.1329 - accuracy: 0.0179\n"
          ]
        },
        {
          "output_type": "execute_result",
          "data": {
            "text/plain": [
              "<keras.src.callbacks.History at 0x7f34b5f60df0>"
            ]
          },
          "metadata": {},
          "execution_count": 69
        }
      ]
    },
    {
      "cell_type": "code",
      "source": [
        "# Evaluación del modelo\n",
        "score = model.evaluate(X_test, y_test)\n",
        "print(\"Exactitud del test:\", score[1])\n",
        "\n",
        "# Guardar el modelo entrenado\n",
        "model_filename = f'Model_multi_label_{score[1]:.4f}ACCURACY.h5'\n",
        "model.save(model_filename)\n"
      ],
      "metadata": {
        "colab": {
          "base_uri": "https://localhost:8080/"
        },
        "id": "mT2LLi6wFuY7",
        "outputId": "018557f3-0b52-49a6-edfb-1cb15f61559f"
      },
      "execution_count": 70,
      "outputs": [
        {
          "output_type": "stream",
          "name": "stdout",
          "text": [
            "184/184 [==============================] - 1s 5ms/step - loss: 0.1324 - accuracy: 0.0400\n",
            "Exactitud del test: 0.03996598720550537\n"
          ]
        },
        {
          "output_type": "stream",
          "name": "stderr",
          "text": [
            "/usr/local/lib/python3.10/dist-packages/keras/src/engine/training.py:3103: UserWarning: You are saving your model as an HDF5 file via `model.save()`. This file format is considered legacy. We recommend using instead the native Keras format, e.g. `model.save('my_model.keras')`.\n",
            "  saving_api.save_model(\n"
          ]
        }
      ]
    },
    {
      "cell_type": "code",
      "source": [
        "import numpy as np\n",
        "\n",
        "# Selecciona un índice para probar, ajusta el número según el tamaño de tu conjunto de prueba\n",
        "indice_prueba = 1066  # Asegúrate de que el índice exista en tu conjunto de prueba\n",
        "\n",
        "# Prueba con un dato específico del conjunto de prueba\n",
        "print(\"Entrada del modelo:\", X_test.iloc[indice_prueba])\n",
        "print(\"Salida esperada real:\", y_test[indice_prueba])  # y_test ya es un numpy array\n",
        "\n",
        "# Preparación de la entrada para el modelo\n",
        "fila_entrada = X_test.iloc[indice_prueba]\n",
        "entrada_modelo = np.array(fila_entrada).reshape(1, -1)  # Redimensionar para que sea 1x(Número de características)\n",
        "\n",
        "# Realizar la predicción con el modelo\n",
        "prediccion = model.predict(entrada_modelo)\n",
        "\n",
        "# Decodificar la predicción si es necesario (por ejemplo, usando thresholding para clasificación multi-label)\n",
        "prediccion_decodificada = (prediccion > 0.5).astype(int)\n",
        "\n",
        "# Imprimir la predicción del modelo\n",
        "print(\"Predicción del modelo:\", prediccion_decodificada)\n"
      ],
      "metadata": {
        "colab": {
          "base_uri": "https://localhost:8080/"
        },
        "id": "YtLvKWP6I4YA",
        "outputId": "50a8e465-d1b4-41a1-ee75-87c0d204eac6"
      },
      "execution_count": 71,
      "outputs": [
        {
          "output_type": "stream",
          "name": "stdout",
          "text": [
            "Entrada del modelo: AbdominalCircumference      83.30\n",
            "Deficit                   1005.20\n",
            "PesoAperder                  1.14\n",
            "desayuno_carbs              31.41\n",
            "desayuno_proten             15.71\n",
            "desayuno_grasas              8.38\n",
            "almuerzo_carbs              43.98\n",
            "almuerzo_proten             21.99\n",
            "almuerzo_grasas             11.73\n",
            "cena_carbs                  50.26\n",
            "cena_proten                 25.13\n",
            "cena_grasas                 13.40\n",
            "Name: 10294, dtype: float64\n",
            "Salida esperada real: [0 0 0 0 0 0 0 0 0 0 0 0 0 0 0 0 0 0 0 0 0 0 0 0 0 0 0 0 0 0 0 0 1 0 0 0 0\n",
            " 1 0 0 0 0 0 0 0 0 0 0 0 0 0 0 0 0 0 0 0 0 0 0 0 0 0 0 0 0 0 0 0 0 0 0 0 0\n",
            " 0 0 0 0 0 0 0 1 0 0 0 0 0 0 0 0 0 0 0 0 0 0 0 0 0 0 0 0 0 0 0 0 0 1 0 0 0\n",
            " 0 0 1 0 0 0 0 0 0 0 0 0 0 0 0 0 0 0 0 0 0 0 0 0 0 0 0 0 0 0 1 0 0 0 0 0 0\n",
            " 0 0 0 0 0 0 0 0 0 0 0 0 0 0 0 0 0 0 0 0 0 0 0 0 0 0 0 1 0 0 0 0 0 0 0 0 0\n",
            " 0 0 1 0 0 0 0 0 0 0 0 0 0 0 0 0 0 0 0 0 0 0 0 0 0 0 0 0 0 0 0 0 0 0 0 0 0\n",
            " 0]\n",
            "1/1 [==============================] - 0s 150ms/step\n",
            "Predicción del modelo: [[0 0 0 0 0 0 0 0 0 0 0 0 0 0 0 0 0 0 0 0 0 0 0 0 0 0 0 0 0 0 0 0 0 0 0 0\n",
            "  0 0 0 0 0 0 0 0 0 0 0 0 0 0 0 0 0 0 0 0 0 0 0 0 0 0 0 0 0 0 0 0 0 0 0 0\n",
            "  0 0 0 0 0 0 0 0 0 0 0 0 0 0 0 0 0 0 0 0 0 0 0 0 0 0 0 0 0 0 0 0 0 0 0 0\n",
            "  0 0 0 0 0 0 0 0 0 0 0 0 0 0 0 0 0 0 0 0 0 0 0 0 0 0 0 0 0 0 0 0 0 0 0 0\n",
            "  0 0 0 0 0 0 0 0 0 0 0 0 0 0 0 0 0 0 0 0 0 0 0 0 0 0 0 0 0 0 0 0 0 0 0 0\n",
            "  0 0 0 0 0 0 0 1 0 0 0 0 0 0 0 0 0 0 0 0 0 0 0 0 0 0 0 0 0 0 0 0 0 0 0 0\n",
            "  0 0 0 0 0 0 0]]\n"
          ]
        }
      ]
    },
    {
      "cell_type": "code",
      "source": [
        "# Decodificar la salida real y la predicción\n",
        "etiquetas_reales = mlb.inverse_transform(y_test[[indice_prueba]])\n",
        "prediccion_decodificada = mlb.inverse_transform(prediccion_decodificada)\n",
        "\n",
        "# Imprimir las etiquetas reales y la predicción decodificada\n",
        "print(\"Etiquetas reales:\", etiquetas_reales)\n",
        "print(\"Predicción del modelo:\", prediccion_decodificada)\n"
      ],
      "metadata": {
        "colab": {
          "base_uri": "https://localhost:8080/"
        },
        "id": "JY4Eu83yJQoT",
        "outputId": "52b5b41c-75db-4aed-b68a-83d24a956993"
      },
      "execution_count": 72,
      "outputs": [
        {
          "output_type": "stream",
          "name": "stdout",
          "text": [
            "Etiquetas reales: [('Cheddar', 'Clam chowder', 'Haddock', 'Nectar or juice', 'Orange juice', 'Puffed rice', 'Split cooked peas', 'Swiss')]\n",
            "Predicción del modelo: [('Swiss',)]\n"
          ]
        }
      ]
    },
    {
      "cell_type": "code",
      "source": [
        "import numpy as np\n",
        "\n",
        "def evaluar_modelo_con_umbral(model, X_test, y_test, umbrales):\n",
        "    predicciones = model.predict(X_test)\n",
        "    for umbral in umbrales:\n",
        "        # Aplicar el umbral a las predicciones\n",
        "        predicciones_decodificadas = (predicciones > umbral).astype(int)\n",
        "        # Decodificar las etiquetas reales y las predicciones\n",
        "        etiquetas_reales = mlb.inverse_transform(y_test)\n",
        "        predicciones_etiquetas = mlb.inverse_transform(predicciones_decodificadas)\n",
        "        # Calcular la precisión para este umbral\n",
        "        matches = [set(real) == set(pred) for real, pred in zip(etiquetas_reales, predicciones_etiquetas)]\n",
        "        accuracy = np.mean(matches)\n",
        "        print(f\"Umbral: {umbral:.2f}, Precisión: {accuracy:.4f}\")\n",
        "\n",
        "# Lista de umbrales para probar\n",
        "umbrales = np.linspace(0.3, 0.7, 5)\n",
        "evaluar_modelo_con_umbral(model, X_test, y_test, umbrales)\n"
      ],
      "metadata": {
        "colab": {
          "base_uri": "https://localhost:8080/"
        },
        "id": "w9tLmWzaKazh",
        "outputId": "08469db9-f962-4523-851d-e8645336e56a"
      },
      "execution_count": 73,
      "outputs": [
        {
          "output_type": "stream",
          "name": "stdout",
          "text": [
            "184/184 [==============================] - 1s 5ms/step\n",
            "Umbral: 0.30, Precisión: 0.0000\n",
            "Umbral: 0.40, Precisión: 0.0000\n",
            "Umbral: 0.50, Precisión: 0.0000\n",
            "Umbral: 0.60, Precisión: 0.0000\n",
            "Umbral: 0.70, Precisión: 0.0000\n"
          ]
        }
      ]
    },
    {
      "cell_type": "code",
      "source": [
        "from tensorflow.keras import layers, models\n",
        "\n",
        "# Construir un nuevo modelo con más capas/neuronas y dropout\n",
        "model_ajustado = models.Sequential([\n",
        "    layers.Input(shape=(X_train.shape[1],)),\n",
        "    layers.BatchNormalization(),\n",
        "    layers.Dense(128, activation='relu'),\n",
        "    layers.Dropout(0.5),\n",
        "    layers.Dense(256, activation='relu'),\n",
        "    layers.Dropout(0.5),\n",
        "    layers.Dense(512, activation='relu'),\n",
        "    layers.Dropout(0.5),\n",
        "    layers.Dense(y_train.shape[1], activation='sigmoid')\n",
        "])\n",
        "\n",
        "model_ajustado.compile(\n",
        "    loss='binary_crossentropy',\n",
        "    optimizer='adam',\n",
        "    metrics=['accuracy']\n",
        ")\n",
        "\n",
        "# Entrenar el modelo ajustado\n",
        "model_ajustado.fit(X_train, y_train, epochs=20, batch_size=32, validation_split=0.2)\n"
      ],
      "metadata": {
        "colab": {
          "base_uri": "https://localhost:8080/"
        },
        "id": "f7sk0JVFKbNC",
        "outputId": "06d379b2-0a03-4248-a8f0-21d88d12743e"
      },
      "execution_count": 74,
      "outputs": [
        {
          "output_type": "stream",
          "name": "stdout",
          "text": [
            "Epoch 1/20\n",
            "588/588 [==============================] - 6s 8ms/step - loss: 0.1545 - accuracy: 0.0128 - val_loss: 0.1372 - val_accuracy: 0.0089\n",
            "Epoch 2/20\n",
            "588/588 [==============================] - 8s 13ms/step - loss: 0.1369 - accuracy: 0.0127 - val_loss: 0.1345 - val_accuracy: 0.0040\n",
            "Epoch 3/20\n",
            "588/588 [==============================] - 5s 8ms/step - loss: 0.1356 - accuracy: 0.0121 - val_loss: 0.1337 - val_accuracy: 0.0000e+00\n",
            "Epoch 4/20\n",
            "588/588 [==============================] - 6s 11ms/step - loss: 0.1350 - accuracy: 0.0133 - val_loss: 0.1333 - val_accuracy: 0.0000e+00\n",
            "Epoch 5/20\n",
            "588/588 [==============================] - 5s 9ms/step - loss: 0.1347 - accuracy: 0.0138 - val_loss: 0.1331 - val_accuracy: 0.0359\n",
            "Epoch 6/20\n",
            "588/588 [==============================] - 6s 10ms/step - loss: 0.1345 - accuracy: 0.0145 - val_loss: 0.1328 - val_accuracy: 0.0064\n",
            "Epoch 7/20\n",
            "588/588 [==============================] - 6s 10ms/step - loss: 0.1344 - accuracy: 0.0134 - val_loss: 0.1329 - val_accuracy: 0.0119\n",
            "Epoch 8/20\n",
            "588/588 [==============================] - 5s 9ms/step - loss: 0.1343 - accuracy: 0.0125 - val_loss: 0.1328 - val_accuracy: 2.1259e-04\n",
            "Epoch 9/20\n",
            "588/588 [==============================] - 7s 11ms/step - loss: 0.1343 - accuracy: 0.0130 - val_loss: 0.1327 - val_accuracy: 0.0000e+00\n",
            "Epoch 10/20\n",
            "588/588 [==============================] - 6s 11ms/step - loss: 0.1342 - accuracy: 0.0148 - val_loss: 0.1329 - val_accuracy: 0.0151\n",
            "Epoch 11/20\n",
            "588/588 [==============================] - 6s 10ms/step - loss: 0.1341 - accuracy: 0.0158 - val_loss: 0.1327 - val_accuracy: 0.0011\n",
            "Epoch 12/20\n",
            "588/588 [==============================] - 5s 9ms/step - loss: 0.1341 - accuracy: 0.0163 - val_loss: 0.1326 - val_accuracy: 0.0421\n",
            "Epoch 13/20\n",
            "588/588 [==============================] - 6s 10ms/step - loss: 0.1339 - accuracy: 0.0162 - val_loss: 0.1329 - val_accuracy: 0.0000e+00\n",
            "Epoch 14/20\n",
            "588/588 [==============================] - 5s 9ms/step - loss: 0.1340 - accuracy: 0.0156 - val_loss: 0.1327 - val_accuracy: 0.0240\n",
            "Epoch 15/20\n",
            "588/588 [==============================] - 6s 11ms/step - loss: 0.1339 - accuracy: 0.0130 - val_loss: 0.1324 - val_accuracy: 0.0546\n",
            "Epoch 16/20\n",
            "588/588 [==============================] - 5s 9ms/step - loss: 0.1339 - accuracy: 0.0177 - val_loss: 0.1327 - val_accuracy: 4.2517e-04\n",
            "Epoch 17/20\n",
            "588/588 [==============================] - 5s 9ms/step - loss: 0.1339 - accuracy: 0.0123 - val_loss: 0.1325 - val_accuracy: 0.0351\n",
            "Epoch 18/20\n",
            "588/588 [==============================] - 6s 10ms/step - loss: 0.1339 - accuracy: 0.0155 - val_loss: 0.1325 - val_accuracy: 0.0045\n",
            "Epoch 19/20\n",
            "588/588 [==============================] - 5s 9ms/step - loss: 0.1338 - accuracy: 0.0137 - val_loss: 0.1325 - val_accuracy: 2.1259e-04\n",
            "Epoch 20/20\n",
            "588/588 [==============================] - 7s 12ms/step - loss: 0.1338 - accuracy: 0.0141 - val_loss: 0.1324 - val_accuracy: 0.0278\n"
          ]
        },
        {
          "output_type": "execute_result",
          "data": {
            "text/plain": [
              "<keras.src.callbacks.History at 0x7f34b5c04a00>"
            ]
          },
          "metadata": {},
          "execution_count": 74
        }
      ]
    },
    {
      "cell_type": "code",
      "source": [
        "from sklearn.metrics import f1_score\n",
        "\n",
        "# Evaluar el F1-score\n",
        "y_pred_prob = model_ajustado.predict(X_test)\n",
        "y_pred = (y_pred_prob > 0.5).astype(int)\n",
        "f1 = f1_score(y_test, y_pred, average='micro')  # 'micro' para considerar la agregación global de verdaderos positivos, falsos negativos y falsos positivos\n",
        "print(f\"F1-Score (Micro): {f1:.4f}\")\n"
      ],
      "metadata": {
        "colab": {
          "base_uri": "https://localhost:8080/"
        },
        "id": "UHwmmpHyKc9E",
        "outputId": "22f2e563-d566-44df-f672-043cab762d74"
      },
      "execution_count": 75,
      "outputs": [
        {
          "output_type": "stream",
          "name": "stdout",
          "text": [
            "184/184 [==============================] - 0s 2ms/step\n",
            "F1-Score (Micro): 0.0537\n"
          ]
        }
      ]
    },
    {
      "cell_type": "code",
      "source": [
        "import numpy as np\n",
        "\n",
        "# Paso 1: Seleccionar una entrada de prueba\n",
        "indice_prueba = 1066  # Asegúrate de que el índice sea válido dentro del rango de X_test\n",
        "entrada_prueba = X_test.iloc[indice_prueba]\n",
        "etiqueta_real = y_test[indice_prueba]\n",
        "\n",
        "# Paso 2: Preparar la entrada para el modelo\n",
        "entrada_modelo = np.array(entrada_prueba).reshape(1, -1)\n",
        "\n",
        "# Paso 3: Realizar la predicción\n",
        "prediccion = model_ajustado.predict(entrada_modelo)\n",
        "\n",
        "# Paso 4: Aplicar el umbral ajustado para la activación de etiquetas, asumimos un umbral de 0.5 para este ejemplo\n",
        "umbral_ajustado = 0.5  # Ajusta este valor basado en tus pruebas de umbrales\n",
        "prediccion_decodificada = (prediccion > umbral_ajustado).astype(int)\n",
        "\n",
        "# Decodificar las etiquetas\n",
        "etiquetas_predichas = mlb.inverse_transform(prediccion_decodificada)\n",
        "etiquetas_reales = mlb.inverse_transform([etiqueta_real])\n",
        "\n",
        "# Imprimir resultados\n",
        "print(\"Entrada del modelo:\", entrada_prueba)\n",
        "print(\"Etiqueta real:\", etiquetas_reales)\n",
        "print(\"Predicción del modelo:\", etiquetas_predichas)\n"
      ],
      "metadata": {
        "colab": {
          "base_uri": "https://localhost:8080/",
          "height": 350
        },
        "id": "9mqTTt4-TQmz",
        "outputId": "3532fbb6-afa9-4b1b-a700-011d7d767b32"
      },
      "execution_count": 76,
      "outputs": [
        {
          "output_type": "stream",
          "name": "stdout",
          "text": [
            "1/1 [==============================] - 0s 280ms/step\n"
          ]
        },
        {
          "output_type": "error",
          "ename": "AttributeError",
          "evalue": "'list' object has no attribute 'shape'",
          "traceback": [
            "\u001b[0;31m---------------------------------------------------------------------------\u001b[0m",
            "\u001b[0;31mAttributeError\u001b[0m                            Traceback (most recent call last)",
            "\u001b[0;32m<ipython-input-76-93541534bbcb>\u001b[0m in \u001b[0;36m<cell line: 20>\u001b[0;34m()\u001b[0m\n\u001b[1;32m     18\u001b[0m \u001b[0;31m# Decodificar las etiquetas\u001b[0m\u001b[0;34m\u001b[0m\u001b[0;34m\u001b[0m\u001b[0m\n\u001b[1;32m     19\u001b[0m \u001b[0metiquetas_predichas\u001b[0m \u001b[0;34m=\u001b[0m \u001b[0mmlb\u001b[0m\u001b[0;34m.\u001b[0m\u001b[0minverse_transform\u001b[0m\u001b[0;34m(\u001b[0m\u001b[0mprediccion_decodificada\u001b[0m\u001b[0;34m)\u001b[0m\u001b[0;34m\u001b[0m\u001b[0;34m\u001b[0m\u001b[0m\n\u001b[0;32m---> 20\u001b[0;31m \u001b[0metiquetas_reales\u001b[0m \u001b[0;34m=\u001b[0m \u001b[0mmlb\u001b[0m\u001b[0;34m.\u001b[0m\u001b[0minverse_transform\u001b[0m\u001b[0;34m(\u001b[0m\u001b[0;34m[\u001b[0m\u001b[0metiqueta_real\u001b[0m\u001b[0;34m]\u001b[0m\u001b[0;34m)\u001b[0m\u001b[0;34m\u001b[0m\u001b[0;34m\u001b[0m\u001b[0m\n\u001b[0m\u001b[1;32m     21\u001b[0m \u001b[0;34m\u001b[0m\u001b[0m\n\u001b[1;32m     22\u001b[0m \u001b[0;31m# Imprimir resultados\u001b[0m\u001b[0;34m\u001b[0m\u001b[0;34m\u001b[0m\u001b[0m\n",
            "\u001b[0;32m/usr/local/lib/python3.10/dist-packages/sklearn/preprocessing/_label.py\u001b[0m in \u001b[0;36minverse_transform\u001b[0;34m(self, yt)\u001b[0m\n\u001b[1;32m    918\u001b[0m         \u001b[0mcheck_is_fitted\u001b[0m\u001b[0;34m(\u001b[0m\u001b[0mself\u001b[0m\u001b[0;34m)\u001b[0m\u001b[0;34m\u001b[0m\u001b[0;34m\u001b[0m\u001b[0m\n\u001b[1;32m    919\u001b[0m \u001b[0;34m\u001b[0m\u001b[0m\n\u001b[0;32m--> 920\u001b[0;31m         \u001b[0;32mif\u001b[0m \u001b[0myt\u001b[0m\u001b[0;34m.\u001b[0m\u001b[0mshape\u001b[0m\u001b[0;34m[\u001b[0m\u001b[0;36m1\u001b[0m\u001b[0;34m]\u001b[0m \u001b[0;34m!=\u001b[0m \u001b[0mlen\u001b[0m\u001b[0;34m(\u001b[0m\u001b[0mself\u001b[0m\u001b[0;34m.\u001b[0m\u001b[0mclasses_\u001b[0m\u001b[0;34m)\u001b[0m\u001b[0;34m:\u001b[0m\u001b[0;34m\u001b[0m\u001b[0;34m\u001b[0m\u001b[0m\n\u001b[0m\u001b[1;32m    921\u001b[0m             raise ValueError(\n\u001b[1;32m    922\u001b[0m                 \"Expected indicator for {0} classes, but got {1}\".format(\n",
            "\u001b[0;31mAttributeError\u001b[0m: 'list' object has no attribute 'shape'"
          ]
        }
      ]
    }
  ]
}